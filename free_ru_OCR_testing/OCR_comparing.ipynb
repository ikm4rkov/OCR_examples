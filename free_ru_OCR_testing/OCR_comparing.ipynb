{
  "nbformat": 4,
  "nbformat_minor": 0,
  "metadata": {
    "colab": {
      "provenance": [],
      "authorship_tag": "ABX9TyOJFWWJRGN+4v4FpnKtp1Uq",
      "include_colab_link": true
    },
    "kernelspec": {
      "name": "python3",
      "display_name": "Python 3"
    },
    "language_info": {
      "name": "python"
    }
  },
  "cells": [
    {
      "cell_type": "markdown",
      "metadata": {
        "id": "view-in-github",
        "colab_type": "text"
      },
      "source": [
        "<a href=\"https://colab.research.google.com/github/ikm4rkov/OCR_examples/blob/main/OCR_comparing.ipynb\" target=\"_parent\"><img src=\"https://colab.research.google.com/assets/colab-badge.svg\" alt=\"Open In Colab\"/></a>"
      ]
    },
    {
      "cell_type": "markdown",
      "source": [
        "Существует множество (десятки [1]) инструментов для распознавания письменной речи (optical character recognition; OCR), но для данного сравнения будут использованы только бесплатные инструменты с поддержкой русского языка. В сравнении приняли участие Tesseract [2], Easy-OCR [3] и surya [4]."
      ],
      "metadata": {
        "id": "UDhvFf07WLSp"
      }
    },
    {
      "cell_type": "markdown",
      "source": [
        "Алгоритм Tesseract написан на C++ и может быть использован как исполнимый файл."
      ],
      "metadata": {
        "id": "DAWqZzTLYdvL"
      }
    },
    {
      "cell_type": "code",
      "execution_count": 1,
      "metadata": {
        "colab": {
          "base_uri": "https://localhost:8080/"
        },
        "id": "sV2YvvHuV7nH",
        "outputId": "20123523-0c6f-4010-8ae0-7e1bcf6148a7"
      },
      "outputs": [
        {
          "output_type": "stream",
          "name": "stdout",
          "text": [
            "Reading package lists... Done\n",
            "Building dependency tree... Done\n",
            "Reading state information... Done\n",
            "The following additional packages will be installed:\n",
            "  tesseract-ocr-eng tesseract-ocr-osd\n",
            "The following NEW packages will be installed:\n",
            "  tesseract-ocr tesseract-ocr-eng tesseract-ocr-osd\n",
            "0 upgraded, 3 newly installed, 0 to remove and 49 not upgraded.\n",
            "Need to get 4,816 kB of archives.\n",
            "After this operation, 15.6 MB of additional disk space will be used.\n",
            "Get:1 http://archive.ubuntu.com/ubuntu jammy/universe amd64 tesseract-ocr-eng all 1:4.00~git30-7274cfa-1.1 [1,591 kB]\n",
            "Get:2 http://archive.ubuntu.com/ubuntu jammy/universe amd64 tesseract-ocr-osd all 1:4.00~git30-7274cfa-1.1 [2,990 kB]\n",
            "Get:3 http://archive.ubuntu.com/ubuntu jammy/universe amd64 tesseract-ocr amd64 4.1.1-2.1build1 [236 kB]\n",
            "Fetched 4,816 kB in 1s (3,438 kB/s)\n",
            "debconf: unable to initialize frontend: Dialog\n",
            "debconf: (No usable dialog-like program is installed, so the dialog based frontend cannot be used. at /usr/share/perl5/Debconf/FrontEnd/Dialog.pm line 78, <> line 3.)\n",
            "debconf: falling back to frontend: Readline\n",
            "debconf: unable to initialize frontend: Readline\n",
            "debconf: (This frontend requires a controlling tty.)\n",
            "debconf: falling back to frontend: Teletype\n",
            "dpkg-preconfigure: unable to re-open stdin: \n",
            "Selecting previously unselected package tesseract-ocr-eng.\n",
            "(Reading database ... 123623 files and directories currently installed.)\n",
            "Preparing to unpack .../tesseract-ocr-eng_1%3a4.00~git30-7274cfa-1.1_all.deb ...\n",
            "Unpacking tesseract-ocr-eng (1:4.00~git30-7274cfa-1.1) ...\n",
            "Selecting previously unselected package tesseract-ocr-osd.\n",
            "Preparing to unpack .../tesseract-ocr-osd_1%3a4.00~git30-7274cfa-1.1_all.deb ...\n",
            "Unpacking tesseract-ocr-osd (1:4.00~git30-7274cfa-1.1) ...\n",
            "Selecting previously unselected package tesseract-ocr.\n",
            "Preparing to unpack .../tesseract-ocr_4.1.1-2.1build1_amd64.deb ...\n",
            "Unpacking tesseract-ocr (4.1.1-2.1build1) ...\n",
            "Setting up tesseract-ocr-eng (1:4.00~git30-7274cfa-1.1) ...\n",
            "Setting up tesseract-ocr-osd (1:4.00~git30-7274cfa-1.1) ...\n",
            "Setting up tesseract-ocr (4.1.1-2.1build1) ...\n",
            "Processing triggers for man-db (2.10.2-1) ...\n",
            "Reading package lists... Done\n",
            "Building dependency tree... Done\n",
            "Reading state information... Done\n",
            "The following NEW packages will be installed:\n",
            "  tesseract-ocr-rus\n",
            "0 upgraded, 1 newly installed, 0 to remove and 49 not upgraded.\n",
            "Need to get 1,271 kB of archives.\n",
            "After this operation, 3,877 kB of additional disk space will be used.\n",
            "Get:1 http://archive.ubuntu.com/ubuntu jammy/universe amd64 tesseract-ocr-rus all 1:4.00~git30-7274cfa-1.1 [1,271 kB]\n",
            "Fetched 1,271 kB in 1s (1,245 kB/s)\n",
            "debconf: unable to initialize frontend: Dialog\n",
            "debconf: (No usable dialog-like program is installed, so the dialog based frontend cannot be used. at /usr/share/perl5/Debconf/FrontEnd/Dialog.pm line 78, <> line 1.)\n",
            "debconf: falling back to frontend: Readline\n",
            "debconf: unable to initialize frontend: Readline\n",
            "debconf: (This frontend requires a controlling tty.)\n",
            "debconf: falling back to frontend: Teletype\n",
            "dpkg-preconfigure: unable to re-open stdin: \n",
            "Selecting previously unselected package tesseract-ocr-rus.\n",
            "(Reading database ... 123670 files and directories currently installed.)\n",
            "Preparing to unpack .../tesseract-ocr-rus_1%3a4.00~git30-7274cfa-1.1_all.deb ...\n",
            "Unpacking tesseract-ocr-rus (1:4.00~git30-7274cfa-1.1) ...\n",
            "Setting up tesseract-ocr-rus (1:4.00~git30-7274cfa-1.1) ...\n"
          ]
        }
      ],
      "source": [
        "!sudo apt install tesseract-ocr\n",
        "!sudo apt install tesseract-ocr-rus"
      ]
    },
    {
      "cell_type": "markdown",
      "source": [
        "Но также он может быть включен как модуль в Python."
      ],
      "metadata": {
        "id": "d_J9vSGaYogO"
      }
    },
    {
      "cell_type": "code",
      "source": [
        "!pip install pytesseract"
      ],
      "metadata": {
        "colab": {
          "base_uri": "https://localhost:8080/"
        },
        "id": "-I3a5aZIYvyI",
        "outputId": "db6f5087-6a23-446e-e483-fa3479015fa4"
      },
      "execution_count": 2,
      "outputs": [
        {
          "output_type": "stream",
          "name": "stdout",
          "text": [
            "Collecting pytesseract\n",
            "  Downloading pytesseract-0.3.13-py3-none-any.whl.metadata (11 kB)\n",
            "Requirement already satisfied: packaging>=21.3 in /usr/local/lib/python3.10/dist-packages (from pytesseract) (24.1)\n",
            "Requirement already satisfied: Pillow>=8.0.0 in /usr/local/lib/python3.10/dist-packages (from pytesseract) (10.4.0)\n",
            "Downloading pytesseract-0.3.13-py3-none-any.whl (14 kB)\n",
            "Installing collected packages: pytesseract\n",
            "Successfully installed pytesseract-0.3.13\n"
          ]
        }
      ]
    },
    {
      "cell_type": "markdown",
      "source": [
        "Все параметры конфигурационного файла модуля входят имеются в конфигурационном файле исполнимого файла [5], но не все могут быть изменены. Поэтому провариированы только параметры для модуля Python."
      ],
      "metadata": {
        "id": "n_FjbxACaYK3"
      }
    },
    {
      "cell_type": "markdown",
      "source": [
        "Основные параметры модуля Pytesseract [6]:\n",
        "\n",
        "1.   --lang языки распознавания; доступны около 100 языков, в том числе русский, можно совмещать несколько, например '--lang rus+eng'; требует в /usr/share/tesseract-ocr/4.00/tessdata/ модель для каждого языка; по-умолчанию eng\n",
        "2.   --psm (Page Segmentation Mode) режим структуры текста, которую Tesseract ,будет ожидать\n",
        "\n",
        "*   0 ориентация и детекция текста (без распознавания)\n",
        "*   1 автоматическая сегментация страницы с определением ориентации текста\n",
        "*   2 автоматическая сегментация страницы без определения ориентации текста (утверждается, что не работает)\n",
        "*   3 полностью автоматическая сегментация страницы (ожидается одна или несколько колонок текста на фото) без определения ориентации текста; это значение по-умолчанию\n",
        "*   4 текст в виде одного столбца различной ширины\n",
        "*   5 единственный вертикально выровненный блок текста\n",
        "*   6 единственный блок текста\n",
        "*   7 единственная строка\n",
        "*   8 единственное слово\n",
        "*   9 единственное слово в кругу\n",
        "*   10 единственный символ\n",
        "*   11 разрозненный текст в случайном порядке\n",
        "*   12 разрозненный текст в случайном порядке с определением ориентации\n",
        "*   13 единственная строка в \"сыром виде\"\n",
        "\n",
        "3.   --oem (OCR engine Mode) выбор движка для определения, доступны 4 значения:\n",
        "\n",
        "*   0 старый движок Tesseract\n",
        "*   1 нейронные сети LSTM (косвенно по-умолчанию)\n",
        "*   2 старый движок Tesseract и нейронные сети LSTM\n",
        "*   3 выбирает то, что имеется (по-умолчанию)\n",
        "\n",
        "Остальные не влияют на алгоритм, затрагивая только производительность и формат выходных данных.\n",
        "\n",
        "Так как по-умолчанию единственный доступный движок - нейронные сети LSTM, опция --oem принимает единственное значение.\n",
        "\n",
        "Принимая во внимание, что документы, скорее всего, будут на русском и английском языках опции --lang было присвоено значение rus+eng.\n",
        "\n",
        "Для параметра структуры текста были провариированы все значения, кроме 0, для которого невозможно оценить точность разпознавания и 2, так как при этом значении pytesseract не заработал. Для того, чтобы работала ориентация текста необходимо также загрузить osd.traineddata.\n",
        "\n",
        "В качестве тестов были взяты 3 изображения: первое - первый разворот паспорта, второе - тот же разворот, но повернутый на 45 градусов и третий - примерно половина стихотворения Лермонтова \"Бородино\". В качестве метрик точности были выбраны редакционное расстояние по Левенштейну [7] предсказанного текста с предварительно указанным и коэффициент сходства Серенсена (отношение двух мощностей пересечения множеств к сумме мощностей) [8], а в качестве метрики скорости - время работы.\n",
        "\n",
        "\n"
      ],
      "metadata": {
        "id": "MSwacYiecH-Z"
      }
    },
    {
      "cell_type": "code",
      "source": [
        "!pip install Levenshtein"
      ],
      "metadata": {
        "colab": {
          "base_uri": "https://localhost:8080/"
        },
        "id": "zra4Lp0GjOzT",
        "outputId": "6183863e-cda8-40ae-e6ed-b86baf0ace9e"
      },
      "execution_count": 3,
      "outputs": [
        {
          "output_type": "stream",
          "name": "stdout",
          "text": [
            "Collecting Levenshtein\n",
            "  Downloading levenshtein-0.26.1-cp310-cp310-manylinux_2_17_x86_64.manylinux2014_x86_64.whl.metadata (3.2 kB)\n",
            "Collecting rapidfuzz<4.0.0,>=3.9.0 (from Levenshtein)\n",
            "  Downloading rapidfuzz-3.10.1-cp310-cp310-manylinux_2_17_x86_64.manylinux2014_x86_64.whl.metadata (11 kB)\n",
            "Downloading levenshtein-0.26.1-cp310-cp310-manylinux_2_17_x86_64.manylinux2014_x86_64.whl (162 kB)\n",
            "\u001b[2K   \u001b[90m━━━━━━━━━━━━━━━━━━━━━━━━━━━━━━━━━━━━━━━━\u001b[0m \u001b[32m162.6/162.6 kB\u001b[0m \u001b[31m4.0 MB/s\u001b[0m eta \u001b[36m0:00:00\u001b[0m\n",
            "\u001b[?25hDownloading rapidfuzz-3.10.1-cp310-cp310-manylinux_2_17_x86_64.manylinux2014_x86_64.whl (3.1 MB)\n",
            "\u001b[2K   \u001b[90m━━━━━━━━━━━━━━━━━━━━━━━━━━━━━━━━━━━━━━━━\u001b[0m \u001b[32m3.1/3.1 MB\u001b[0m \u001b[31m40.6 MB/s\u001b[0m eta \u001b[36m0:00:00\u001b[0m\n",
            "\u001b[?25hInstalling collected packages: rapidfuzz, Levenshtein\n",
            "Successfully installed Levenshtein-0.26.1 rapidfuzz-3.10.1\n"
          ]
        }
      ]
    },
    {
      "cell_type": "code",
      "source": [
        "import time\n",
        "import cv2\n",
        "import pytesseract\n",
        "import Levenshtein as lev\n",
        "import collections\n",
        "import re\n",
        "from itertools import product\n",
        "\n",
        "image_paths = [\"passport1.png\", \"passport2.jpg\", \"borodino.png\"]\n",
        "ground_truth = {\n",
        "    \"passport1.png\": \"ПАСПОРТ ГРАЖДАНИНА РОССИЙСКОЙ ФЕДЕРАЦИИ\",\n",
        "    \"passport2.jpg\": \"ПАСПОРТ ГРАЖДАНИНА РОССИЙСКОЙ ФЕДЕРАЦИИ\",\n",
        "    \"borodino.png\": \"Бородино стихи М. Ю. Лермонтова -Скажи-ка, дядя, ведь не даром Москва, спаленная пожаром, Франузу отдана? Ведь были ж схватки боевые, Да, говорят, еще какие! Не даром помнит вся Россия Про день Бородина! -Да, были люди в наше время, Не то что нынешнее племя: Богатыри - не вы! Плохая им досталась доля: Немногие вернулись с поля... Не будь на то господня воля, Не отдали б Москвы! Мы долго молча отступали, Досадно было, боя ждали, Ворчали старики: Что ж мы? на зимние квартиры? Не смеют, что ли, командиры Чужие изорвать мундиры О русские штыки? И вот нашли большое поле: Есть разгуляться где на воле! Построили редут. У наших ушки на макушке! Чуть утро осветило пушки И леса синие верхушки - Французы тут как тут. Забил снаряд я в пушку туго И думал: угощу я друга! Постой-ка, брат мусью! Что тут хитрить, пожалуй к бою; Уж мы пойдем ломить стеною, Уж постоим мы головою За родину свою!\"\n",
        "}\n",
        "\n",
        "def clean_text(text):\n",
        "    return re.sub(r'[^\\w\\s]', '', text.lower())\n",
        "\n",
        "def get_word_counter(text):\n",
        "    words = text.split()\n",
        "    return collections.Counter(words)\n",
        "\n",
        "def calculate_word_similarity(text1, text2):\n",
        "    clean_text1 = clean_text(text1)\n",
        "    clean_text2 = clean_text(text2)\n",
        "\n",
        "    counter1 = get_word_counter(clean_text1)\n",
        "    counter2 = get_word_counter(clean_text2)\n",
        "\n",
        "    intersection = sum((counter1 & counter2).values())\n",
        "\n",
        "    similarity = 2 * intersection / (sum(counter1.values()) + sum(counter2.values()))\n",
        "    return similarity\n",
        "\n",
        "def perform_ocr_with_tesseract(image_path, config=\"\"):\n",
        "    image = cv2.imread(image_path)\n",
        "    text = pytesseract.image_to_string(image, lang='rus+eng', config=config)\n",
        "    text = text.replace(\"\\n\", \" \").replace(\"\\r\", \" \").strip()\n",
        "    return text\n",
        "\n",
        "def calculate_levenshtein_distance(reference, hypothesis):\n",
        "    return lev.distance(reference, hypothesis)\n",
        "\n",
        "config_params = {\n",
        "    \"psm\": [1, 3, 4, 5, 6, 7, 8, 9, 10, 11, 12, 13],\n",
        "    \"oem\": [3],\n",
        "}\n",
        "\n",
        "for image_path in image_paths:\n",
        "    print(f\"Обработка изображения: {image_path}\")\n",
        "    ground_truth_text = ground_truth[image_path]\n",
        "\n",
        "    for config_values in product(*config_params.values()):\n",
        "        config_string = \" \".join(\n",
        "            [f\"--{key} {value}\" for key, value in zip(config_params.keys(), config_values)]\n",
        "        )\n",
        "\n",
        "        start_time = time.time()\n",
        "        tesseract_text = perform_ocr_with_tesseract(image_path, config=config_string)\n",
        "        tesseract_time = time.time() - start_time\n",
        "\n",
        "        levenshtein_distance = calculate_levenshtein_distance(ground_truth_text, tesseract_text)\n",
        "\n",
        "        word_similarity = calculate_word_similarity(ground_truth_text, tesseract_text)\n",
        "\n",
        "        print(f\"Конфигурация: {config_string}\")\n",
        "        print(f\"Tesseract OCR - Время: {tesseract_time:.2f} сек\")\n",
        "        print(\"Распознанный текст (Tesseract):\")\n",
        "        print(tesseract_text)\n",
        "        print(f\"Tesseract - Абсолютное расстояние Левенштейна: {levenshtein_distance}\")\n",
        "        print(f\"Tesseract - Сходство по словам (метрика Жаккара): {word_similarity:.4f}\")\n",
        "        print(\"-\" * 50)\n"
      ],
      "metadata": {
        "colab": {
          "base_uri": "https://localhost:8080/"
        },
        "id": "IaHAaUBThsCr",
        "outputId": "d6c122bd-a0f1-4dae-b6e0-99ad00061bf5"
      },
      "execution_count": 5,
      "outputs": [
        {
          "output_type": "stream",
          "name": "stdout",
          "text": [
            "Обработка изображения: passport1.png\n",
            "Конфигурация: --psm 1 --oem 3\n",
            "Tesseract OCR - Время: 0.86 сек\n",
            "Распознанный текст (Tesseract):\n",
            "ГРАЖДАНИНА \\CCUMCKOV ФЕДЕРАЦИИ\n",
            "Tesseract - Абсолютное расстояние Левенштейна: 18\n",
            "Tesseract - Сходство по словам (метрика Жаккара): 0.5714\n",
            "--------------------------------------------------\n",
            "Конфигурация: --psm 3 --oem 3\n",
            "Tesseract OCR - Время: 0.43 сек\n",
            "Распознанный текст (Tesseract):\n",
            "ГРАЖДАНИНА \\CCUMCKOV ФЕДЕРАЦИИ\n",
            "Tesseract - Абсолютное расстояние Левенштейна: 18\n",
            "Tesseract - Сходство по словам (метрика Жаккара): 0.5714\n",
            "--------------------------------------------------\n",
            "Конфигурация: --psm 4 --oem 3\n",
            "Tesseract OCR - Время: 0.46 сек\n",
            "Распознанный текст (Tesseract):\n",
            "ГРАЖДАНИНА \\CCUMCKOV ФЕДЕРАЦИИ\n",
            "Tesseract - Абсолютное расстояние Левенштейна: 18\n",
            "Tesseract - Сходство по словам (метрика Жаккара): 0.5714\n",
            "--------------------------------------------------\n",
            "Конфигурация: --psm 5 --oem 3\n",
            "Tesseract OCR - Время: 2.04 сек\n",
            "Распознанный текст (Tesseract):\n",
            "S, а А | 235 ae ЕЕ № Be a и Я Sp pe tae ee 2 oe №. м a OO Е | a ESL LL ei\n",
            "Tesseract - Абсолютное расстояние Левенштейна: 68\n",
            "Tesseract - Сходство по словам (метрика Жаккара): 0.0000\n",
            "--------------------------------------------------\n",
            "Конфигурация: --psm 6 --oem 3\n",
            "Tesseract OCR - Время: 2.21 сек\n",
            "Распознанный текст (Tesseract):\n",
            "ait | 7  ИИА ниве м : | a в Е. бы i в {ee a  ae 7 г © Е НЕЕ Са НИЕ i: i Se SEALS | poceuncxor ии | oe dee LGA Whey pele hahaa -\n",
            "Tesseract - Абсолютное расстояние Левенштейна: 120\n",
            "Tesseract - Сходство по словам (метрика Жаккара): 0.0000\n",
            "--------------------------------------------------\n",
            "Конфигурация: --psm 7 --oem 3\n",
            "Tesseract OCR - Время: 0.31 сек\n",
            "Распознанный текст (Tesseract):\n",
            "| =\n",
            "Tesseract - Абсолютное расстояние Левенштейна: 38\n",
            "Tesseract - Сходство по словам (метрика Жаккара): 0.0000\n",
            "--------------------------------------------------\n",
            "Конфигурация: --psm 8 --oem 3\n",
            "Tesseract OCR - Время: 0.39 сек\n",
            "Распознанный текст (Tesseract):\n",
            "ef\n",
            "Tesseract - Абсолютное расстояние Левенштейна: 39\n",
            "Tesseract - Сходство по словам (метрика Жаккара): 0.0000\n",
            "--------------------------------------------------\n",
            "Конфигурация: --psm 9 --oem 3\n",
            "Tesseract OCR - Время: 0.32 сек\n",
            "Распознанный текст (Tesseract):\n",
            "=\n",
            "Tesseract - Абсолютное расстояние Левенштейна: 39\n",
            "Tesseract - Сходство по словам (метрика Жаккара): 0.0000\n",
            "--------------------------------------------------\n",
            "Конфигурация: --psm 10 --oem 3\n",
            "Tesseract OCR - Время: 0.38 сек\n",
            "Распознанный текст (Tesseract):\n",
            "ef\n",
            "Tesseract - Абсолютное расстояние Левенштейна: 39\n",
            "Tesseract - Сходство по словам (метрика Жаккара): 0.0000\n",
            "--------------------------------------------------\n",
            "Конфигурация: --psm 11 --oem 3\n",
            "Tesseract OCR - Время: 0.44 сек\n",
            "Распознанный текст (Tesseract):\n",
            "аи  \\CCUMCKOY  ГРАЖ,  НИНА  ФЕДЕРАЦИИ\n",
            "Tesseract - Абсолютное расстояние Левенштейна: 27\n",
            "Tesseract - Сходство по словам (метрика Жаккара): 0.2222\n",
            "--------------------------------------------------\n",
            "Конфигурация: --psm 12 --oem 3\n",
            "Tesseract OCR - Время: 0.58 сек\n",
            "Распознанный текст (Tesseract):\n",
            "а  \\CCUMCKOY  ГРАЖ,  НИНА  ФЕДЕРАЦИИ\n",
            "Tesseract - Абсолютное расстояние Левенштейна: 26\n",
            "Tesseract - Сходство по словам (метрика Жаккара): 0.2222\n",
            "--------------------------------------------------\n",
            "Конфигурация: --psm 13 --oem 3\n",
            "Tesseract OCR - Время: 0.40 сек\n",
            "Распознанный текст (Tesseract):\n",
            "ef\n",
            "Tesseract - Абсолютное расстояние Левенштейна: 39\n",
            "Tesseract - Сходство по словам (метрика Жаккара): 0.0000\n",
            "--------------------------------------------------\n",
            "Обработка изображения: passport2.jpg\n",
            "Конфигурация: --psm 1 --oem 3\n",
            "Tesseract OCR - Время: 0.92 сек\n",
            "Распознанный текст (Tesseract):\n",
            "\n",
            "Tesseract - Абсолютное расстояние Левенштейна: 39\n",
            "Tesseract - Сходство по словам (метрика Жаккара): 0.0000\n",
            "--------------------------------------------------\n",
            "Конфигурация: --psm 3 --oem 3\n",
            "Tesseract OCR - Время: 0.84 сек\n",
            "Распознанный текст (Tesseract):\n",
            "\n",
            "Tesseract - Абсолютное расстояние Левенштейна: 39\n",
            "Tesseract - Сходство по словам (метрика Жаккара): 0.0000\n",
            "--------------------------------------------------\n",
            "Конфигурация: --psm 4 --oem 3\n",
            "Tesseract OCR - Время: 0.97 сек\n",
            "Распознанный текст (Tesseract):\n",
            "\n",
            "Tesseract - Абсолютное расстояние Левенштейна: 39\n",
            "Tesseract - Сходство по словам (метрика Жаккара): 0.0000\n",
            "--------------------------------------------------\n",
            "Конфигурация: --psm 5 --oem 3\n",
            "Tesseract OCR - Время: 3.80 сек\n",
            "Распознанный текст (Tesseract):\n",
            "= ый и 4 = ; ‚5 3. o = ey | Е — \\ и. к. ; : | . т 5 ши. *  a | ; Sac \\\\ ‘ae ee \\ “ate |  $ хо м ¥ д wo \\ y =>. \\ и. = :  с Те А д  Е ~ as i > | он ; x  ‘ == А aN al А  ees eS A vera en м  ‚ ми. с\n",
            "Tesseract - Абсолютное расстояние Левенштейна: 189\n",
            "Tesseract - Сходство по словам (метрика Жаккара): 0.0000\n",
            "--------------------------------------------------\n",
            "Конфигурация: --psm 6 --oem 3\n",
            "Tesseract OCR - Время: 3.85 сек\n",
            "Распознанный текст (Tesseract):\n",
            "\\ \\ \\ \\ \\  у \\  \\  Oat, :  А _ еее \\ yi  Sapna Ч = Г Sh м  uw * Woot С \\ А АМИ МУ eB Ja \\ у» ЖА oEh . — \\ ИИС = . = \\№ 290 \\ не eee BR = i А } м (2 ~~ Ae i SS i ое > BO ih oe aoe Ye\n",
            "Tesseract - Абсолютное расстояние Левенштейна: 170\n",
            "Tesseract - Сходство по словам (метрика Жаккара): 0.0000\n",
            "--------------------------------------------------\n",
            "Конфигурация: --psm 7 --oem 3\n",
            "Tesseract OCR - Время: 1.48 сек\n",
            "Распознанный текст (Tesseract):\n",
            "re\n",
            "Tesseract - Абсолютное расстояние Левенштейна: 39\n",
            "Tesseract - Сходство по словам (метрика Жаккара): 0.0000\n",
            "--------------------------------------------------\n",
            "Конфигурация: --psm 8 --oem 3\n",
            "Tesseract OCR - Время: 1.50 сек\n",
            "Распознанный текст (Tesseract):\n",
            "РА\n",
            "Tesseract - Абсолютное расстояние Левенштейна: 37\n",
            "Tesseract - Сходство по словам (метрика Жаккара): 0.0000\n",
            "--------------------------------------------------\n",
            "Конфигурация: --psm 9 --oem 3\n",
            "Tesseract OCR - Время: 1.33 сек\n",
            "Распознанный текст (Tesseract):\n",
            "ee\n",
            "Tesseract - Абсолютное расстояние Левенштейна: 39\n",
            "Tesseract - Сходство по словам (метрика Жаккара): 0.0000\n",
            "--------------------------------------------------\n",
            "Конфигурация: --psm 10 --oem 3\n",
            "Tesseract OCR - Время: 2.06 сек\n",
            "Распознанный текст (Tesseract):\n",
            "“>\n",
            "Tesseract - Абсолютное расстояние Левенштейна: 39\n",
            "Tesseract - Сходство по словам (метрика Жаккара): 0.0000\n",
            "--------------------------------------------------\n",
            "Конфигурация: --psm 11 --oem 3\n",
            "Tesseract OCR - Время: 1.30 сек\n",
            "Распознанный текст (Tesseract):\n",
            "Wnt  wh  ye  pa  ght  т  pr  И  ck  cuw  \\ 20°  a  oe\n",
            "Tesseract - Абсолютное расстояние Левенштейна: 49\n",
            "Tesseract - Сходство по словам (метрика Жаккара): 0.0000\n",
            "--------------------------------------------------\n",
            "Конфигурация: --psm 12 --oem 3\n",
            "Tesseract OCR - Время: 1.35 сек\n",
            "Распознанный текст (Tesseract):\n",
            "Wnt  wh  ye  pa  о  rea  i ской  \\ goce™  #5  oe\n",
            "Tesseract - Абсолютное расстояние Левенштейна: 45\n",
            "Tesseract - Сходство по словам (метрика Жаккара): 0.0000\n",
            "--------------------------------------------------\n",
            "Конфигурация: --psm 13 --oem 3\n",
            "Tesseract OCR - Время: 1.50 сек\n",
            "Распознанный текст (Tesseract):\n",
            "РА\n",
            "Tesseract - Абсолютное расстояние Левенштейна: 37\n",
            "Tesseract - Сходство по словам (метрика Жаккара): 0.0000\n",
            "--------------------------------------------------\n",
            "Обработка изображения: borodino.png\n",
            "Конфигурация: --psm 1 --oem 3\n",
            "Tesseract OCR - Время: 4.72 сек\n",
            "Распознанный текст (Tesseract):\n",
            "OBES 2 ©  6 Boponthd стихи М. Ю. Лермонтова у  — Скажи-ка, дядя, ведь не даром  Москва, спаленная пожаром, Французу отдана?  Ведь были ж схватки боевые,  Да, говорят, еще какие! Недаром помнит вся Россия Про день Бородина!  — Да, были люди в наше время,  Не то, что нынешнее племя: Богатыри — не вы! Плохая им досталась доля:  Немногие вернулись с поля...  0  Ч. ж мы? на зимние квартиры?  Не смеют, что ли, командиры Чужие изорвать мундиры  О русские штыки?»  И вот нашли большое поле: Есть разгуляться где на воле! Построили редут.  У наших ушки на макушке! Чуть утро осветило пушки  И леса синие верхушки — Французы тут как тут.  Забил заряд я в пушку туго И думал: угощу я друга! Постой-ка, брат мусью!                              Что тут хитрить, пожалуй к бою; Уж мы пойдем ломить стеною, Уж постоим мы головою  За родину свою!  = (CH  HOO  Не будь на то господня воля,  Не отдали б Москвы!  Мы долго молча отступали, осадно было, боя ждали,  Ворчалиивгарики:  > OG                                    OS a 51553]\n",
            "Tesseract - Абсолютное расстояние Левенштейна: 378\n",
            "Tesseract - Сходство по словам (метрика Жаккара): 0.9137\n",
            "--------------------------------------------------\n",
            "Конфигурация: --psm 3 --oem 3\n",
            "Tesseract OCR - Время: 6.00 сек\n",
            "Распознанный текст (Tesseract):\n",
            "OBES 2 ©  6 Boponthd стихи М. Ю. Лермонтова у  — Скажи-ка, дядя, ведь не даром  Москва, спаленная пожаром, Французу отдана?  Ведь были ж схватки боевые,  Да, говорят, еще какие! Недаром помнит вся Россия Про день Бородина!  — Да, были люди в наше время,  Не то, что нынешнее племя: Богатыри — не вы! Плохая им досталась доля:  Немногие вернулись с поля...  0  Ч. ж мы? на зимние квартиры?  Не смеют, что ли, командиры Чужие изорвать мундиры  О русские штыки?»  И вот нашли большое поле: Есть разгуляться где на воле! Построили редут.  У наших ушки на макушке! Чуть утро осветило пушки  И леса синие верхушки — Французы тут как тут.  Забил заряд я в пушку туго И думал: угощу я друга! Постой-ка, брат мусью!                              Что тут хитрить, пожалуй к бою; Уж мы пойдем ломить стеною, Уж постоим мы головою  За родину свою!  = (CH  HOO  Не будь на то господня воля,  Не отдали б Москвы!  Мы долго молча отступали, осадно было, боя ждали,  Ворчалиивгарики:  > OG                                    OS a 51553]\n",
            "Tesseract - Абсолютное расстояние Левенштейна: 378\n",
            "Tesseract - Сходство по словам (метрика Жаккара): 0.9137\n",
            "--------------------------------------------------\n",
            "Конфигурация: --psm 4 --oem 3\n",
            "Tesseract OCR - Время: 3.84 сек\n",
            "Распознанный текст (Tesseract):\n",
            "As > = CRUE 2 COEF     apa  2 стихи М. Ю. Лермонтова Ч а, ж мы? на зимние квартиры?  Не смеют, что ли, командиры — Скажи-ка, дядя, ведь не даром Чужие изорвать мундиры Москва, спаленная пожаром, О русские штыки?» Французу отдана? И вот нашли большое поле: Ведь были ж схватки боевые, Есть разгуляться где на воле! Да, говорят, еще какие! Построили редут. Недаром помнит вся Россия У наших ушки на макушке! Про день Бородина! Чуть утро осветило пушки — Да, были люди в наше время, И леса синие верхушки — Не то, что нынешнее племя: Французы тут как тут. Богатыри — не вы! Забил заряд я в пушку туго Плохая им досталась доля: И думал: угощу я друга! Немногие вернулись с поля... Постой-ка, брат мусью! Не будь на то господня воля, Что тут хитрить, пожалуй к бою; Не отдали б Москвы! Уж мы пойдем ломить стеною, Мы долго молча отступали, Уж постоим мы головою осадно было, боя ждали, За родину свою!  j у арики: (> <) Sl  yw) (© Ло =\n",
            "Tesseract - Абсолютное расстояние Левенштейна: 721\n",
            "Tesseract - Сходство по словам (метрика Жаккара): 0.9137\n",
            "--------------------------------------------------\n",
            "Конфигурация: --psm 5 --oem 3\n",
            "Tesseract OCR - Время: 13.49 сек\n",
            "Распознанный текст (Tesseract):\n",
            "~ Бр aS 2 Yel ee — ОКОН А №: < — < с ra - 9) 2 «Я ) се 1 52. & . i= у Е ; eg Ag Wes Fe 5 oie С Ще ЕЕ BS Bs 2 = 5 € N@ #22 28 22 | Pua Bog Meat SS мае ЕЯ рн рые ая { < ЕН оч ЕНРЫЕЕ a В BS2,.82 #58 P8888 28 he” < ВЕНЕ 28p5R Foes 8 SS FF) Be 2Sence ekg eet t ee _ OS ОЕ НЫНЕ 2 (©, ЕЕ ЕЕ ЕЕ © a (Sp REE EOE SL Ho Gs 20 Zo Y BR oe 5 Ad = АО еб ЖЕ ЕЕ ЕЕ СИ 4 ВОВЕ ЕЕВС 3 dt SOR ERE SEER BC нина < €} ViPors&aFs6Snk Ya? Го у Е В е У a 8 а > ~ WY ВЕ ба В ций = г) Е о я Я яя но Вх с \\ 67 в аа 5 об Нея ЗЕ Е = a ae Ее J < $ 22 би обо ванн & > и а $S$ena8—2.88e32% 6) CF к Esg¢ge ЕЯ ERROS. & ode Е ВЕЕР CY > я RERSCESER PERC SES EC, , a 5 г = zB), a8 ЛО GEEREEREE| REC! © AS) S sop E ASA REESE Eo | АЯ Е: 2 кн BEELER SELES ES SEG РЕ ЕЕ ЕЕ a ss В ЗОНЕ | АЕ З 5 a ( => = > OSA eS. ) 5 (Ce <”) 32) SSH S a a —— —\n",
            "Tesseract - Абсолютное расстояние Левенштейна: 747\n",
            "Tesseract - Сходство по словам (метрика Жаккара): 0.0503\n",
            "--------------------------------------------------\n",
            "Конфигурация: --psm 6 --oem 3\n",
            "Tesseract OCR - Время: 8.70 сек\n",
            "Распознанный текст (Tesseract):\n",
            "ОР „СОНИ. © SLOAN a оО ^ ` и вареный Cv) ar VU oun: У rx у стихи М. Ю. Лермонтова т то ж мы? на зимние квартиры? у е смеют, что ли, командиры w ‘ у — Скажи-ка, дядя, ведь не даром Чужие изорвать мундиры у fs Москва, спаленная пожаром, О русские штыки?» (PN . a Французу отдана? И вот нашли большое поле: or Ц и У Ведь были ж схватки боевые, Есть разгуляться где на воле! | < \\{3 Да, говорят, еще какие! Построили редут. ; YP cA Недаром помнит вся Россия У наших ушки на макушке! у у Про день Бородина! Чуть утро осветило пушки Y th — Да, были люди в наше время, И леса синие верхушки — к, \\4) Не то, что нынешнее племя: Французы тут как тут. 7 5 G Богатыри — не вы! Забил заряд я в пушку туго о 4 \\? Плохая им досталась доля: И думал: угощу я друга! 1 x « Немногие вернулись с поля... Постой-ка, брат мусью! e Я | \\\\>7) Не будь на то господня воля, Что тут хитрить, пожалуй к бою; ty] INS He отдали б Москвы! Уж мы пойдем ломить стеною, we A) |\\ Мы долго молча отступали, Уж постоим мы головою ji ® осадно было, боя ждали, За родину свою! Га о Г В, > = 5 © р я АЙ о Пос ОсОО\n",
            "Tesseract - Абсолютное расстояние Левенштейна: 808\n",
            "Tesseract - Сходство по словам (метрика Жаккара): 0.7812\n",
            "--------------------------------------------------\n",
            "Конфигурация: --psm 7 --oem 3\n",
            "Tesseract OCR - Время: 0.43 сек\n",
            "Распознанный текст (Tesseract):\n",
            "\n",
            "Tesseract - Абсолютное расстояние Левенштейна: 888\n",
            "Tesseract - Сходство по словам (метрика Жаккара): 0.0000\n",
            "--------------------------------------------------\n",
            "Конфигурация: --psm 8 --oem 3\n",
            "Tesseract OCR - Время: 0.72 сек\n",
            "Распознанный текст (Tesseract):\n",
            "ЕЕ\n",
            "Tesseract - Абсолютное расстояние Левенштейна: 887\n",
            "Tesseract - Сходство по словам (метрика Жаккара): 0.0000\n",
            "--------------------------------------------------\n",
            "Конфигурация: --psm 9 --oem 3\n",
            "Tesseract OCR - Время: 0.57 сек\n",
            "Распознанный текст (Tesseract):\n",
            "Е.\n",
            "Tesseract - Абсолютное расстояние Левенштейна: 886\n",
            "Tesseract - Сходство по словам (метрика Жаккара): 0.0000\n",
            "--------------------------------------------------\n",
            "Конфигурация: --psm 10 --oem 3\n",
            "Tesseract OCR - Время: 0.72 сек\n",
            "Распознанный текст (Tesseract):\n",
            "ЕЕ\n",
            "Tesseract - Абсолютное расстояние Левенштейна: 887\n",
            "Tesseract - Сходство по словам (метрика Жаккара): 0.0000\n",
            "--------------------------------------------------\n",
            "Конфигурация: --psm 11 --oem 3\n",
            "Tesseract OCR - Время: 4.34 сек\n",
            "Распознанный текст (Tesseract):\n",
            "<  y  (OCS  <;  uy  Bi  opomnad  9.  Ч. ж мы? на зимние квартиры?  стихи М. Ю. Лермонтова  Не смеют, что ли, командиры  — Скажи-ка, дядя, ведь не даром  Чужие изорвать мундиры  Москва, спаленная пожаром,  О русские штыки?»  и“  И вот нашли большое поле  Французу отдана?  \"a  Ведь были ж схватки боевые.  Есть разгуляться где на воле!  vs  ary  Построили редут.  Да, говорят, еще какие!  Cy  Недаром помнит вся Россия  У наших ушки на макушке!  Чуть утро осветило пушки  Про день Бородина!  — Да, были люди в наше время,  И леса синие верхушки —  Не то, что нынешнее племя  Французы тут как тут.  Богатыри — не вы!  Забил заряд я в пушку туго  Плохая им досталась доля  И думал: угощу я друга!  6  (6)  4,  Немногие вернулись с поля  Постой-ка, брат мусью!  ея  Не будь на то господня воля.  Что тут хитрить, пожалуй к бою;  К  >  Уж мы пойдем ломить стеною  Ye  Не отдали б Москвы!  Г  Мы долго молча отступали,  Уж постоим мы головою  осадно было, боя ждали,  За родину свою!  Ворчал  арики:  2. С  ет  (р  SING  ie.  OG  SV  STUDENTA.RU\n",
            "Tesseract - Абсолютное расстояние Левенштейна: 793\n",
            "Tesseract - Сходство по словам (метрика Жаккара): 0.8693\n",
            "--------------------------------------------------\n",
            "Конфигурация: --psm 12 --oem 3\n",
            "Tesseract OCR - Время: 7.14 сек\n",
            "Распознанный текст (Tesseract):\n",
            "JN  sf  Py  <»  tS  50  KG #7  ©  Bi  opomnad  iS)  9.  Ч. ж мы? на зимние квартиры  стихи М. Ю. Лермонтова  Не смеют, что ли, командиры  сс  — Скажи-ка, дядя, ведь не даром  Чужие изорвать мундиры  Москва, спаленная пожаром,  О русские штыки?»  и“  И вот нашли большое поле  Французу отдана?  A  \"a  Ведь были ж схватки боевые.  Есть разгуляться где на воле!  vs  Mey  Построили редут.  Да, говорят, еще какие!  Недаром помнит вся Россия  У наших ушки на макушке!  )  Чуть утро осветило пушки  р  Про день Бородина!  — Да, были люди в наше время,  И леса синие верхушки —  ыы  Не то, что нынешнее племя  Французы тут как тут.  Богатыри — не вы!  Забил заряд я в пушку туго  2  Плохая им досталась доля  И думал: угощу я друга!  ¢  (6)  ‘4  Немногие вернулись с поля  Постой-ка, брат мусью!  е7  }  Не будь на то господня воля.  Что тут хитрить, пожалуй к бою;  К  №  Уж мы пойдем ломить стеною  Ye  Не отдали б Москвы!  Г  Мы долго молча отступали,  Уж постоим мы головою  осадно было, боя ждали,  За родину свою!  eC)  Ворчал  арики:  a  a  ak  }  fr  (©)  oe? OG  OG  CHO)  Sa  NSS  Е  Sie)  [=]  m  LEE)\n",
            "Tesseract - Абсолютное расстояние Левенштейна: 834\n",
            "Tesseract - Сходство по словам (метрика Жаккара): 0.8338\n",
            "--------------------------------------------------\n",
            "Конфигурация: --psm 13 --oem 3\n",
            "Tesseract OCR - Время: 0.73 сек\n",
            "Распознанный текст (Tesseract):\n",
            "ЕЕ\n",
            "Tesseract - Абсолютное расстояние Левенштейна: 887\n",
            "Tesseract - Сходство по словам (метрика Жаккара): 0.0000\n",
            "--------------------------------------------------\n"
          ]
        }
      ]
    },
    {
      "cell_type": "markdown",
      "source": [
        "Структура текста во всех трех случаях может быть описана как одна или несколько колонок, за исключением passport2.jpg, где текст повернут на 45 градусов, поэтому ожидаемо --psm 3 в первом и третьем текстах показали лучшую точность (наименьшее редакционное расстояние) и примерно лучшую скорость (--psm 1 способен распознать ту же структуру, как у --psm 3, но обычно за бОльшее время). Для текста \"Бородино\" около 92% всех слов распознались верно. Тем не менее, даже при определении ориентации текста, модуль Tesseract не смог правильно распознать повернутый на 45 градусов текст, одну букву смогли распознать только опции с рассеяным текстом."
      ],
      "metadata": {
        "id": "DrXL-LT7j4aK"
      }
    },
    {
      "cell_type": "code",
      "source": [
        "!pip install easyocr"
      ],
      "metadata": {
        "colab": {
          "base_uri": "https://localhost:8080/"
        },
        "id": "A-5lQXLclHqq",
        "outputId": "e3a594e7-9b9f-47b2-d286-c69a79535110"
      },
      "execution_count": 6,
      "outputs": [
        {
          "output_type": "stream",
          "name": "stdout",
          "text": [
            "Collecting easyocr\n",
            "  Downloading easyocr-1.7.2-py3-none-any.whl.metadata (10 kB)\n",
            "Requirement already satisfied: torch in /usr/local/lib/python3.10/dist-packages (from easyocr) (2.5.0+cu121)\n",
            "Requirement already satisfied: torchvision>=0.5 in /usr/local/lib/python3.10/dist-packages (from easyocr) (0.20.0+cu121)\n",
            "Requirement already satisfied: opencv-python-headless in /usr/local/lib/python3.10/dist-packages (from easyocr) (4.10.0.84)\n",
            "Requirement already satisfied: scipy in /usr/local/lib/python3.10/dist-packages (from easyocr) (1.13.1)\n",
            "Requirement already satisfied: numpy in /usr/local/lib/python3.10/dist-packages (from easyocr) (1.26.4)\n",
            "Requirement already satisfied: Pillow in /usr/local/lib/python3.10/dist-packages (from easyocr) (10.4.0)\n",
            "Requirement already satisfied: scikit-image in /usr/local/lib/python3.10/dist-packages (from easyocr) (0.24.0)\n",
            "Collecting python-bidi (from easyocr)\n",
            "  Downloading python_bidi-0.6.3-cp310-cp310-manylinux_2_17_x86_64.manylinux2014_x86_64.whl.metadata (4.9 kB)\n",
            "Requirement already satisfied: PyYAML in /usr/local/lib/python3.10/dist-packages (from easyocr) (6.0.2)\n",
            "Requirement already satisfied: Shapely in /usr/local/lib/python3.10/dist-packages (from easyocr) (2.0.6)\n",
            "Collecting pyclipper (from easyocr)\n",
            "  Downloading pyclipper-1.3.0.post6-cp310-cp310-manylinux_2_12_x86_64.manylinux2010_x86_64.whl.metadata (9.0 kB)\n",
            "Collecting ninja (from easyocr)\n",
            "  Downloading ninja-1.11.1.1-py2.py3-none-manylinux1_x86_64.manylinux_2_5_x86_64.whl.metadata (5.3 kB)\n",
            "Requirement already satisfied: filelock in /usr/local/lib/python3.10/dist-packages (from torch->easyocr) (3.16.1)\n",
            "Requirement already satisfied: typing-extensions>=4.8.0 in /usr/local/lib/python3.10/dist-packages (from torch->easyocr) (4.12.2)\n",
            "Requirement already satisfied: networkx in /usr/local/lib/python3.10/dist-packages (from torch->easyocr) (3.4.2)\n",
            "Requirement already satisfied: jinja2 in /usr/local/lib/python3.10/dist-packages (from torch->easyocr) (3.1.4)\n",
            "Requirement already satisfied: fsspec in /usr/local/lib/python3.10/dist-packages (from torch->easyocr) (2024.10.0)\n",
            "Requirement already satisfied: sympy==1.13.1 in /usr/local/lib/python3.10/dist-packages (from torch->easyocr) (1.13.1)\n",
            "Requirement already satisfied: mpmath<1.4,>=1.1.0 in /usr/local/lib/python3.10/dist-packages (from sympy==1.13.1->torch->easyocr) (1.3.0)\n",
            "Requirement already satisfied: imageio>=2.33 in /usr/local/lib/python3.10/dist-packages (from scikit-image->easyocr) (2.36.0)\n",
            "Requirement already satisfied: tifffile>=2022.8.12 in /usr/local/lib/python3.10/dist-packages (from scikit-image->easyocr) (2024.9.20)\n",
            "Requirement already satisfied: packaging>=21 in /usr/local/lib/python3.10/dist-packages (from scikit-image->easyocr) (24.1)\n",
            "Requirement already satisfied: lazy-loader>=0.4 in /usr/local/lib/python3.10/dist-packages (from scikit-image->easyocr) (0.4)\n",
            "Requirement already satisfied: MarkupSafe>=2.0 in /usr/local/lib/python3.10/dist-packages (from jinja2->torch->easyocr) (3.0.2)\n",
            "Downloading easyocr-1.7.2-py3-none-any.whl (2.9 MB)\n",
            "\u001b[2K   \u001b[90m━━━━━━━━━━━━━━━━━━━━━━━━━━━━━━━━━━━━━━━━\u001b[0m \u001b[32m2.9/2.9 MB\u001b[0m \u001b[31m32.7 MB/s\u001b[0m eta \u001b[36m0:00:00\u001b[0m\n",
            "\u001b[?25hDownloading ninja-1.11.1.1-py2.py3-none-manylinux1_x86_64.manylinux_2_5_x86_64.whl (307 kB)\n",
            "\u001b[2K   \u001b[90m━━━━━━━━━━━━━━━━━━━━━━━━━━━━━━━━━━━━━━━━\u001b[0m \u001b[32m307.2/307.2 kB\u001b[0m \u001b[31m21.0 MB/s\u001b[0m eta \u001b[36m0:00:00\u001b[0m\n",
            "\u001b[?25hDownloading pyclipper-1.3.0.post6-cp310-cp310-manylinux_2_12_x86_64.manylinux2010_x86_64.whl (912 kB)\n",
            "\u001b[2K   \u001b[90m━━━━━━━━━━━━━━━━━━━━━━━━━━━━━━━━━━━━━━━━\u001b[0m \u001b[32m912.2/912.2 kB\u001b[0m \u001b[31m42.9 MB/s\u001b[0m eta \u001b[36m0:00:00\u001b[0m\n",
            "\u001b[?25hDownloading python_bidi-0.6.3-cp310-cp310-manylinux_2_17_x86_64.manylinux2014_x86_64.whl (286 kB)\n",
            "\u001b[2K   \u001b[90m━━━━━━━━━━━━━━━━━━━━━━━━━━━━━━━━━━━━━━━━\u001b[0m \u001b[32m286.8/286.8 kB\u001b[0m \u001b[31m20.9 MB/s\u001b[0m eta \u001b[36m0:00:00\u001b[0m\n",
            "\u001b[?25hInstalling collected packages: python-bidi, pyclipper, ninja, easyocr\n",
            "Successfully installed easyocr-1.7.2 ninja-1.11.1.1 pyclipper-1.3.0.post6 python-bidi-0.6.3\n"
          ]
        }
      ]
    },
    {
      "cell_type": "code",
      "source": [
        "import time\n",
        "import easyocr\n",
        "import Levenshtein as lev\n",
        "import re\n",
        "import collections\n",
        "\n",
        "image_paths = [\"passport1.png\", \"passport2.jpg\", \"borodino.png\"]\n",
        "ground_truth = {\n",
        "    \"passport1.png\": \"ПАСПОРТ ГРАЖДАНИНА РОССИЙСКОЙ ФЕДЕРАЦИИ\",\n",
        "    \"passport2.jpg\": \"ПАСПОРТ ГРАЖДАНИНА РОССИЙСКОЙ ФЕДЕРАЦИИ\",\n",
        "    \"borodino.png\": \"Бородино стихи М. Ю. Лермонтова -Скажи-ка, дядя, ведь не даром Москва, спаленная пожаром, Франузу отдана? Ведь были ж схватки боевые, Да, говорят, еще какие! Не даром помнит вся Россия Про день Бородина! -Да, были люди в наше время, Не то что нынешнее племя: Богатыри - не вы! Плохая им досталась доля: Немногие вернулись с поля... Не будь на то господня воля, Не отдали б Москвы! Мы долго молча отступали, Досадно было, боя ждали, Ворчали старики: Что ж мы? на зимние квартиры? Не смеют, что ли, командиры Чужие изорвать мундиры О русские штыки? И вот нашли большое поле: Есть разгуляться где на воле! Построили редут. У наших ушки на макушке! Чуть утро осветило пушки И леса синие верхушки - Французы тут как тут. Забил снаряд я в пушку туго И думал: угощу я друга! Постой-ка, брат мусью! Что тут хитрить, пожалуй к бою; Уж мы пойдем ломить стеною, Уж постоим мы головою За родину свою!\"\n",
        "}\n",
        "\n",
        "def clean_text(text):\n",
        "    return re.sub(r'[^\\w\\s]', '', text.lower())\n",
        "\n",
        "def get_word_counter(text):\n",
        "    words = text.split()\n",
        "    return collections.Counter(words)\n",
        "\n",
        "def calculate_jaccard_similarity(text1, text2):\n",
        "    clean_text1 = clean_text(text1)\n",
        "    clean_text2 = clean_text(text2)\n",
        "    counter1 = get_word_counter(clean_text1)\n",
        "    counter2 = get_word_counter(clean_text2)\n",
        "    intersection = sum((counter1 & counter2).values())\n",
        "    similarity = 2 * intersection / (sum(counter1.values()) + sum(counter2.values()))\n",
        "    return similarity\n",
        "\n",
        "def perform_ocr_with_easyocr(image_path):\n",
        "    reader = easyocr.Reader(['ru'])\n",
        "    result = reader.readtext(image_path)\n",
        "    text = \" \".join([res[1] for res in result])\n",
        "    text = text.replace(\"\\n\", \" \").replace(\"\\r\", \" \").strip()\n",
        "    return text\n",
        "\n",
        "def calculate_levenshtein_distance(reference, hypothesis):\n",
        "    return lev.distance(reference, hypothesis)\n",
        "\n",
        "for image_path in image_paths:\n",
        "    print(f\"Обработка изображения: {image_path}\")\n",
        "    ground_truth_text = ground_truth[image_path]\n",
        "\n",
        "    start_time = time.time()\n",
        "    easyocr_text = perform_ocr_with_easyocr(image_path)\n",
        "    easyocr_time = time.time() - start_time\n",
        "\n",
        "    levenshtein_distance = calculate_levenshtein_distance(ground_truth_text, easyocr_text)\n",
        "    jaccard_similarity = calculate_jaccard_similarity(ground_truth_text, easyocr_text)\n",
        "\n",
        "    print(f\"EasyOCR - Время: {easyocr_time:.2f} сек\")\n",
        "    print(\"Распознанный текст (EasyOCR):\")\n",
        "    print(easyocr_text)\n",
        "    print(f\"EasyOCR - Абсолютное расстояние Левенштейна: {levenshtein_distance}\")\n",
        "    print(f\"EasyOCR - Сходство по словам (Жаккар): {jaccard_similarity:.4f}\")\n",
        "    print(\"-\" * 50)"
      ],
      "metadata": {
        "colab": {
          "base_uri": "https://localhost:8080/"
        },
        "id": "3CWc8ZqYmEtf",
        "outputId": "c5cf61c3-662a-40cf-893c-18cd34b65aec"
      },
      "execution_count": 7,
      "outputs": [
        {
          "output_type": "stream",
          "name": "stderr",
          "text": [
            "WARNING:easyocr.easyocr:Neither CUDA nor MPS are available - defaulting to CPU. Note: This module is much faster with a GPU.\n",
            "WARNING:easyocr.easyocr:Downloading detection model, please wait. This may take several minutes depending upon your network connection.\n"
          ]
        },
        {
          "output_type": "stream",
          "name": "stdout",
          "text": [
            "Обработка изображения: passport1.png\n",
            "Progress: |██████████████████████████████████████████████████| 100.0% Complete"
          ]
        },
        {
          "output_type": "stream",
          "name": "stderr",
          "text": [
            "WARNING:easyocr.easyocr:Downloading recognition model, please wait. This may take several minutes depending upon your network connection.\n"
          ]
        },
        {
          "output_type": "stream",
          "name": "stdout",
          "text": [
            "Progress: |██████████████████████████████████████████████████| 100.1% Complete"
          ]
        },
        {
          "output_type": "stream",
          "name": "stderr",
          "text": [
            "WARNING:easyocr.easyocr:Neither CUDA nor MPS are available - defaulting to CPU. Note: This module is much faster with a GPU.\n"
          ]
        },
        {
          "output_type": "stream",
          "name": "stdout",
          "text": [
            "EasyOCR - Время: 19.08 сек\n",
            "Распознанный текст (EasyOCR):\n",
            "[ЯШФТ ГРА Ж АНИН; Российской ФЕДЕРАЦИИ\n",
            "EasyOCR - Абсолютное расстояние Левенштейна: 18\n",
            "EasyOCR - Сходство по словам (Жаккар): 0.4000\n",
            "--------------------------------------------------\n",
            "Обработка изображения: passport2.jpg\n"
          ]
        },
        {
          "output_type": "stream",
          "name": "stderr",
          "text": [
            "WARNING:easyocr.easyocr:Neither CUDA nor MPS are available - defaulting to CPU. Note: This module is much faster with a GPU.\n"
          ]
        },
        {
          "output_type": "stream",
          "name": "stdout",
          "text": [
            "EasyOCR - Время: 26.08 сек\n",
            "Распознанный текст (EasyOCR):\n",
            "ЛАСПОРТ ФЕАЕРАЦИИ ГРАЖААНИНА Российской\n",
            "EasyOCR - Абсолютное расстояние Левенштейна: 28\n",
            "EasyOCR - Сходство по словам (Жаккар): 0.2500\n",
            "--------------------------------------------------\n",
            "Обработка изображения: borodino.png\n",
            "EasyOCR - Время: 20.54 сек\n",
            "Распознанный текст (EasyOCR):\n",
            "Бородино Что ж мы? на зимние квартиры? стихи М. Ю. Лермонтова Не смеют что лИ, командиры Скажи-ка, дядя, ведь не даром Чужие изорвать мундиры Москва, спаленная пожаром, О русские штыки?  Французу отдана? И вот нашли большое поле: Ведь были ж схватки боевые, Есть разгуляться где на воле ! Да, говорят, еше какие ! Построили редут. Недаром помнит вся Россия У наших ушки на макушке ! Про день Бородина ! утро осветило пушки Да, были люди в наше время И леса синие верхушки Не то, что нынешнее племя: Французы тут как тут. Богатыри не вы ! Забил заряд я в пушку туго Плохая им досталась доля: И думал: угощу я друга ! Немногие вернулись ПОЛЯ Постой-ка, брат мусью ! Не будь на то господня воля, тут хитрить, пожалуй к бою; Не отдали 6 Москвы ! Уж мы пойдем ломить стеною Мы долго молча отступали, Уж постоим мы головою Досадно было, боя ждали, За родину свою ! Ворчали тарики: Р@ОЗТ_)Д&ТА-@_ Чуть Что\n",
            "EasyOCR - Абсолютное расстояние Левенштейна: 710\n",
            "EasyOCR - Сходство по словам (Жаккар): 0.9505\n",
            "--------------------------------------------------\n"
          ]
        }
      ]
    },
    {
      "cell_type": "markdown",
      "source": [
        "EasyOCR позиционирует себя как небольшая простая в использовании библиотека, поэтому единственным кастомизируемым параметром в ней является выбор модели. Время работы инструмента больше, чем у Tesseract на пол-, один порядка. EasyOCR умеет распознавать текст, но она плохо справляется с группировкой текста в блоки. Помимо самого текста сохраняет координаты 4 вершин прямоугольника с распознанным текстом в res[0]. Но даже так рамки не всегда точны, попытка построить центр прямоугольника (среднее арифметическое координат по обеим осям) и упорядочить текст слева-направо сверху-вниз (или сверху-вниз слева-направо для данных текстов в виде нескольких колонок) не привела к получению правильного порядка и уменьшению редакционного растояния. Так,  на тексте \"Бородино\" расстояние Левенштейна примерно в 2 раза больше, чем у Tesseract в лучшей конфигурации, при этом метрика доли сходства распознанныз слов у EasyOCR даже больше, чем у Tesseract. Из очевидных плюсов - EasyOCR способна распознавать развернутый текст (и ограничено рукописный)."
      ],
      "metadata": {
        "id": "dLNKV2jgmeao"
      }
    },
    {
      "cell_type": "code",
      "source": [
        "!pip install surya-ocr"
      ],
      "metadata": {
        "colab": {
          "base_uri": "https://localhost:8080/"
        },
        "id": "Xc4kymBko3sj",
        "outputId": "699cf745-da32-4f69-8a48-190794409dcd"
      },
      "execution_count": 8,
      "outputs": [
        {
          "output_type": "stream",
          "name": "stdout",
          "text": [
            "Collecting surya-ocr\n",
            "  Downloading surya_ocr-0.6.13-py3-none-any.whl.metadata (30 kB)\n",
            "Collecting filetype<2.0.0,>=1.2.0 (from surya-ocr)\n",
            "  Downloading filetype-1.2.0-py2.py3-none-any.whl.metadata (6.5 kB)\n",
            "Collecting ftfy<7.0.0,>=6.1.3 (from surya-ocr)\n",
            "  Downloading ftfy-6.3.1-py3-none-any.whl.metadata (7.3 kB)\n",
            "Requirement already satisfied: opencv-python<5.0.0.0,>=4.9.0.80 in /usr/local/lib/python3.10/dist-packages (from surya-ocr) (4.10.0.84)\n",
            "Collecting pdftext<0.4.0,>=0.3.18 (from surya-ocr)\n",
            "  Downloading pdftext-0.3.18-py3-none-any.whl.metadata (8.2 kB)\n",
            "Requirement already satisfied: pillow<11.0.0,>=10.2.0 in /usr/local/lib/python3.10/dist-packages (from surya-ocr) (10.4.0)\n",
            "Requirement already satisfied: pydantic<3.0.0,>=2.5.3 in /usr/local/lib/python3.10/dist-packages (from surya-ocr) (2.9.2)\n",
            "Collecting pydantic-settings<3.0.0,>=2.1.0 (from surya-ocr)\n",
            "  Downloading pydantic_settings-2.6.1-py3-none-any.whl.metadata (3.5 kB)\n",
            "Collecting pypdfium2<5.0.0,>=4.25.0 (from surya-ocr)\n",
            "  Downloading pypdfium2-4.30.0-py3-none-manylinux_2_17_x86_64.manylinux2014_x86_64.whl.metadata (48 kB)\n",
            "\u001b[2K     \u001b[90m━━━━━━━━━━━━━━━━━━━━━━━━━━━━━━━━━━━━━━━━\u001b[0m \u001b[32m48.5/48.5 kB\u001b[0m \u001b[31m3.8 MB/s\u001b[0m eta \u001b[36m0:00:00\u001b[0m\n",
            "\u001b[?25hCollecting python-dotenv<2.0.0,>=1.0.0 (from surya-ocr)\n",
            "  Downloading python_dotenv-1.0.1-py3-none-any.whl.metadata (23 kB)\n",
            "Requirement already satisfied: tabulate<0.10.0,>=0.9.0 in /usr/local/lib/python3.10/dist-packages (from surya-ocr) (0.9.0)\n",
            "Requirement already satisfied: torch<3.0.0,>=2.4.1 in /usr/local/lib/python3.10/dist-packages (from surya-ocr) (2.5.0+cu121)\n",
            "Requirement already satisfied: transformers<5.0.0,>=4.41.0 in /usr/local/lib/python3.10/dist-packages (from surya-ocr) (4.44.2)\n",
            "Requirement already satisfied: wcwidth in /usr/local/lib/python3.10/dist-packages (from ftfy<7.0.0,>=6.1.3->surya-ocr) (0.2.13)\n",
            "Requirement already satisfied: numpy>=1.21.2 in /usr/local/lib/python3.10/dist-packages (from opencv-python<5.0.0.0,>=4.9.0.80->surya-ocr) (1.26.4)\n",
            "Collecting onnxruntime<2.0.0,>=1.19.2 (from pdftext<0.4.0,>=0.3.18->surya-ocr)\n",
            "  Downloading onnxruntime-1.20.0-cp310-cp310-manylinux_2_27_x86_64.manylinux_2_28_x86_64.whl.metadata (4.4 kB)\n",
            "Requirement already satisfied: annotated-types>=0.6.0 in /usr/local/lib/python3.10/dist-packages (from pydantic<3.0.0,>=2.5.3->surya-ocr) (0.7.0)\n",
            "Requirement already satisfied: pydantic-core==2.23.4 in /usr/local/lib/python3.10/dist-packages (from pydantic<3.0.0,>=2.5.3->surya-ocr) (2.23.4)\n",
            "Requirement already satisfied: typing-extensions>=4.6.1 in /usr/local/lib/python3.10/dist-packages (from pydantic<3.0.0,>=2.5.3->surya-ocr) (4.12.2)\n",
            "Requirement already satisfied: filelock in /usr/local/lib/python3.10/dist-packages (from torch<3.0.0,>=2.4.1->surya-ocr) (3.16.1)\n",
            "Requirement already satisfied: networkx in /usr/local/lib/python3.10/dist-packages (from torch<3.0.0,>=2.4.1->surya-ocr) (3.4.2)\n",
            "Requirement already satisfied: jinja2 in /usr/local/lib/python3.10/dist-packages (from torch<3.0.0,>=2.4.1->surya-ocr) (3.1.4)\n",
            "Requirement already satisfied: fsspec in /usr/local/lib/python3.10/dist-packages (from torch<3.0.0,>=2.4.1->surya-ocr) (2024.10.0)\n",
            "Requirement already satisfied: sympy==1.13.1 in /usr/local/lib/python3.10/dist-packages (from torch<3.0.0,>=2.4.1->surya-ocr) (1.13.1)\n",
            "Requirement already satisfied: mpmath<1.4,>=1.1.0 in /usr/local/lib/python3.10/dist-packages (from sympy==1.13.1->torch<3.0.0,>=2.4.1->surya-ocr) (1.3.0)\n",
            "Requirement already satisfied: huggingface-hub<1.0,>=0.23.2 in /usr/local/lib/python3.10/dist-packages (from transformers<5.0.0,>=4.41.0->surya-ocr) (0.24.7)\n",
            "Requirement already satisfied: packaging>=20.0 in /usr/local/lib/python3.10/dist-packages (from transformers<5.0.0,>=4.41.0->surya-ocr) (24.1)\n",
            "Requirement already satisfied: pyyaml>=5.1 in /usr/local/lib/python3.10/dist-packages (from transformers<5.0.0,>=4.41.0->surya-ocr) (6.0.2)\n",
            "Requirement already satisfied: regex!=2019.12.17 in /usr/local/lib/python3.10/dist-packages (from transformers<5.0.0,>=4.41.0->surya-ocr) (2024.9.11)\n",
            "Requirement already satisfied: requests in /usr/local/lib/python3.10/dist-packages (from transformers<5.0.0,>=4.41.0->surya-ocr) (2.32.3)\n",
            "Requirement already satisfied: safetensors>=0.4.1 in /usr/local/lib/python3.10/dist-packages (from transformers<5.0.0,>=4.41.0->surya-ocr) (0.4.5)\n",
            "Requirement already satisfied: tokenizers<0.20,>=0.19 in /usr/local/lib/python3.10/dist-packages (from transformers<5.0.0,>=4.41.0->surya-ocr) (0.19.1)\n",
            "Requirement already satisfied: tqdm>=4.27 in /usr/local/lib/python3.10/dist-packages (from transformers<5.0.0,>=4.41.0->surya-ocr) (4.66.6)\n",
            "Collecting coloredlogs (from onnxruntime<2.0.0,>=1.19.2->pdftext<0.4.0,>=0.3.18->surya-ocr)\n",
            "  Downloading coloredlogs-15.0.1-py2.py3-none-any.whl.metadata (12 kB)\n",
            "Requirement already satisfied: flatbuffers in /usr/local/lib/python3.10/dist-packages (from onnxruntime<2.0.0,>=1.19.2->pdftext<0.4.0,>=0.3.18->surya-ocr) (24.3.25)\n",
            "Requirement already satisfied: protobuf in /usr/local/lib/python3.10/dist-packages (from onnxruntime<2.0.0,>=1.19.2->pdftext<0.4.0,>=0.3.18->surya-ocr) (3.20.3)\n",
            "Requirement already satisfied: MarkupSafe>=2.0 in /usr/local/lib/python3.10/dist-packages (from jinja2->torch<3.0.0,>=2.4.1->surya-ocr) (3.0.2)\n",
            "Requirement already satisfied: charset-normalizer<4,>=2 in /usr/local/lib/python3.10/dist-packages (from requests->transformers<5.0.0,>=4.41.0->surya-ocr) (3.4.0)\n",
            "Requirement already satisfied: idna<4,>=2.5 in /usr/local/lib/python3.10/dist-packages (from requests->transformers<5.0.0,>=4.41.0->surya-ocr) (3.10)\n",
            "Requirement already satisfied: urllib3<3,>=1.21.1 in /usr/local/lib/python3.10/dist-packages (from requests->transformers<5.0.0,>=4.41.0->surya-ocr) (2.2.3)\n",
            "Requirement already satisfied: certifi>=2017.4.17 in /usr/local/lib/python3.10/dist-packages (from requests->transformers<5.0.0,>=4.41.0->surya-ocr) (2024.8.30)\n",
            "Collecting humanfriendly>=9.1 (from coloredlogs->onnxruntime<2.0.0,>=1.19.2->pdftext<0.4.0,>=0.3.18->surya-ocr)\n",
            "  Downloading humanfriendly-10.0-py2.py3-none-any.whl.metadata (9.2 kB)\n",
            "Downloading surya_ocr-0.6.13-py3-none-any.whl (130 kB)\n",
            "\u001b[2K   \u001b[90m━━━━━━━━━━━━━━━━━━━━━━━━━━━━━━━━━━━━━━━━\u001b[0m \u001b[32m130.6/130.6 kB\u001b[0m \u001b[31m6.4 MB/s\u001b[0m eta \u001b[36m0:00:00\u001b[0m\n",
            "\u001b[?25hDownloading filetype-1.2.0-py2.py3-none-any.whl (19 kB)\n",
            "Downloading ftfy-6.3.1-py3-none-any.whl (44 kB)\n",
            "\u001b[2K   \u001b[90m━━━━━━━━━━━━━━━━━━━━━━━━━━━━━━━━━━━━━━━━\u001b[0m \u001b[32m44.8/44.8 kB\u001b[0m \u001b[31m3.1 MB/s\u001b[0m eta \u001b[36m0:00:00\u001b[0m\n",
            "\u001b[?25hDownloading pdftext-0.3.18-py3-none-any.whl (28 kB)\n",
            "Downloading pydantic_settings-2.6.1-py3-none-any.whl (28 kB)\n",
            "Downloading pypdfium2-4.30.0-py3-none-manylinux_2_17_x86_64.manylinux2014_x86_64.whl (2.8 MB)\n",
            "\u001b[2K   \u001b[90m━━━━━━━━━━━━━━━━━━━━━━━━━━━━━━━━━━━━━━━━\u001b[0m \u001b[32m2.8/2.8 MB\u001b[0m \u001b[31m44.6 MB/s\u001b[0m eta \u001b[36m0:00:00\u001b[0m\n",
            "\u001b[?25hDownloading python_dotenv-1.0.1-py3-none-any.whl (19 kB)\n",
            "Downloading onnxruntime-1.20.0-cp310-cp310-manylinux_2_27_x86_64.manylinux_2_28_x86_64.whl (13.3 MB)\n",
            "\u001b[2K   \u001b[90m━━━━━━━━━━━━━━━━━━━━━━━━━━━━━━━━━━━━━━━━\u001b[0m \u001b[32m13.3/13.3 MB\u001b[0m \u001b[31m79.8 MB/s\u001b[0m eta \u001b[36m0:00:00\u001b[0m\n",
            "\u001b[?25hDownloading coloredlogs-15.0.1-py2.py3-none-any.whl (46 kB)\n",
            "\u001b[2K   \u001b[90m━━━━━━━━━━━━━━━━━━━━━━━━━━━━━━━━━━━━━━━━\u001b[0m \u001b[32m46.0/46.0 kB\u001b[0m \u001b[31m3.5 MB/s\u001b[0m eta \u001b[36m0:00:00\u001b[0m\n",
            "\u001b[?25hDownloading humanfriendly-10.0-py2.py3-none-any.whl (86 kB)\n",
            "\u001b[2K   \u001b[90m━━━━━━━━━━━━━━━━━━━━━━━━━━━━━━━━━━━━━━━━\u001b[0m \u001b[32m86.8/86.8 kB\u001b[0m \u001b[31m8.0 MB/s\u001b[0m eta \u001b[36m0:00:00\u001b[0m\n",
            "\u001b[?25hInstalling collected packages: filetype, python-dotenv, pypdfium2, humanfriendly, ftfy, coloredlogs, pydantic-settings, onnxruntime, pdftext, surya-ocr\n",
            "Successfully installed coloredlogs-15.0.1 filetype-1.2.0 ftfy-6.3.1 humanfriendly-10.0 onnxruntime-1.20.0 pdftext-0.3.18 pydantic-settings-2.6.1 pypdfium2-4.30.0 python-dotenv-1.0.1 surya-ocr-0.6.13\n"
          ]
        }
      ]
    },
    {
      "cell_type": "markdown",
      "source": [
        "Surya OCR может быть интегрирована в Python, но модуль использует свои типы, и требуется время, чтобы разобраться как правильно с ними работать. Поэтому в этом сравнении была использована консольная версия. Она запускается как surya_ocr \"file\" и требуется указание языка --langs, которое можно также задавать в отдельном файле. На выход подается .JSON файл result.json по-умолчанию по адресу results/surya/\"file\"/results.json, в котором также хранятся координаты четырех углов рамки распознанного фрагмента текста. Помимо непосредственно surya-ocr имеются другие инструменты, например, анализ разметки surya_layout."
      ],
      "metadata": {
        "id": "loeA2oG9uUvv"
      }
    },
    {
      "cell_type": "code",
      "source": [
        "!for file in *.{jpeg,jpg,png,pdf}; do [ -f \"$file\" ] && { start=$(date +%s); surya_ocr --langs ru \"$file\"; end=$(date +%s); echo \"Время обработки $file: $((end - start)) секунд\"; }; done\n"
      ],
      "metadata": {
        "colab": {
          "base_uri": "https://localhost:8080/"
        },
        "id": "Kgy_yZwKqFOx",
        "outputId": "dd2e590e-f68e-4118-8e1f-256faac52af8"
      },
      "execution_count": 9,
      "outputs": [
        {
          "output_type": "stream",
          "name": "stdout",
          "text": [
            "2024-11-08 13:25:57.621366: E external/local_xla/xla/stream_executor/cuda/cuda_fft.cc:485] Unable to register cuFFT factory: Attempting to register factory for plugin cuFFT when one has already been registered\n",
            "2024-11-08 13:25:57.990082: E external/local_xla/xla/stream_executor/cuda/cuda_dnn.cc:8454] Unable to register cuDNN factory: Attempting to register factory for plugin cuDNN when one has already been registered\n",
            "2024-11-08 13:25:58.102010: E external/local_xla/xla/stream_executor/cuda/cuda_blas.cc:1452] Unable to register cuBLAS factory: Attempting to register factory for plugin cuBLAS when one has already been registered\n",
            "2024-11-08 13:25:58.733503: I tensorflow/core/platform/cpu_feature_guard.cc:210] This TensorFlow binary is optimized to use available CPU instructions in performance-critical operations.\n",
            "To enable the following instructions: AVX2 FMA, in other operations, rebuild TensorFlow with the appropriate compiler flags.\n",
            "2024-11-08 13:26:00.649732: W tensorflow/compiler/tf2tensorrt/utils/py_utils.cc:38] TF-TRT Warning: Could not find TensorRT\n",
            "preprocessor_config.json: 100% 675/675 [00:00<00:00, 3.01MB/s]\n",
            "config.json: 100% 811/811 [00:00<00:00, 4.55MB/s]\n",
            "model.safetensors: 100% 154M/154M [00:03<00:00, 42.1MB/s]\n",
            "Loaded detection model vikp/surya_det3 on device cpu with dtype torch.float32\n",
            "config.json: 100% 8.05k/8.05k [00:00<00:00, 22.2MB/s]\n",
            "model.safetensors: 100% 941M/941M [00:22<00:00, 42.1MB/s]\n",
            "generation_config.json: 100% 163/163 [00:00<00:00, 838kB/s]\n",
            "Loaded recognition model vikp/surya_rec2 on device cpu with dtype torch.float32\n",
            "preprocessor_config.json: 100% 556/556 [00:00<00:00, 2.46MB/s]\n",
            "/usr/local/lib/python3.10/dist-packages/transformers/tokenization_utils_base.py:1601: FutureWarning: `clean_up_tokenization_spaces` was not set. It will be set to `True` by default. This behavior will be depracted in transformers v4.45, and will be then set to `False` by default. For more details check this issue: https://github.com/huggingface/transformers/issues/31884\n",
            "  warnings.warn(\n",
            "Detecting bboxes: 100% 1/1 [00:12<00:00, 12.26s/it]\n",
            "Recognizing Text: 100% 1/1 [00:26<00:00, 26.67s/it]\n",
            "Wrote results to results/surya/passport2\n",
            "Время обработки passport2.jpg: 86 секунд\n",
            "2024-11-08 13:27:21.309199: E external/local_xla/xla/stream_executor/cuda/cuda_fft.cc:485] Unable to register cuFFT factory: Attempting to register factory for plugin cuFFT when one has already been registered\n",
            "2024-11-08 13:27:21.333734: E external/local_xla/xla/stream_executor/cuda/cuda_dnn.cc:8454] Unable to register cuDNN factory: Attempting to register factory for plugin cuDNN when one has already been registered\n",
            "2024-11-08 13:27:21.340757: E external/local_xla/xla/stream_executor/cuda/cuda_blas.cc:1452] Unable to register cuBLAS factory: Attempting to register factory for plugin cuBLAS when one has already been registered\n",
            "2024-11-08 13:27:21.358475: I tensorflow/core/platform/cpu_feature_guard.cc:210] This TensorFlow binary is optimized to use available CPU instructions in performance-critical operations.\n",
            "To enable the following instructions: AVX2 FMA, in other operations, rebuild TensorFlow with the appropriate compiler flags.\n",
            "2024-11-08 13:27:22.862475: W tensorflow/compiler/tf2tensorrt/utils/py_utils.cc:38] TF-TRT Warning: Could not find TensorRT\n",
            "Loaded detection model vikp/surya_det3 on device cpu with dtype torch.float32\n",
            "Loaded recognition model vikp/surya_rec2 on device cpu with dtype torch.float32\n",
            "/usr/local/lib/python3.10/dist-packages/transformers/tokenization_utils_base.py:1601: FutureWarning: `clean_up_tokenization_spaces` was not set. It will be set to `True` by default. This behavior will be depracted in transformers v4.45, and will be then set to `False` by default. For more details check this issue: https://github.com/huggingface/transformers/issues/31884\n",
            "  warnings.warn(\n",
            "Detecting bboxes: 100% 1/1 [00:11<00:00, 11.89s/it]\n",
            "Recognizing Text: 100% 2/2 [03:18<00:00, 99.17s/it]\n",
            "Wrote results to results/surya/borodino\n",
            "Время обработки borodino.png: 224 секунд\n",
            "2024-11-08 13:31:04.402982: E external/local_xla/xla/stream_executor/cuda/cuda_fft.cc:485] Unable to register cuFFT factory: Attempting to register factory for plugin cuFFT when one has already been registered\n",
            "2024-11-08 13:31:04.426677: E external/local_xla/xla/stream_executor/cuda/cuda_dnn.cc:8454] Unable to register cuDNN factory: Attempting to register factory for plugin cuDNN when one has already been registered\n",
            "2024-11-08 13:31:04.433693: E external/local_xla/xla/stream_executor/cuda/cuda_blas.cc:1452] Unable to register cuBLAS factory: Attempting to register factory for plugin cuBLAS when one has already been registered\n",
            "2024-11-08 13:31:04.451474: I tensorflow/core/platform/cpu_feature_guard.cc:210] This TensorFlow binary is optimized to use available CPU instructions in performance-critical operations.\n",
            "To enable the following instructions: AVX2 FMA, in other operations, rebuild TensorFlow with the appropriate compiler flags.\n",
            "2024-11-08 13:31:05.975478: W tensorflow/compiler/tf2tensorrt/utils/py_utils.cc:38] TF-TRT Warning: Could not find TensorRT\n",
            "Loaded detection model vikp/surya_det3 on device cpu with dtype torch.float32\n",
            "Loaded recognition model vikp/surya_rec2 on device cpu with dtype torch.float32\n",
            "/usr/local/lib/python3.10/dist-packages/transformers/tokenization_utils_base.py:1601: FutureWarning: `clean_up_tokenization_spaces` was not set. It will be set to `True` by default. This behavior will be depracted in transformers v4.45, and will be then set to `False` by default. For more details check this issue: https://github.com/huggingface/transformers/issues/31884\n",
            "  warnings.warn(\n",
            "Detecting bboxes: 100% 1/1 [00:11<00:00, 11.16s/it]\n",
            "Recognizing Text: 100% 1/1 [00:15<00:00, 15.25s/it]\n",
            "Wrote results to results/surya/passport1\n",
            "Время обработки passport1.png: 40 секунд\n"
          ]
        }
      ]
    },
    {
      "cell_type": "markdown",
      "source": [
        "Программа работает дольше всего из сравниваемых, также для нее нужна обработка .json файла, которая будет рассчитывать метрики, реализация ниже (surya_json_parser_borodino.py отличается только тем, что в ground_truth_text записан текст стихотворения)."
      ],
      "metadata": {
        "id": "OZspTJ1SLqGJ"
      }
    },
    {
      "cell_type": "code",
      "source": [
        "!cat surya_json_parser.py"
      ],
      "metadata": {
        "colab": {
          "base_uri": "https://localhost:8080/"
        },
        "id": "rc-yXW9xtJw1",
        "outputId": "203711c0-35ac-4d29-f79c-c631ee206b94"
      },
      "execution_count": 15,
      "outputs": [
        {
          "output_type": "stream",
          "name": "stdout",
          "text": [
            "import os\r\n",
            "import json\r\n",
            "import Levenshtein as lev\r\n",
            "import sys\r\n",
            "import re\r\n",
            "import collections\r\n",
            "\r\n",
            "def clean_text(text):\r\n",
            "      return re.sub(r'[^\\w\\s]', '', text.lower())\r\n",
            "\r\n",
            "def get_word_set(text):\r\n",
            "    words = clean_text(text).split()\r\n",
            "    return set(words)\r\n",
            "\r\n",
            "def calculate_jaccard_similarity(text1, text2):\r\n",
            "    set1 = get_word_set(text1)\r\n",
            "    set2 = get_word_set(text2)\r\n",
            "    intersection = len(set1 & set2)\r\n",
            "    union = len(set1 | set2)\r\n",
            "    return intersection / union if union != 0 else 0.0\r\n",
            "\r\n",
            "def process_file(file_path, ground_truth_text):\r\n",
            "    with open(file_path, 'r', encoding='utf-8') as f:\r\n",
            "        data = json.load(f)\r\n",
            "    \r\n",
            "        page_data = list(data.values())[0][0]['text_lines'] \r\n",
            "        \r\n",
            "        text_fragments = [item['text'] for item in page_data]\r\n",
            "    \r\n",
            "    combined_text = \" \".join(text_fragments).strip()\r\n",
            "    lev_distance = lev.distance(ground_truth_text, combined_text)\r\n",
            "    jaccard_similarity = calculate_jaccard_similarity(ground_truth_text, combined_text)\r\n",
            "    return combined_text, lev_distance, jaccard_similarity\r\n",
            "\r\n",
            "def main():\r\n",
            "    if len(sys.argv) != 2:\r\n",
            "        print(\"Usage: python script.py <path_to_results.json>\")\r\n",
            "        sys.exit(1)\r\n",
            "\r\n",
            "    file_path = sys.argv[1]\r\n",
            "    ground_truth_text = \"ПАСПОРТ ГРАЖДАНИНА РОССИЙСКОЙ ФЕДЕРАЦИИ\"\r\n",
            "\r\n",
            "    if not os.path.isfile(file_path):\r\n",
            "        print(f\"Error: File {file_path} not found.\")\r\n",
            "        sys.exit(1)\r\n",
            "\r\n",
            "    try:\r\n",
            "        combined_text, lev_distance, jaccard_similarity = process_file(file_path, ground_truth_text)\r\n",
            "        print(f\"Объединённый текст:\\n{combined_text}\")\r\n",
            "        print(f\"Расстояние Левенштейна: {lev_distance}\")\r\n",
            "        print(f\"Сходство по Жаккару: {jaccard_similarity:.4f}\")\r\n",
            "    except Exception as e:\r\n",
            "        print(f\"Error processing file: {e}\")\r\n",
            "\r\n",
            "if __name__ == \"__main__\":\r\n",
            "    main()\r\n"
          ]
        }
      ]
    },
    {
      "cell_type": "code",
      "source": [
        "!python surya_json_parser.py results/surya/passport1/results.json"
      ],
      "metadata": {
        "colab": {
          "base_uri": "https://localhost:8080/"
        },
        "id": "sK02NUwftM-X",
        "outputId": "3997e5fd-a709-4077-efe6-5a4747685d70"
      },
      "execution_count": 11,
      "outputs": [
        {
          "output_type": "stream",
          "name": "stdout",
          "text": [
            "Объединённый текст:\n",
            "ПАСПОРТ ГРАЖДАНИНА РОССИЙСКОЙ ФЕДЕРАЦИИ\n",
            "Расстояние Левенштейна: 0\n",
            "Сходство по Жаккару: 1.0000\n"
          ]
        }
      ]
    },
    {
      "cell_type": "code",
      "source": [
        "!python surya_json_parser.py results/surya/passport2/results.json"
      ],
      "metadata": {
        "colab": {
          "base_uri": "https://localhost:8080/"
        },
        "id": "HQfzAr5yuALx",
        "outputId": "0f41cf21-8ede-4bfa-83ff-91d2c77cc2b5"
      },
      "execution_count": 12,
      "outputs": [
        {
          "output_type": "stream",
          "name": "stdout",
          "text": [
            "Объединённый текст:\n",
            "метрования соста и привается собедния подать ПАСПОРТ РОССИЙСКОЙ ФЕДЕРАЦИИ\n",
            "Расстояние Левенштейна: 50\n",
            "Сходство по Жаккару: 0.3000\n"
          ]
        }
      ]
    },
    {
      "cell_type": "code",
      "source": [
        "!python surya_json_parser_borodino.py results/surya/borodino/results.json"
      ],
      "metadata": {
        "colab": {
          "base_uri": "https://localhost:8080/"
        },
        "id": "ZlzmfH8YuJ20",
        "outputId": "c1efceec-0c41-4904-b8a6-05f0e75a4257"
      },
      "execution_count": 14,
      "outputs": [
        {
          "output_type": "stream",
          "name": "stdout",
          "text": [
            "Объединённый текст:\n",
            "Бородинс «Что ж мы? на зимние квартиры стихи М. Ю. Лермонтова Не смеют, что ли, командиры Чужие изорвать мундиры Скажи-ка, дядя, ведь не даром О русские штыки?» Москва, спаленная пожаром, И вот нашли большое поле: Французу отдана? Есть разгуляться где на воле! Ведь были ж схватки боевые, Построили редут. Да, говорят, еще какие! У наших ушки на макушке! Недаром помнит вся Россия Чуть утро осветило пушки Про день Бородина! И леса синие верхушки - - Да, были люди в наше время, Французы тут как тут. Не то, что нынешнее племя: Забил заряд я в пушку туго Богатыри - не вы! И думал: угощу я друга! Плохая им досталась доля: Постой-ка, брат мусью! Немногие вернулись с поля ... Что тут хитрить, пожалуй к бою; Не будь на то господня воля, Уж мы пойдем ломить стеною, Не отдали б Москвы! Уж постоим мы головою Мы долго молча отступали, За родину свою! Досадно было, боя ждали, Ворчали старики:\n",
            "Расстояние Левенштейна: 715\n",
            "Сходство по Жаккару: 0.9453\n"
          ]
        }
      ]
    },
    {
      "cell_type": "markdown",
      "source": [
        "В результате: производительность лучше всего у Tesseract, примерно на пол-порядка дольше работает EasyOCR, и еще на порядок дольше работает surya. Tesseract немного проигрывает по обеим метрикам на изображениях паспорта, но примерно в 2 раза выигрывает по редакционному расстоянию на стихе \"Бородино\". EasyOCR и surya лучше могут распознавать повернутый текст, но не могут без дополнительных программ объединить найденные фрагменты текста в правильном порядке (обе программы сохраняют координаты рамок). Поэтому при достаточно высокой степени распознования слов (около 95% слов были распознаны правильно) EasyOCR и surya значительно проигрывают по расстоянию Левенштейна.\n",
        "\n",
        "Tesseract в виду своей произоводительности и относительно неплохой точности на текстах, чья структура оптимальна для программы, может быть использован с наименьшими затрами. Но  он требует правильной ориентации текста и желательно или приведения к нескольким столбцам, или фрагментации на отдельные блоки/строки/символы. В расширенном конфиге для исполнимого файла содержатся много параметров: ограничивающие шрифт и словарь, задающие весовые коэффициенты модели и устанавливающие режимы. Также Tesseract позволяет дообучивать и добавлять собственные модели. Это делает инструмент достаточно гибким под конкретную задачу, но необходим вспомогательный код, и все еще может потребоваться модерация.\n",
        "\n",
        "EasyOCR обладает очень ограниченной кастомизируемостью, и основными его достоинствоми ялвяются простота в использовании и относительная устойчиовость к дефектам изображения. Средняя скорость и точность делают инструмент универсальным, но не заточенным под конкретную задачу. Требуется вспомогательный код по разметке страницы и/или сортировке фрагментов текста.\n",
        "\n",
        "Surya OCR - медленный пакет. Хотя он показывает неплохую точность распознавания непосредственно слов, так же как и EasyOCR он выдает неупорядоченный текст. Готовый набор команд, в том числе, по разметке страницы может быть интересен для рассмотрения в качестве медленного валидирующего инструмента, используемого редко, при условии, что удастся подтвердить его точность. Кастомизируемость выше, чем у EasyOCR, но тоже требует дополнительной оценки."
      ],
      "metadata": {
        "id": "mAMGp9qdMFKE"
      }
    },
    {
      "cell_type": "markdown",
      "source": [
        "1. https://www.trustradius.com/ocr-software\n",
        "2. https://github.com/tesseract-ocr/tesseract\n",
        "3. https://github.com/JaidedAI/EasyOCR\n",
        "4. https://github.com/VikParuchuri/surya\n",
        "5. https://muthu.co/all-tesseract-ocr-options/\n",
        "6. https://www.kaggle.com/code/dhorvay/pytesseract-function-parameters\n",
        "7. https://en.wikipedia.org/wiki/Levenshtein_distance\n",
        "8. https://en.wikipedia.org/wiki/Dice-S%C3%B8rensen_coefficient\n"
      ],
      "metadata": {
        "id": "EKOGCHwWXxYO"
      }
    },
    {
      "cell_type": "code",
      "source": [],
      "metadata": {
        "id": "IypDUf5wRqYS"
      },
      "execution_count": null,
      "outputs": []
    }
  ]
}