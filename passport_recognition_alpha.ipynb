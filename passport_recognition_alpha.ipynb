{
  "nbformat": 4,
  "nbformat_minor": 0,
  "metadata": {
    "colab": {
      "provenance": [],
      "authorship_tag": "ABX9TyOqktI1Bd2Zf2lXlB4gSxVy",
      "include_colab_link": true
    },
    "kernelspec": {
      "name": "python3",
      "display_name": "Python 3"
    },
    "language_info": {
      "name": "python"
    }
  },
  "cells": [
    {
      "cell_type": "markdown",
      "metadata": {
        "id": "view-in-github",
        "colab_type": "text"
      },
      "source": [
        "<a href=\"https://colab.research.google.com/github/ikm4rkov/OCR_examples/blob/main/passport_recognition_alpha.ipynb\" target=\"_parent\"><img src=\"https://colab.research.google.com/assets/colab-badge.svg\" alt=\"Open In Colab\"/></a>"
      ]
    },
    {
      "cell_type": "markdown",
      "source": [
        "Определение документа на изображении, удаление 3D-деформаций и бинаризация изображения осуществляются с помощью document-scanner https://github.com/endalk200/document-scanner.\n",
        "Установка через pypi не удалась, поэтому был использован source. Так как он на python, не потребовалась компиляция, только зависимости."
      ],
      "metadata": {
        "id": "r0Xs4NYXMX9j"
      }
    },
    {
      "cell_type": "code",
      "execution_count": null,
      "metadata": {
        "colab": {
          "base_uri": "https://localhost:8080/"
        },
        "id": "99D4P6w5KMpv",
        "outputId": "1b88445a-faa2-42be-d75f-712a5532982c"
      },
      "outputs": [
        {
          "output_type": "stream",
          "name": "stdout",
          "text": [
            "Cloning into 'document-scanner'...\n",
            "remote: Enumerating objects: 81, done.\u001b[K\n",
            "remote: Counting objects: 100% (81/81), done.\u001b[K\n",
            "remote: Compressing objects: 100% (60/60), done.\u001b[K\n",
            "remote: Total 81 (delta 24), reused 62 (delta 17), pack-reused 0 (from 0)\u001b[K\n",
            "Receiving objects: 100% (81/81), 20.61 MiB | 13.00 MiB/s, done.\n",
            "Resolving deltas: 100% (24/24), done.\n"
          ]
        }
      ],
      "source": [
        "!git clone https://github.com/endalk200/document-scanner.git"
      ]
    },
    {
      "cell_type": "markdown",
      "source": [
        "С версиями в requirements.txt зависимости не установились, поэтому жесткие версии были удалены."
      ],
      "metadata": {
        "id": "UaIHUzgpK5lU"
      }
    },
    {
      "cell_type": "markdown",
      "source": [],
      "metadata": {
        "id": "KUcJWj-uK37H"
      }
    },
    {
      "cell_type": "code",
      "source": [
        "!cat document-scanner/requirements.txt"
      ],
      "metadata": {
        "colab": {
          "base_uri": "https://localhost:8080/"
        },
        "id": "_e1BPtxQK0dZ",
        "outputId": "be73cfd8-60b0-4f96-d218-5d34efb3e9dd"
      },
      "execution_count": null,
      "outputs": [
        {
          "output_type": "stream",
          "name": "stdout",
          "text": [
            "matplotlib\n",
            "numpy\n",
            "ocrd-fork-pylsd\n",
            "opencv-python\n",
            "scipy"
          ]
        }
      ]
    },
    {
      "cell_type": "markdown",
      "source": [],
      "metadata": {
        "id": "4HdkEnTqLPic"
      }
    },
    {
      "cell_type": "code",
      "source": [
        "!pip install -r document-scanner/requirements.txt"
      ],
      "metadata": {
        "colab": {
          "base_uri": "https://localhost:8080/"
        },
        "id": "cezVbTgtLMVR",
        "outputId": "bee833af-b28b-451e-e88c-2f6452dc0b24"
      },
      "execution_count": null,
      "outputs": [
        {
          "output_type": "stream",
          "name": "stdout",
          "text": [
            "Requirement already satisfied: matplotlib in /usr/local/lib/python3.10/dist-packages (from -r document-scanner/requirements.txt (line 1)) (3.8.0)\n",
            "Requirement already satisfied: numpy in /usr/local/lib/python3.10/dist-packages (from -r document-scanner/requirements.txt (line 2)) (1.26.4)\n",
            "Collecting ocrd-fork-pylsd (from -r document-scanner/requirements.txt (line 3))\n",
            "  Downloading ocrd_fork_pylsd-0.0.8-cp310-cp310-manylinux_2_5_x86_64.manylinux1_x86_64.manylinux_2_17_x86_64.manylinux2014_x86_64.whl.metadata (3.2 kB)\n",
            "Requirement already satisfied: opencv-python in /usr/local/lib/python3.10/dist-packages (from -r document-scanner/requirements.txt (line 4)) (4.10.0.84)\n",
            "Requirement already satisfied: scipy in /usr/local/lib/python3.10/dist-packages (from -r document-scanner/requirements.txt (line 5)) (1.13.1)\n",
            "Requirement already satisfied: contourpy>=1.0.1 in /usr/local/lib/python3.10/dist-packages (from matplotlib->-r document-scanner/requirements.txt (line 1)) (1.3.0)\n",
            "Requirement already satisfied: cycler>=0.10 in /usr/local/lib/python3.10/dist-packages (from matplotlib->-r document-scanner/requirements.txt (line 1)) (0.12.1)\n",
            "Requirement already satisfied: fonttools>=4.22.0 in /usr/local/lib/python3.10/dist-packages (from matplotlib->-r document-scanner/requirements.txt (line 1)) (4.54.1)\n",
            "Requirement already satisfied: kiwisolver>=1.0.1 in /usr/local/lib/python3.10/dist-packages (from matplotlib->-r document-scanner/requirements.txt (line 1)) (1.4.7)\n",
            "Requirement already satisfied: packaging>=20.0 in /usr/local/lib/python3.10/dist-packages (from matplotlib->-r document-scanner/requirements.txt (line 1)) (24.1)\n",
            "Requirement already satisfied: pillow>=6.2.0 in /usr/local/lib/python3.10/dist-packages (from matplotlib->-r document-scanner/requirements.txt (line 1)) (10.4.0)\n",
            "Requirement already satisfied: pyparsing>=2.3.1 in /usr/local/lib/python3.10/dist-packages (from matplotlib->-r document-scanner/requirements.txt (line 1)) (3.2.0)\n",
            "Requirement already satisfied: python-dateutil>=2.7 in /usr/local/lib/python3.10/dist-packages (from matplotlib->-r document-scanner/requirements.txt (line 1)) (2.8.2)\n",
            "Requirement already satisfied: six>=1.5 in /usr/local/lib/python3.10/dist-packages (from python-dateutil>=2.7->matplotlib->-r document-scanner/requirements.txt (line 1)) (1.16.0)\n",
            "Downloading ocrd_fork_pylsd-0.0.8-cp310-cp310-manylinux_2_5_x86_64.manylinux1_x86_64.manylinux_2_17_x86_64.manylinux2014_x86_64.whl (56 kB)\n",
            "\u001b[2K   \u001b[90m━━━━━━━━━━━━━━━━━━━━━━━━━━━━━━━━━━━━━━━━\u001b[0m \u001b[32m56.5/56.5 kB\u001b[0m \u001b[31m2.7 MB/s\u001b[0m eta \u001b[36m0:00:00\u001b[0m\n",
            "\u001b[?25hInstalling collected packages: ocrd-fork-pylsd\n",
            "Successfully installed ocrd-fork-pylsd-0.0.8\n"
          ]
        }
      ]
    },
    {
      "cell_type": "markdown",
      "source": [
        "Document-scanner можно запустить или на одном изображении (--image), или на множестве (--images). Вне зависисмости от опции, выходные файлы называются так же как входные и сохраняются в директории output, создаваемой в директории запуска."
      ],
      "metadata": {
        "id": "S-j3u9WcL8xz"
      }
    },
    {
      "cell_type": "code",
      "source": [
        "!mkdir prescan"
      ],
      "metadata": {
        "id": "aPGA5XPSMWmn"
      },
      "execution_count": null,
      "outputs": []
    },
    {
      "cell_type": "code",
      "source": [
        "!python document-scanner/scan.py --images prescan/"
      ],
      "metadata": {
        "colab": {
          "base_uri": "https://localhost:8080/"
        },
        "id": "iE7-YGFVQ_pY",
        "outputId": "50474019-412b-4aec-f638-b2e71ac8dd07"
      },
      "execution_count": null,
      "outputs": [
        {
          "output_type": "stream",
          "name": "stdout",
          "text": [
            "Proccessed 1.png\n",
            "Proccessed 6.png\n",
            "Proccessed 4.png\n",
            "Proccessed 2.png\n",
            "Proccessed 8.png\n",
            "Proccessed 9.jpg\n",
            "Proccessed 3.png\n",
            "Proccessed 10.jpg\n",
            "Proccessed 7.png\n",
            "Proccessed 5.png\n"
          ]
        }
      ]
    },
    {
      "cell_type": "markdown",
      "source": [
        "Изображения в разном порядке, имеются дубли страниц и неодинаковые ориентации."
      ],
      "metadata": {
        "id": "iJrQtKO_RngL"
      }
    },
    {
      "cell_type": "code",
      "source": [
        "!pip install opencv-python"
      ],
      "metadata": {
        "colab": {
          "base_uri": "https://localhost:8080/"
        },
        "id": "Rv_NO0FIT3X-",
        "outputId": "49a8525f-9a14-46c7-c6be-e97e563e876b"
      },
      "execution_count": null,
      "outputs": [
        {
          "output_type": "stream",
          "name": "stdout",
          "text": [
            "Requirement already satisfied: opencv-python in /usr/local/lib/python3.10/dist-packages (4.10.0.84)\n",
            "Requirement already satisfied: numpy>=1.21.2 in /usr/local/lib/python3.10/dist-packages (from opencv-python) (1.26.4)\n"
          ]
        }
      ]
    },
    {
      "cell_type": "markdown",
      "source": [
        "Ориентирование документа параллельно сторонам изображения и попытка учест по отличить повороты, кратные 90 градусам с помощью opencv. В связи с этим установка opencv-python."
      ],
      "metadata": {
        "id": "ikdObMZCZSHq"
      }
    },
    {
      "cell_type": "code",
      "source": [
        "!cat orientation.py"
      ],
      "metadata": {
        "colab": {
          "base_uri": "https://localhost:8080/"
        },
        "id": "8F5zl3JoWsoq",
        "outputId": "d38813fd-c16c-414c-d016-d35cfa20def4"
      },
      "execution_count": null,
      "outputs": [
        {
          "output_type": "stream",
          "name": "stdout",
          "text": [
            "import cv2\r\n",
            "import numpy as np\r\n",
            "import sys\r\n",
            "import os\r\n",
            "\r\n",
            "# Считается, что если меньше 5 градусов несоответствия ориентации документа, он выровнен\r\n",
            "def is_aligned(angle):\r\n",
            "    return abs(angle) < 5 \r\n",
            "if __name__ == \"__main__\":\r\n",
            "    image_path = sys.argv[1]\r\n",
            "    image = cv2.imread(image_path)\r\n",
            "\r\n",
            "# Проверка правильности пути\r\n",
            "    if image is None:\r\n",
            "        print(f\"Ошибка: изображение по пути '{image_path}' не найдено.\")\r\n",
            "    else:\r\n",
            "      # Ориентирование\r\n",
            "        _, thresh = cv2.threshold(cv2.cvtColor(image, cv2.COLOR_BGR2GRAY), 150, 255, cv2.THRESH_BINARY_INV)\r\n",
            "        contours, _ = cv2.findContours(thresh, cv2.RETR_EXTERNAL, cv2.CHAIN_APPROX_SIMPLE)\r\n",
            "        largest_contour = max(contours, key=cv2.contourArea)\r\n",
            "        rect = cv2.minAreaRect(largest_contour)\r\n",
            "        angle = rect[2]\r\n",
            "\r\n",
            "        if not is_aligned(angle):\r\n",
            "            if angle < -45:\r\n",
            "                angle += 90\r\n",
            "            elif angle > 45:\r\n",
            "                angle -= 90\r\n",
            "\r\n",
            "            if angle > 0:\r\n",
            "                angle = 90 - angle\r\n",
            "\r\n",
            "            (h, w) = image.shape[:2]\r\n",
            "            center = (w // 2, h // 2)\r\n",
            "            M = cv2.getRotationMatrix2D(center, angle, 1.0)\r\n",
            "            rotated_image = cv2.warpAffine(image, M, (w, h), flags=cv2.INTER_CUBIC, borderMode=cv2.BORDER_REPLICATE)\r\n",
            "\r\n",
            "            base_name = os.path.splitext(image_path)[0]\r\n",
            "            rotated_image_path = f\"{base_name}_rotated.png\"\r\n",
            "            cv2.imwrite(rotated_image_path, rotated_image)\r\n",
            "            print(f\"Повернутое изображение сохранено как '{rotated_image_path}'.\")\r\n",
            "        else:\r\n",
            "            base_name = os.path.splitext(image_path)[0]\r\n",
            "            rotated_image_path = f\"{base_name}_rotated.png\"\r\n",
            "            cv2.imwrite(rotated_image_path, image)  # Сохраняем оригинальное изображение\r\n",
            "            print(f\"Изображение уже выровнено. Сохранено как '{rotated_image_path}'.\")\r\n"
          ]
        }
      ]
    },
    {
      "cell_type": "code",
      "source": [
        "!for file in output/*; do python orientation.py $file; done"
      ],
      "metadata": {
        "colab": {
          "base_uri": "https://localhost:8080/"
        },
        "id": "5BpKlyRXWxq_",
        "outputId": "0762de95-9fb0-425d-87c7-6f9029cdf560"
      },
      "execution_count": 49,
      "outputs": [
        {
          "output_type": "stream",
          "name": "stdout",
          "text": [
            "Повернутое изображение сохранено как 'output/10_rotated.png'.\n",
            "Повернутое изображение сохранено как 'output/1_rotated.png'.\n",
            "Повернутое изображение сохранено как 'output/2_rotated.png'.\n",
            "Изображение уже выровнено. Сохранено как 'output/3_rotated.png'.\n",
            "Повернутое изображение сохранено как 'output/4_rotated.png'.\n",
            "Изображение уже выровнено. Сохранено как 'output/5_rotated.png'.\n",
            "Повернутое изображение сохранено как 'output/6_rotated.png'.\n",
            "Изображение уже выровнено. Сохранено как 'output/7_rotated.png'.\n",
            "Повернутое изображение сохранено как 'output/8_rotated.png'.\n",
            "Изображение уже выровнено. Сохранено как 'output/9_rotated.png'.\n",
            "Ошибка: изображение по пути 'output/deepdocetion_results' не найдено.\n",
            "Ошибка: изображение по пути 'output/rotated' не найдено.\n"
          ]
        }
      ]
    },
    {
      "cell_type": "markdown",
      "source": [
        "Распознавание структуры документа с помощью deepdoctection https://github.com/deepdoctection/deepdoctection. Работает совместно с моделью распознавания письменной речи (OCR), и предлагаются на выбор 4 модели. Из них только Tesseract и DocTR поддерживают русский, Tesseract будет использован далее."
      ],
      "metadata": {
        "id": "mJnNPo3JbrmV"
      }
    },
    {
      "cell_type": "code",
      "source": [
        "!pip install deepdoctection[tf]"
      ],
      "metadata": {
        "colab": {
          "base_uri": "https://localhost:8080/",
          "height": 1000
        },
        "id": "Nh8jkXWVa50P",
        "outputId": "564b831a-0784-48c6-8bf3-4a324dc4bfc1"
      },
      "execution_count": null,
      "outputs": [
        {
          "output_type": "stream",
          "name": "stdout",
          "text": [
            "Collecting deepdoctection[tf]\n",
            "  Downloading deepdoctection-0.34-py3-none-any.whl.metadata (19 kB)\n",
            "Requirement already satisfied: catalogue==2.0.10 in /usr/local/lib/python3.10/dist-packages (from deepdoctection[tf]) (2.0.10)\n",
            "Requirement already satisfied: huggingface-hub>=0.12.0 in /usr/local/lib/python3.10/dist-packages (from deepdoctection[tf]) (0.24.7)\n",
            "Requirement already satisfied: importlib-metadata>=5.0.0 in /usr/local/lib/python3.10/dist-packages (from deepdoctection[tf]) (8.5.0)\n",
            "Collecting jsonlines==3.1.0 (from deepdoctection[tf])\n",
            "  Downloading jsonlines-3.1.0-py3-none-any.whl.metadata (1.7 kB)\n",
            "Collecting lazy-imports==0.3.1 (from deepdoctection[tf])\n",
            "  Downloading lazy_imports-0.3.1-py3-none-any.whl.metadata (10 kB)\n",
            "Collecting mock==4.0.3 (from deepdoctection[tf])\n",
            "  Downloading mock-4.0.3-py3-none-any.whl.metadata (2.8 kB)\n",
            "Requirement already satisfied: networkx>=2.7.1 in /usr/local/lib/python3.10/dist-packages (from deepdoctection[tf]) (3.4.2)\n",
            "Requirement already satisfied: numpy<2.0,>=1.21 in /usr/local/lib/python3.10/dist-packages (from deepdoctection[tf]) (1.26.4)\n",
            "Requirement already satisfied: packaging>=20.0 in /usr/local/lib/python3.10/dist-packages (from deepdoctection[tf]) (24.1)\n",
            "Requirement already satisfied: Pillow>=10.0.0 in /usr/local/lib/python3.10/dist-packages (from deepdoctection[tf]) (10.4.0)\n",
            "Collecting pypdf>=3.16.0 (from deepdoctection[tf])\n",
            "  Downloading pypdf-5.1.0-py3-none-any.whl.metadata (7.2 kB)\n",
            "Requirement already satisfied: pyyaml>=6.0.1 in /usr/local/lib/python3.10/dist-packages (from deepdoctection[tf]) (6.0.2)\n",
            "Requirement already satisfied: pyzmq>=16 in /usr/local/lib/python3.10/dist-packages (from deepdoctection[tf]) (24.0.1)\n",
            "Requirement already satisfied: scipy>=1.13.1 in /usr/local/lib/python3.10/dist-packages (from deepdoctection[tf]) (1.13.1)\n",
            "Requirement already satisfied: termcolor>=1.1 in /usr/local/lib/python3.10/dist-packages (from deepdoctection[tf]) (2.5.0)\n",
            "Requirement already satisfied: tabulate>=0.7.7 in /usr/local/lib/python3.10/dist-packages (from deepdoctection[tf]) (0.9.0)\n",
            "Collecting tqdm==4.64.0 (from deepdoctection[tf])\n",
            "  Downloading tqdm-4.64.0-py2.py3-none-any.whl.metadata (57 kB)\n",
            "\u001b[2K     \u001b[90m━━━━━━━━━━━━━━━━━━━━━━━━━━━━━━━━━━━━━━━━\u001b[0m \u001b[32m57.3/57.3 kB\u001b[0m \u001b[31m2.8 MB/s\u001b[0m eta \u001b[36m0:00:00\u001b[0m\n",
            "\u001b[?25hCollecting tensorpack==0.11 (from deepdoctection[tf])\n",
            "  Downloading tensorpack-0.11-py2.py3-none-any.whl.metadata (5.4 kB)\n",
            "Collecting protobuf==3.20.1 (from deepdoctection[tf])\n",
            "  Downloading protobuf-3.20.1-cp310-cp310-manylinux_2_12_x86_64.manylinux2010_x86_64.whl.metadata (698 bytes)\n",
            "Collecting tensorflow-addons>=0.17.1 (from deepdoctection[tf])\n",
            "  Downloading tensorflow_addons-0.23.0-cp310-cp310-manylinux_2_17_x86_64.manylinux2014_x86_64.whl.metadata (1.8 kB)\n",
            "Collecting tf2onnx>=1.9.2 (from deepdoctection[tf])\n",
            "  Downloading tf2onnx-1.16.1-py3-none-any.whl.metadata (1.3 kB)\n",
            "Collecting python-doctr==0.8.1 (from deepdoctection[tf])\n",
            "  Downloading python_doctr-0.8.1-py3-none-any.whl.metadata (33 kB)\n",
            "Requirement already satisfied: pycocotools>=2.0.2 in /usr/local/lib/python3.10/dist-packages (from deepdoctection[tf]) (2.0.8)\n",
            "Collecting boto3==1.34.102 (from deepdoctection[tf])\n",
            "  Downloading boto3-1.34.102-py3-none-any.whl.metadata (6.6 kB)\n",
            "Collecting pdfplumber>=0.11.0 (from deepdoctection[tf])\n",
            "  Downloading pdfplumber-0.11.4-py3-none-any.whl.metadata (41 kB)\n",
            "\u001b[2K     \u001b[90m━━━━━━━━━━━━━━━━━━━━━━━━━━━━━━━━━━━━━━━━\u001b[0m \u001b[32m42.0/42.0 kB\u001b[0m \u001b[31m3.0 MB/s\u001b[0m eta \u001b[36m0:00:00\u001b[0m\n",
            "\u001b[?25hCollecting fasttext==0.9.2 (from deepdoctection[tf])\n",
            "  Downloading fasttext-0.9.2.tar.gz (68 kB)\n",
            "\u001b[2K     \u001b[90m━━━━━━━━━━━━━━━━━━━━━━━━━━━━━━━━━━━━━━━━\u001b[0m \u001b[32m68.8/68.8 kB\u001b[0m \u001b[31m3.7 MB/s\u001b[0m eta \u001b[36m0:00:00\u001b[0m\n",
            "\u001b[?25h  Preparing metadata (setup.py) ... \u001b[?25l\u001b[?25hdone\n",
            "Collecting jdeskew>=0.2.2 (from deepdoctection[tf])\n",
            "  Downloading jdeskew-0.2.2-py3-none-any.whl.metadata (7.5 kB)\n",
            "Collecting apted==1.0.3 (from deepdoctection[tf])\n",
            "  Downloading apted-1.0.3-py3-none-any.whl.metadata (6.0 kB)\n",
            "Collecting distance==0.1.3 (from deepdoctection[tf])\n",
            "  Downloading Distance-0.1.3.tar.gz (180 kB)\n",
            "\u001b[2K     \u001b[90m━━━━━━━━━━━━━━━━━━━━━━━━━━━━━━━━━━━━━━━━\u001b[0m \u001b[32m180.3/180.3 kB\u001b[0m \u001b[31m8.7 MB/s\u001b[0m eta \u001b[36m0:00:00\u001b[0m\n",
            "\u001b[?25h  Preparing metadata (setup.py) ... \u001b[?25l\u001b[?25hdone\n",
            "Requirement already satisfied: lxml>=4.9.1 in /usr/local/lib/python3.10/dist-packages (from deepdoctection[tf]) (5.3.0)\n",
            "Collecting botocore<1.35.0,>=1.34.102 (from boto3==1.34.102->deepdoctection[tf])\n",
            "  Downloading botocore-1.34.162-py3-none-any.whl.metadata (5.7 kB)\n",
            "Collecting jmespath<2.0.0,>=0.7.1 (from boto3==1.34.102->deepdoctection[tf])\n",
            "  Downloading jmespath-1.0.1-py3-none-any.whl.metadata (7.6 kB)\n",
            "Collecting s3transfer<0.11.0,>=0.10.0 (from boto3==1.34.102->deepdoctection[tf])\n",
            "  Downloading s3transfer-0.10.3-py3-none-any.whl.metadata (1.7 kB)\n",
            "Collecting pybind11>=2.2 (from fasttext==0.9.2->deepdoctection[tf])\n",
            "  Using cached pybind11-2.13.6-py3-none-any.whl.metadata (9.5 kB)\n",
            "Requirement already satisfied: setuptools>=0.7.0 in /usr/local/lib/python3.10/dist-packages (from fasttext==0.9.2->deepdoctection[tf]) (75.1.0)\n",
            "Requirement already satisfied: attrs>=19.2.0 in /usr/local/lib/python3.10/dist-packages (from jsonlines==3.1.0->deepdoctection[tf]) (24.2.0)\n",
            "Requirement already satisfied: h5py<4.0.0,>=3.1.0 in /usr/local/lib/python3.10/dist-packages (from python-doctr==0.8.1->deepdoctection[tf]) (3.12.1)\n",
            "Requirement already satisfied: opencv-python<5.0.0,>=4.5.0 in /usr/local/lib/python3.10/dist-packages (from python-doctr==0.8.1->deepdoctection[tf]) (4.10.0.84)\n",
            "Collecting pypdfium2<5.0.0,>=4.0.0 (from python-doctr==0.8.1->deepdoctection[tf])\n",
            "  Downloading pypdfium2-4.30.0-py3-none-manylinux_2_17_x86_64.manylinux2014_x86_64.whl.metadata (48 kB)\n",
            "\u001b[2K     \u001b[90m━━━━━━━━━━━━━━━━━━━━━━━━━━━━━━━━━━━━━━━━\u001b[0m \u001b[32m48.5/48.5 kB\u001b[0m \u001b[31m3.1 MB/s\u001b[0m eta \u001b[36m0:00:00\u001b[0m\n",
            "\u001b[?25hCollecting pyclipper<2.0.0,>=1.2.0 (from python-doctr==0.8.1->deepdoctection[tf])\n",
            "  Downloading pyclipper-1.3.0.post6-cp310-cp310-manylinux_2_12_x86_64.manylinux2010_x86_64.whl.metadata (9.0 kB)\n",
            "Requirement already satisfied: shapely<3.0.0,>=1.6.0 in /usr/local/lib/python3.10/dist-packages (from python-doctr==0.8.1->deepdoctection[tf]) (2.0.6)\n",
            "Collecting langdetect<2.0.0,>=1.0.9 (from python-doctr==0.8.1->deepdoctection[tf])\n",
            "  Downloading langdetect-1.0.9.tar.gz (981 kB)\n",
            "\u001b[2K     \u001b[90m━━━━━━━━━━━━━━━━━━━━━━━━━━━━━━━━━━━━━━━━\u001b[0m \u001b[32m981.5/981.5 kB\u001b[0m \u001b[31m34.9 MB/s\u001b[0m eta \u001b[36m0:00:00\u001b[0m\n",
            "\u001b[?25h  Preparing metadata (setup.py) ... \u001b[?25l\u001b[?25hdone\n",
            "Collecting rapidfuzz<4.0.0,>=3.0.0 (from python-doctr==0.8.1->deepdoctection[tf])\n",
            "  Downloading rapidfuzz-3.10.1-cp310-cp310-manylinux_2_17_x86_64.manylinux2014_x86_64.whl.metadata (11 kB)\n",
            "Requirement already satisfied: matplotlib>=3.1.0 in /usr/local/lib/python3.10/dist-packages (from python-doctr==0.8.1->deepdoctection[tf]) (3.8.0)\n",
            "Collecting weasyprint>=55.0 (from python-doctr==0.8.1->deepdoctection[tf])\n",
            "  Downloading weasyprint-63.0-py3-none-any.whl.metadata (3.7 kB)\n",
            "Requirement already satisfied: defusedxml>=0.7.0 in /usr/local/lib/python3.10/dist-packages (from python-doctr==0.8.1->deepdoctection[tf]) (0.7.1)\n",
            "Collecting mplcursors>=0.3 (from python-doctr==0.8.1->deepdoctection[tf])\n",
            "  Downloading mplcursors-0.6-py3-none-any.whl.metadata (3.0 kB)\n",
            "Collecting unidecode>=1.0.0 (from python-doctr==0.8.1->deepdoctection[tf])\n",
            "  Downloading Unidecode-1.3.8-py3-none-any.whl.metadata (13 kB)\n",
            "Requirement already satisfied: six in /usr/local/lib/python3.10/dist-packages (from tensorpack==0.11->deepdoctection[tf]) (1.16.0)\n",
            "Requirement already satisfied: msgpack>=0.5.2 in /usr/local/lib/python3.10/dist-packages (from tensorpack==0.11->deepdoctection[tf]) (1.1.0)\n",
            "Collecting msgpack-numpy>=0.4.4.2 (from tensorpack==0.11->deepdoctection[tf])\n",
            "  Downloading msgpack_numpy-0.4.8-py2.py3-none-any.whl.metadata (5.0 kB)\n",
            "Requirement already satisfied: psutil>=5 in /usr/local/lib/python3.10/dist-packages (from tensorpack==0.11->deepdoctection[tf]) (5.9.5)\n",
            "Requirement already satisfied: filelock in /usr/local/lib/python3.10/dist-packages (from huggingface-hub>=0.12.0->deepdoctection[tf]) (3.16.1)\n",
            "Requirement already satisfied: fsspec>=2023.5.0 in /usr/local/lib/python3.10/dist-packages (from huggingface-hub>=0.12.0->deepdoctection[tf]) (2024.10.0)\n",
            "Requirement already satisfied: requests in /usr/local/lib/python3.10/dist-packages (from huggingface-hub>=0.12.0->deepdoctection[tf]) (2.32.3)\n",
            "Requirement already satisfied: typing-extensions>=3.7.4.3 in /usr/local/lib/python3.10/dist-packages (from huggingface-hub>=0.12.0->deepdoctection[tf]) (4.12.2)\n",
            "Requirement already satisfied: zipp>=3.20 in /usr/local/lib/python3.10/dist-packages (from importlib-metadata>=5.0.0->deepdoctection[tf]) (3.20.2)\n",
            "Requirement already satisfied: opencv-python-headless in /usr/local/lib/python3.10/dist-packages (from jdeskew>=0.2.2->deepdoctection[tf]) (4.10.0.84)\n",
            "Collecting pdfminer.six==20231228 (from pdfplumber>=0.11.0->deepdoctection[tf])\n",
            "  Downloading pdfminer.six-20231228-py3-none-any.whl.metadata (4.2 kB)\n",
            "Requirement already satisfied: charset-normalizer>=2.0.0 in /usr/local/lib/python3.10/dist-packages (from pdfminer.six==20231228->pdfplumber>=0.11.0->deepdoctection[tf]) (3.4.0)\n",
            "Requirement already satisfied: cryptography>=36.0.0 in /usr/local/lib/python3.10/dist-packages (from pdfminer.six==20231228->pdfplumber>=0.11.0->deepdoctection[tf]) (43.0.3)\n",
            "Collecting typeguard<3.0.0,>=2.7 (from tensorflow-addons>=0.17.1->deepdoctection[tf])\n",
            "  Downloading typeguard-2.13.3-py3-none-any.whl.metadata (3.6 kB)\n",
            "Collecting onnx>=1.4.1 (from tf2onnx>=1.9.2->deepdoctection[tf])\n",
            "  Downloading onnx-1.17.0-cp310-cp310-manylinux_2_17_x86_64.manylinux2014_x86_64.whl.metadata (16 kB)\n",
            "Requirement already satisfied: flatbuffers>=1.12 in /usr/local/lib/python3.10/dist-packages (from tf2onnx>=1.9.2->deepdoctection[tf]) (24.3.25)\n",
            "Requirement already satisfied: python-dateutil<3.0.0,>=2.1 in /usr/local/lib/python3.10/dist-packages (from botocore<1.35.0,>=1.34.102->boto3==1.34.102->deepdoctection[tf]) (2.8.2)\n",
            "Requirement already satisfied: urllib3!=2.2.0,<3,>=1.25.4 in /usr/local/lib/python3.10/dist-packages (from botocore<1.35.0,>=1.34.102->boto3==1.34.102->deepdoctection[tf]) (2.2.3)\n",
            "Requirement already satisfied: contourpy>=1.0.1 in /usr/local/lib/python3.10/dist-packages (from matplotlib>=3.1.0->python-doctr==0.8.1->deepdoctection[tf]) (1.3.0)\n",
            "Requirement already satisfied: cycler>=0.10 in /usr/local/lib/python3.10/dist-packages (from matplotlib>=3.1.0->python-doctr==0.8.1->deepdoctection[tf]) (0.12.1)\n",
            "Requirement already satisfied: fonttools>=4.22.0 in /usr/local/lib/python3.10/dist-packages (from matplotlib>=3.1.0->python-doctr==0.8.1->deepdoctection[tf]) (4.54.1)\n",
            "Requirement already satisfied: kiwisolver>=1.0.1 in /usr/local/lib/python3.10/dist-packages (from matplotlib>=3.1.0->python-doctr==0.8.1->deepdoctection[tf]) (1.4.7)\n",
            "Requirement already satisfied: pyparsing>=2.3.1 in /usr/local/lib/python3.10/dist-packages (from matplotlib>=3.1.0->python-doctr==0.8.1->deepdoctection[tf]) (3.2.0)\n",
            "INFO: pip is looking at multiple versions of onnx to determine which version is compatible with other requirements. This could take a while.\n",
            "  Downloading onnx-1.16.2-cp310-cp310-manylinux_2_17_x86_64.manylinux2014_x86_64.whl.metadata (16 kB)\n",
            "  Downloading onnx-1.16.1-cp310-cp310-manylinux_2_17_x86_64.manylinux2014_x86_64.whl.metadata (16 kB)\n",
            "  Downloading onnx-1.16.0-cp310-cp310-manylinux_2_17_x86_64.manylinux2014_x86_64.whl.metadata (16 kB)\n",
            "  Downloading onnx-1.15.0-cp310-cp310-manylinux_2_17_x86_64.manylinux2014_x86_64.whl.metadata (15 kB)\n",
            "  Downloading onnx-1.14.1-cp310-cp310-manylinux_2_17_x86_64.manylinux2014_x86_64.whl.metadata (15 kB)\n",
            "  Downloading onnx-1.14.0-cp310-cp310-manylinux_2_17_x86_64.manylinux2014_x86_64.whl.metadata (15 kB)\n",
            "  Downloading onnx-1.13.1-cp310-cp310-manylinux_2_17_x86_64.manylinux2014_x86_64.whl.metadata (14 kB)\n",
            "INFO: pip is still looking at multiple versions of onnx to determine which version is compatible with other requirements. This could take a while.\n",
            "  Downloading onnx-1.13.0-cp310-cp310-manylinux_2_17_x86_64.manylinux2014_x86_64.whl.metadata (14 kB)\n",
            "  Downloading onnx-1.12.0-cp310-cp310-manylinux_2_17_x86_64.manylinux2014_x86_64.whl.metadata (13 kB)\n",
            "Collecting pydyf<0.12,>=0.11.0 (from weasyprint>=55.0->python-doctr==0.8.1->deepdoctection[tf])\n",
            "  Downloading pydyf-0.11.0-py3-none-any.whl.metadata (2.5 kB)\n",
            "Requirement already satisfied: cffi<2,>=0.6 in /usr/local/lib/python3.10/dist-packages (from weasyprint>=55.0->python-doctr==0.8.1->deepdoctection[tf]) (1.17.1)\n",
            "Collecting tinyhtml5<3,>=2.0.0b1 (from weasyprint>=55.0->python-doctr==0.8.1->deepdoctection[tf])\n",
            "  Downloading tinyhtml5-2.0.0-py3-none-any.whl.metadata (2.9 kB)\n",
            "Requirement already satisfied: tinycss2<2,>=1.4.0 in /usr/local/lib/python3.10/dist-packages (from weasyprint>=55.0->python-doctr==0.8.1->deepdoctection[tf]) (1.4.0)\n",
            "Collecting cssselect2<0.8,>=0.1 (from weasyprint>=55.0->python-doctr==0.8.1->deepdoctection[tf])\n",
            "  Downloading cssselect2-0.7.0-py3-none-any.whl.metadata (2.9 kB)\n",
            "Collecting Pyphen<0.16,>=0.9.1 (from weasyprint>=55.0->python-doctr==0.8.1->deepdoctection[tf])\n",
            "  Downloading pyphen-0.15.0-py3-none-any.whl.metadata (3.3 kB)\n",
            "Requirement already satisfied: idna<4,>=2.5 in /usr/local/lib/python3.10/dist-packages (from requests->huggingface-hub>=0.12.0->deepdoctection[tf]) (3.10)\n",
            "Requirement already satisfied: certifi>=2017.4.17 in /usr/local/lib/python3.10/dist-packages (from requests->huggingface-hub>=0.12.0->deepdoctection[tf]) (2024.8.30)\n",
            "Requirement already satisfied: pycparser in /usr/local/lib/python3.10/dist-packages (from cffi<2,>=0.6->weasyprint>=55.0->python-doctr==0.8.1->deepdoctection[tf]) (2.22)\n",
            "Requirement already satisfied: webencodings in /usr/local/lib/python3.10/dist-packages (from cssselect2<0.8,>=0.1->weasyprint>=55.0->python-doctr==0.8.1->deepdoctection[tf]) (0.5.1)\n",
            "Collecting zopfli>=0.1.4 (from fonttools[woff]<5,>=4.0.0->weasyprint>=55.0->python-doctr==0.8.1->deepdoctection[tf])\n",
            "  Downloading zopfli-0.2.3.post1-cp310-cp310-manylinux_2_12_x86_64.manylinux2010_x86_64.whl.metadata (2.9 kB)\n",
            "Collecting brotli>=1.0.1 (from fonttools[woff]<5,>=4.0.0->weasyprint>=55.0->python-doctr==0.8.1->deepdoctection[tf])\n",
            "  Downloading Brotli-1.1.0-cp310-cp310-manylinux_2_5_x86_64.manylinux1_x86_64.manylinux_2_12_x86_64.manylinux2010_x86_64.whl.metadata (5.5 kB)\n",
            "Downloading apted-1.0.3-py3-none-any.whl (40 kB)\n",
            "\u001b[2K   \u001b[90m━━━━━━━━━━━━━━━━━━━━━━━━━━━━━━━━━━━━━━━━\u001b[0m \u001b[32m40.6/40.6 kB\u001b[0m \u001b[31m2.7 MB/s\u001b[0m eta \u001b[36m0:00:00\u001b[0m\n",
            "\u001b[?25hDownloading boto3-1.34.102-py3-none-any.whl (139 kB)\n",
            "\u001b[2K   \u001b[90m━━━━━━━━━━━━━━━━━━━━━━━━━━━━━━━━━━━━━━━━\u001b[0m \u001b[32m139.3/139.3 kB\u001b[0m \u001b[31m10.6 MB/s\u001b[0m eta \u001b[36m0:00:00\u001b[0m\n",
            "\u001b[?25hDownloading jsonlines-3.1.0-py3-none-any.whl (8.6 kB)\n",
            "Downloading lazy_imports-0.3.1-py3-none-any.whl (12 kB)\n",
            "Downloading mock-4.0.3-py3-none-any.whl (28 kB)\n",
            "Downloading protobuf-3.20.1-cp310-cp310-manylinux_2_12_x86_64.manylinux2010_x86_64.whl (1.1 MB)\n",
            "\u001b[2K   \u001b[90m━━━━━━━━━━━━━━━━━━━━━━━━━━━━━━━━━━━━━━━━\u001b[0m \u001b[32m1.1/1.1 MB\u001b[0m \u001b[31m44.5 MB/s\u001b[0m eta \u001b[36m0:00:00\u001b[0m\n",
            "\u001b[?25hDownloading python_doctr-0.8.1-py3-none-any.whl (295 kB)\n",
            "\u001b[2K   \u001b[90m━━━━━━━━━━━━━━━━━━━━━━━━━━━━━━━━━━━━━━━━\u001b[0m \u001b[32m295.0/295.0 kB\u001b[0m \u001b[31m21.0 MB/s\u001b[0m eta \u001b[36m0:00:00\u001b[0m\n",
            "\u001b[?25hDownloading tensorpack-0.11-py2.py3-none-any.whl (296 kB)\n",
            "\u001b[2K   \u001b[90m━━━━━━━━━━━━━━━━━━━━━━━━━━━━━━━━━━━━━━━━\u001b[0m \u001b[32m296.3/296.3 kB\u001b[0m \u001b[31m19.3 MB/s\u001b[0m eta \u001b[36m0:00:00\u001b[0m\n",
            "\u001b[?25hDownloading tqdm-4.64.0-py2.py3-none-any.whl (78 kB)\n",
            "\u001b[2K   \u001b[90m━━━━━━━━━━━━━━━━━━━━━━━━━━━━━━━━━━━━━━━━\u001b[0m \u001b[32m78.4/78.4 kB\u001b[0m \u001b[31m6.2 MB/s\u001b[0m eta \u001b[36m0:00:00\u001b[0m\n",
            "\u001b[?25hDownloading jdeskew-0.2.2-py3-none-any.whl (6.8 kB)\n",
            "Downloading pdfplumber-0.11.4-py3-none-any.whl (59 kB)\n",
            "\u001b[2K   \u001b[90m━━━━━━━━━━━━━━━━━━━━━━━━━━━━━━━━━━━━━━━━\u001b[0m \u001b[32m59.2/59.2 kB\u001b[0m \u001b[31m4.8 MB/s\u001b[0m eta \u001b[36m0:00:00\u001b[0m\n",
            "\u001b[?25hDownloading pdfminer.six-20231228-py3-none-any.whl (5.6 MB)\n",
            "\u001b[2K   \u001b[90m━━━━━━━━━━━━━━━━━━━━━━━━━━━━━━━━━━━━━━━━\u001b[0m \u001b[32m5.6/5.6 MB\u001b[0m \u001b[31m60.7 MB/s\u001b[0m eta \u001b[36m0:00:00\u001b[0m\n",
            "\u001b[?25hDownloading pypdf-5.1.0-py3-none-any.whl (297 kB)\n",
            "\u001b[2K   \u001b[90m━━━━━━━━━━━━━━━━━━━━━━━━━━━━━━━━━━━━━━━━\u001b[0m \u001b[32m298.0/298.0 kB\u001b[0m \u001b[31m19.4 MB/s\u001b[0m eta \u001b[36m0:00:00\u001b[0m\n",
            "\u001b[?25hDownloading tensorflow_addons-0.23.0-cp310-cp310-manylinux_2_17_x86_64.manylinux2014_x86_64.whl (611 kB)\n",
            "\u001b[2K   \u001b[90m━━━━━━━━━━━━━━━━━━━━━━━━━━━━━━━━━━━━━━━━\u001b[0m \u001b[32m611.8/611.8 kB\u001b[0m \u001b[31m31.4 MB/s\u001b[0m eta \u001b[36m0:00:00\u001b[0m\n",
            "\u001b[?25hDownloading tf2onnx-1.16.1-py3-none-any.whl (455 kB)\n",
            "\u001b[2K   \u001b[90m━━━━━━━━━━━━━━━━━━━━━━━━━━━━━━━━━━━━━━━━\u001b[0m \u001b[32m455.8/455.8 kB\u001b[0m \u001b[31m26.1 MB/s\u001b[0m eta \u001b[36m0:00:00\u001b[0m\n",
            "\u001b[?25hDownloading deepdoctection-0.34-py3-none-any.whl (439 kB)\n",
            "\u001b[2K   \u001b[90m━━━━━━━━━━━━━━━━━━━━━━━━━━━━━━━━━━━━━━━━\u001b[0m \u001b[32m439.9/439.9 kB\u001b[0m \u001b[31m17.9 MB/s\u001b[0m eta \u001b[36m0:00:00\u001b[0m\n",
            "\u001b[?25hDownloading botocore-1.34.162-py3-none-any.whl (12.5 MB)\n",
            "\u001b[2K   \u001b[90m━━━━━━━━━━━━━━━━━━━━━━━━━━━━━━━━━━━━━━━━\u001b[0m \u001b[32m12.5/12.5 MB\u001b[0m \u001b[31m68.1 MB/s\u001b[0m eta \u001b[36m0:00:00\u001b[0m\n",
            "\u001b[?25hDownloading jmespath-1.0.1-py3-none-any.whl (20 kB)\n",
            "Downloading mplcursors-0.6-py3-none-any.whl (20 kB)\n",
            "Downloading msgpack_numpy-0.4.8-py2.py3-none-any.whl (6.9 kB)\n",
            "Downloading onnx-1.12.0-cp310-cp310-manylinux_2_17_x86_64.manylinux2014_x86_64.whl (13.1 MB)\n",
            "\u001b[2K   \u001b[90m━━━━━━━━━━━━━━━━━━━━━━━━━━━━━━━━━━━━━━━━\u001b[0m \u001b[32m13.1/13.1 MB\u001b[0m \u001b[31m61.8 MB/s\u001b[0m eta \u001b[36m0:00:00\u001b[0m\n",
            "\u001b[?25hUsing cached pybind11-2.13.6-py3-none-any.whl (243 kB)\n",
            "Downloading pyclipper-1.3.0.post6-cp310-cp310-manylinux_2_12_x86_64.manylinux2010_x86_64.whl (912 kB)\n",
            "\u001b[2K   \u001b[90m━━━━━━━━━━━━━━━━━━━━━━━━━━━━━━━━━━━━━━━━\u001b[0m \u001b[32m912.2/912.2 kB\u001b[0m \u001b[31m36.3 MB/s\u001b[0m eta \u001b[36m0:00:00\u001b[0m\n",
            "\u001b[?25hDownloading pypdfium2-4.30.0-py3-none-manylinux_2_17_x86_64.manylinux2014_x86_64.whl (2.8 MB)\n",
            "\u001b[2K   \u001b[90m━━━━━━━━━━━━━━━━━━━━━━━━━━━━━━━━━━━━━━━━\u001b[0m \u001b[32m2.8/2.8 MB\u001b[0m \u001b[31m72.8 MB/s\u001b[0m eta \u001b[36m0:00:00\u001b[0m\n",
            "\u001b[?25hDownloading rapidfuzz-3.10.1-cp310-cp310-manylinux_2_17_x86_64.manylinux2014_x86_64.whl (3.1 MB)\n",
            "\u001b[2K   \u001b[90m━━━━━━━━━━━━━━━━━━━━━━━━━━━━━━━━━━━━━━━━\u001b[0m \u001b[32m3.1/3.1 MB\u001b[0m \u001b[31m46.3 MB/s\u001b[0m eta \u001b[36m0:00:00\u001b[0m\n",
            "\u001b[?25hDownloading s3transfer-0.10.3-py3-none-any.whl (82 kB)\n",
            "\u001b[2K   \u001b[90m━━━━━━━━━━━━━━━━━━━━━━━━━━━━━━━━━━━━━━━━\u001b[0m \u001b[32m82.6/82.6 kB\u001b[0m \u001b[31m6.0 MB/s\u001b[0m eta \u001b[36m0:00:00\u001b[0m\n",
            "\u001b[?25hDownloading typeguard-2.13.3-py3-none-any.whl (17 kB)\n",
            "Downloading Unidecode-1.3.8-py3-none-any.whl (235 kB)\n",
            "\u001b[2K   \u001b[90m━━━━━━━━━━━━━━━━━━━━━━━━━━━━━━━━━━━━━━━━\u001b[0m \u001b[32m235.5/235.5 kB\u001b[0m \u001b[31m14.2 MB/s\u001b[0m eta \u001b[36m0:00:00\u001b[0m\n",
            "\u001b[?25hDownloading weasyprint-63.0-py3-none-any.whl (299 kB)\n",
            "\u001b[2K   \u001b[90m━━━━━━━━━━━━━━━━━━━━━━━━━━━━━━━━━━━━━━━━\u001b[0m \u001b[32m299.9/299.9 kB\u001b[0m \u001b[31m18.0 MB/s\u001b[0m eta \u001b[36m0:00:00\u001b[0m\n",
            "\u001b[?25hDownloading cssselect2-0.7.0-py3-none-any.whl (15 kB)\n",
            "Downloading pydyf-0.11.0-py3-none-any.whl (8.1 kB)\n",
            "Downloading pyphen-0.15.0-py3-none-any.whl (2.1 MB)\n",
            "\u001b[2K   \u001b[90m━━━━━━━━━━━━━━━━━━━━━━━━━━━━━━━━━━━━━━━━\u001b[0m \u001b[32m2.1/2.1 MB\u001b[0m \u001b[31m56.0 MB/s\u001b[0m eta \u001b[36m0:00:00\u001b[0m\n",
            "\u001b[?25hDownloading tinyhtml5-2.0.0-py3-none-any.whl (39 kB)\n",
            "Downloading Brotli-1.1.0-cp310-cp310-manylinux_2_5_x86_64.manylinux1_x86_64.manylinux_2_12_x86_64.manylinux2010_x86_64.whl (3.0 MB)\n",
            "\u001b[2K   \u001b[90m━━━━━━━━━━━━━━━━━━━━━━━━━━━━━━━━━━━━━━━━\u001b[0m \u001b[32m3.0/3.0 MB\u001b[0m \u001b[31m69.5 MB/s\u001b[0m eta \u001b[36m0:00:00\u001b[0m\n",
            "\u001b[?25hDownloading zopfli-0.2.3.post1-cp310-cp310-manylinux_2_12_x86_64.manylinux2010_x86_64.whl (849 kB)\n",
            "\u001b[2K   \u001b[90m━━━━━━━━━━━━━━━━━━━━━━━━━━━━━━━━━━━━━━━━\u001b[0m \u001b[32m849.1/849.1 kB\u001b[0m \u001b[31m35.7 MB/s\u001b[0m eta \u001b[36m0:00:00\u001b[0m\n",
            "\u001b[?25hBuilding wheels for collected packages: distance, fasttext, langdetect\n",
            "  Building wheel for distance (setup.py) ... \u001b[?25l\u001b[?25hdone\n",
            "  Created wheel for distance: filename=Distance-0.1.3-py3-none-any.whl size=16256 sha256=f1b28a6cb19468ed42258a5b3fcad2966cc93a556e2b3d67e34de6874b361e39\n",
            "  Stored in directory: /root/.cache/pip/wheels/e8/bb/de/f71bf63559ea9a921059a5405806f7ff6ed612a9231c4a9309\n",
            "  Building wheel for fasttext (setup.py) ... \u001b[?25l\u001b[?25hdone\n",
            "  Created wheel for fasttext: filename=fasttext-0.9.2-cp310-cp310-linux_x86_64.whl size=4284412 sha256=2c1416b6b27bc5c1313432ea951c9b03646723c25893883a8d17285a40dc8b40\n",
            "  Stored in directory: /root/.cache/pip/wheels/a5/13/75/f811c84a8ab36eedbaef977a6a58a98990e8e0f1967f98f394\n",
            "  Building wheel for langdetect (setup.py) ... \u001b[?25l\u001b[?25hdone\n",
            "  Created wheel for langdetect: filename=langdetect-1.0.9-py3-none-any.whl size=993222 sha256=28e34ea47ad72d4935a74f8b96657fdc65705f6be9098cc4e19256007c5f30c6\n",
            "  Stored in directory: /root/.cache/pip/wheels/95/03/7d/59ea870c70ce4e5a370638b5462a7711ab78fba2f655d05106\n",
            "Successfully built distance fasttext langdetect\n",
            "Installing collected packages: pyclipper, distance, brotli, apted, zopfli, unidecode, typeguard, tqdm, tinyhtml5, rapidfuzz, Pyphen, pypdfium2, pypdf, pydyf, pybind11, protobuf, msgpack-numpy, mock, lazy-imports, langdetect, jsonlines, jmespath, tensorpack, tensorflow-addons, onnx, jdeskew, fasttext, cssselect2, botocore, weasyprint, tf2onnx, s3transfer, pdfminer.six, mplcursors, deepdoctection, python-doctr, pdfplumber, boto3\n",
            "  Attempting uninstall: typeguard\n",
            "    Found existing installation: typeguard 4.4.0\n",
            "    Uninstalling typeguard-4.4.0:\n",
            "      Successfully uninstalled typeguard-4.4.0\n",
            "  Attempting uninstall: tqdm\n",
            "    Found existing installation: tqdm 4.66.6\n",
            "    Uninstalling tqdm-4.66.6:\n",
            "      Successfully uninstalled tqdm-4.66.6\n",
            "  Attempting uninstall: protobuf\n",
            "    Found existing installation: protobuf 3.20.3\n",
            "    Uninstalling protobuf-3.20.3:\n",
            "      Successfully uninstalled protobuf-3.20.3\n",
            "\u001b[31mERROR: pip's dependency resolver does not currently take into account all the packages that are installed. This behaviour is the source of the following dependency conflicts.\n",
            "dopamine-rl 4.0.9 requires tqdm>=4.64.1, but you have tqdm 4.64.0 which is incompatible.\n",
            "google-ai-generativelanguage 0.6.10 requires protobuf!=4.21.0,!=4.21.1,!=4.21.2,!=4.21.3,!=4.21.4,!=4.21.5,<6.0.0dev,>=3.20.2, but you have protobuf 3.20.1 which is incompatible.\n",
            "google-api-core 2.19.2 requires protobuf!=3.20.0,!=3.20.1,!=4.21.0,!=4.21.1,!=4.21.2,!=4.21.3,!=4.21.4,!=4.21.5,<6.0.0.dev0,>=3.19.5, but you have protobuf 3.20.1 which is incompatible.\n",
            "google-cloud-aiplatform 1.70.0 requires protobuf!=4.21.0,!=4.21.1,!=4.21.2,!=4.21.3,!=4.21.4,!=4.21.5,<6.0.0dev,>=3.20.2, but you have protobuf 3.20.1 which is incompatible.\n",
            "google-cloud-bigquery-connection 1.15.5 requires protobuf!=4.21.0,!=4.21.1,!=4.21.2,!=4.21.3,!=4.21.4,!=4.21.5,<6.0.0dev,>=3.20.2, but you have protobuf 3.20.1 which is incompatible.\n",
            "google-cloud-bigquery-storage 2.27.0 requires protobuf!=3.20.0,!=3.20.1,!=4.21.0,!=4.21.1,!=4.21.2,!=4.21.3,!=4.21.4,!=4.21.5,<6.0.0dev,>=3.20.2, but you have protobuf 3.20.1 which is incompatible.\n",
            "google-cloud-bigtable 2.26.0 requires protobuf!=4.21.0,!=4.21.1,!=4.21.2,!=4.21.3,!=4.21.4,!=4.21.5,<6.0.0dev,>=3.20.2, but you have protobuf 3.20.1 which is incompatible.\n",
            "google-cloud-datastore 2.19.0 requires protobuf!=3.20.0,!=3.20.1,!=4.21.0,!=4.21.1,!=4.21.2,!=4.21.3,!=4.21.4,!=4.21.5,<5.0.0dev,>=3.19.5, but you have protobuf 3.20.1 which is incompatible.\n",
            "google-cloud-firestore 2.16.1 requires protobuf!=3.20.0,!=3.20.1,!=4.21.0,!=4.21.1,!=4.21.2,!=4.21.3,!=4.21.4,!=4.21.5,<5.0.0dev,>=3.19.5, but you have protobuf 3.20.1 which is incompatible.\n",
            "google-cloud-functions 1.16.5 requires protobuf!=4.21.0,!=4.21.1,!=4.21.2,!=4.21.3,!=4.21.4,!=4.21.5,<6.0.0dev,>=3.20.2, but you have protobuf 3.20.1 which is incompatible.\n",
            "google-cloud-iam 2.16.0 requires protobuf!=4.21.0,!=4.21.1,!=4.21.2,!=4.21.3,!=4.21.4,!=4.21.5,<6.0.0dev,>=3.20.2, but you have protobuf 3.20.1 which is incompatible.\n",
            "google-cloud-language 2.13.4 requires protobuf!=4.21.0,!=4.21.1,!=4.21.2,!=4.21.3,!=4.21.4,!=4.21.5,<6.0.0dev,>=3.20.2, but you have protobuf 3.20.1 which is incompatible.\n",
            "google-cloud-pubsub 2.25.0 requires protobuf!=4.21.0,!=4.21.1,!=4.21.2,!=4.21.3,!=4.21.4,!=4.21.5,<6.0.0dev,>=3.20.2, but you have protobuf 3.20.1 which is incompatible.\n",
            "google-cloud-resource-manager 1.13.0 requires protobuf!=4.21.0,!=4.21.1,!=4.21.2,!=4.21.3,!=4.21.4,!=4.21.5,<6.0.0dev,>=3.20.2, but you have protobuf 3.20.1 which is incompatible.\n",
            "google-cloud-translate 3.15.5 requires protobuf!=4.21.0,!=4.21.1,!=4.21.2,!=4.21.3,!=4.21.4,!=4.21.5,<6.0.0dev,>=3.20.2, but you have protobuf 3.20.1 which is incompatible.\n",
            "googleapis-common-protos 1.65.0 requires protobuf!=3.20.0,!=3.20.1,!=4.21.1,!=4.21.2,!=4.21.3,!=4.21.4,!=4.21.5,<6.0.0.dev0,>=3.20.2, but you have protobuf 3.20.1 which is incompatible.\n",
            "grpc-google-iam-v1 0.13.1 requires protobuf!=4.21.1,!=4.21.2,!=4.21.3,!=4.21.4,!=4.21.5,<6.0.0dev,>=3.20.2, but you have protobuf 3.20.1 which is incompatible.\n",
            "inflect 7.4.0 requires typeguard>=4.0.1, but you have typeguard 2.13.3 which is incompatible.\n",
            "tensorflow 2.17.0 requires protobuf!=4.21.0,!=4.21.1,!=4.21.2,!=4.21.3,!=4.21.4,!=4.21.5,<5.0.0dev,>=3.20.3, but you have protobuf 3.20.1 which is incompatible.\n",
            "tensorflow-metadata 1.16.1 requires protobuf<4.21,>=3.20.3; python_version < \"3.11\", but you have protobuf 3.20.1 which is incompatible.\u001b[0m\u001b[31m\n",
            "\u001b[0mSuccessfully installed Pyphen-0.15.0 apted-1.0.3 boto3-1.34.102 botocore-1.34.162 brotli-1.1.0 cssselect2-0.7.0 deepdoctection-0.34 distance-0.1.3 fasttext-0.9.2 jdeskew-0.2.2 jmespath-1.0.1 jsonlines-3.1.0 langdetect-1.0.9 lazy-imports-0.3.1 mock-4.0.3 mplcursors-0.6 msgpack-numpy-0.4.8 onnx-1.12.0 pdfminer.six-20231228 pdfplumber-0.11.4 protobuf-3.20.1 pybind11-2.13.6 pyclipper-1.3.0.post6 pydyf-0.11.0 pypdf-5.1.0 pypdfium2-4.30.0 python-doctr-0.8.1 rapidfuzz-3.10.1 s3transfer-0.10.3 tensorflow-addons-0.23.0 tensorpack-0.11 tf2onnx-1.16.1 tinyhtml5-2.0.0 tqdm-4.64.0 typeguard-2.13.3 unidecode-1.3.8 weasyprint-63.0 zopfli-0.2.3.post1\n"
          ]
        },
        {
          "output_type": "display_data",
          "data": {
            "application/vnd.colab-display-data+json": {
              "pip_warning": {
                "packages": [
                  "google",
                  "tqdm"
                ]
              },
              "id": "90fab3255b804ef0880b500844843d98"
            }
          },
          "metadata": {}
        }
      ]
    },
    {
      "cell_type": "markdown",
      "source": [
        "Установка Tesseract"
      ],
      "metadata": {
        "id": "T69ludyQcU1e"
      }
    },
    {
      "cell_type": "code",
      "source": [
        "!sudo apt install tesseract-ocr\n",
        "!sudo apt install libtesseract-dev"
      ],
      "metadata": {
        "colab": {
          "base_uri": "https://localhost:8080/"
        },
        "id": "LYOQCQEDbi-Y",
        "outputId": "921dff57-a61e-414c-a311-a088f0d1393b"
      },
      "execution_count": null,
      "outputs": [
        {
          "output_type": "stream",
          "name": "stdout",
          "text": [
            "Reading package lists... Done\n",
            "Building dependency tree... Done\n",
            "Reading state information... Done\n",
            "The following additional packages will be installed:\n",
            "  tesseract-ocr-eng tesseract-ocr-osd\n",
            "The following NEW packages will be installed:\n",
            "  tesseract-ocr tesseract-ocr-eng tesseract-ocr-osd\n",
            "0 upgraded, 3 newly installed, 0 to remove and 49 not upgraded.\n",
            "Need to get 4,816 kB of archives.\n",
            "After this operation, 15.6 MB of additional disk space will be used.\n",
            "Get:1 http://archive.ubuntu.com/ubuntu jammy/universe amd64 tesseract-ocr-eng all 1:4.00~git30-7274cfa-1.1 [1,591 kB]\n",
            "Get:2 http://archive.ubuntu.com/ubuntu jammy/universe amd64 tesseract-ocr-osd all 1:4.00~git30-7274cfa-1.1 [2,990 kB]\n",
            "Get:3 http://archive.ubuntu.com/ubuntu jammy/universe amd64 tesseract-ocr amd64 4.1.1-2.1build1 [236 kB]\n",
            "Fetched 4,816 kB in 1s (3,541 kB/s)\n",
            "debconf: unable to initialize frontend: Dialog\n",
            "debconf: (No usable dialog-like program is installed, so the dialog based frontend cannot be used. at /usr/share/perl5/Debconf/FrontEnd/Dialog.pm line 78, <> line 3.)\n",
            "debconf: falling back to frontend: Readline\n",
            "debconf: unable to initialize frontend: Readline\n",
            "debconf: (This frontend requires a controlling tty.)\n",
            "debconf: falling back to frontend: Teletype\n",
            "dpkg-preconfigure: unable to re-open stdin: \n",
            "Selecting previously unselected package tesseract-ocr-eng.\n",
            "(Reading database ... 123623 files and directories currently installed.)\n",
            "Preparing to unpack .../tesseract-ocr-eng_1%3a4.00~git30-7274cfa-1.1_all.deb ...\n",
            "Unpacking tesseract-ocr-eng (1:4.00~git30-7274cfa-1.1) ...\n",
            "Selecting previously unselected package tesseract-ocr-osd.\n",
            "Preparing to unpack .../tesseract-ocr-osd_1%3a4.00~git30-7274cfa-1.1_all.deb ...\n",
            "Unpacking tesseract-ocr-osd (1:4.00~git30-7274cfa-1.1) ...\n",
            "Selecting previously unselected package tesseract-ocr.\n",
            "Preparing to unpack .../tesseract-ocr_4.1.1-2.1build1_amd64.deb ...\n",
            "Unpacking tesseract-ocr (4.1.1-2.1build1) ...\n",
            "Setting up tesseract-ocr-eng (1:4.00~git30-7274cfa-1.1) ...\n",
            "Setting up tesseract-ocr-osd (1:4.00~git30-7274cfa-1.1) ...\n",
            "Setting up tesseract-ocr (4.1.1-2.1build1) ...\n",
            "Processing triggers for man-db (2.10.2-1) ...\n",
            "Reading package lists... Done\n",
            "Building dependency tree... Done\n",
            "Reading state information... Done\n",
            "The following additional packages will be installed:\n",
            "  libarchive-dev libleptonica-dev\n",
            "The following NEW packages will be installed:\n",
            "  libarchive-dev libleptonica-dev libtesseract-dev\n",
            "0 upgraded, 3 newly installed, 0 to remove and 49 not upgraded.\n",
            "Need to get 3,743 kB of archives.\n",
            "After this operation, 16.0 MB of additional disk space will be used.\n",
            "Get:1 http://archive.ubuntu.com/ubuntu jammy-updates/main amd64 libarchive-dev amd64 3.6.0-1ubuntu1.3 [581 kB]\n",
            "Get:2 http://archive.ubuntu.com/ubuntu jammy/universe amd64 libleptonica-dev amd64 1.82.0-3build1 [1,562 kB]\n",
            "Get:3 http://archive.ubuntu.com/ubuntu jammy/universe amd64 libtesseract-dev amd64 4.1.1-2.1build1 [1,600 kB]\n",
            "Fetched 3,743 kB in 0s (8,938 kB/s)\n",
            "debconf: unable to initialize frontend: Dialog\n",
            "debconf: (No usable dialog-like program is installed, so the dialog based frontend cannot be used. at /usr/share/perl5/Debconf/FrontEnd/Dialog.pm line 78, <> line 3.)\n",
            "debconf: falling back to frontend: Readline\n",
            "debconf: unable to initialize frontend: Readline\n",
            "debconf: (This frontend requires a controlling tty.)\n",
            "debconf: falling back to frontend: Teletype\n",
            "dpkg-preconfigure: unable to re-open stdin: \n",
            "Selecting previously unselected package libarchive-dev:amd64.\n",
            "(Reading database ... 123670 files and directories currently installed.)\n",
            "Preparing to unpack .../libarchive-dev_3.6.0-1ubuntu1.3_amd64.deb ...\n",
            "Unpacking libarchive-dev:amd64 (3.6.0-1ubuntu1.3) ...\n",
            "Selecting previously unselected package libleptonica-dev.\n",
            "Preparing to unpack .../libleptonica-dev_1.82.0-3build1_amd64.deb ...\n",
            "Unpacking libleptonica-dev (1.82.0-3build1) ...\n",
            "Selecting previously unselected package libtesseract-dev:amd64.\n",
            "Preparing to unpack .../libtesseract-dev_4.1.1-2.1build1_amd64.deb ...\n",
            "Unpacking libtesseract-dev:amd64 (4.1.1-2.1build1) ...\n",
            "Setting up libleptonica-dev (1.82.0-3build1) ...\n",
            "Setting up libarchive-dev:amd64 (3.6.0-1ubuntu1.3) ...\n",
            "Setting up libtesseract-dev:amd64 (4.1.1-2.1build1) ...\n",
            "Processing triggers for man-db (2.10.2-1) ...\n"
          ]
        }
      ]
    },
    {
      "cell_type": "code",
      "source": [
        "!mkdir -p output/rotated && for file in output/*_rotated*; do [[ -f \"$file\" ]] && base_name=$(basename \"$file\" | sed 's/\\.[^.]*$//') && mkdir -p \"output/rotated/$base_name\" && cp \"$file\" \"output/rotated/$base_name/\"; done"
      ],
      "metadata": {
        "id": "RFpz0DyXcYjQ"
      },
      "execution_count": null,
      "outputs": []
    },
    {
      "cell_type": "code",
      "source": [
        "!pip install poppler-utils"
      ],
      "metadata": {
        "colab": {
          "base_uri": "https://localhost:8080/"
        },
        "id": "-BOuIZ_gjIat",
        "outputId": "10439275-e18d-40e5-ed8c-c64b04fb2107"
      },
      "execution_count": null,
      "outputs": [
        {
          "output_type": "stream",
          "name": "stdout",
          "text": [
            "Collecting poppler-utils\n",
            "  Downloading poppler_utils-0.1.0-py3-none-any.whl.metadata (883 bytes)\n",
            "Requirement already satisfied: Click>=7.0 in /usr/local/lib/python3.10/dist-packages (from poppler-utils) (8.1.7)\n",
            "Downloading poppler_utils-0.1.0-py3-none-any.whl (9.2 kB)\n",
            "Installing collected packages: poppler-utils\n",
            "Successfully installed poppler-utils-0.1.0\n"
          ]
        }
      ]
    },
    {
      "cell_type": "code",
      "source": [
        "!wget https://github.com/tesseract-ocr/tessdata/raw/refs/heads/main/rus.traineddata -P /usr/share/tesseract-ocr/4.00/tessdata/"
      ],
      "metadata": {
        "colab": {
          "base_uri": "https://localhost:8080/"
        },
        "id": "jhR6BmWFfSzJ",
        "outputId": "6f7e4162-4f5a-4c37-d5ce-dfc1b2f78ccb"
      },
      "execution_count": null,
      "outputs": [
        {
          "output_type": "stream",
          "name": "stdout",
          "text": [
            "--2024-11-04 14:22:50--  https://github.com/tesseract-ocr/tessdata/raw/refs/heads/main/rus.traineddata\n",
            "Resolving github.com (github.com)... 140.82.112.3\n",
            "Connecting to github.com (github.com)|140.82.112.3|:443... connected.\n",
            "HTTP request sent, awaiting response... 302 Found\n",
            "Location: https://raw.githubusercontent.com/tesseract-ocr/tessdata/refs/heads/main/rus.traineddata [following]\n",
            "--2024-11-04 14:22:50--  https://raw.githubusercontent.com/tesseract-ocr/tessdata/refs/heads/main/rus.traineddata\n",
            "Resolving raw.githubusercontent.com (raw.githubusercontent.com)... 185.199.110.133, 185.199.108.133, 185.199.111.133, ...\n",
            "Connecting to raw.githubusercontent.com (raw.githubusercontent.com)|185.199.110.133|:443... connected.\n",
            "HTTP request sent, awaiting response... 200 OK\n",
            "Length: 19920885 (19M) [application/octet-stream]\n",
            "Saving to: ‘/usr/share/tesseract-ocr/4.00/tessdata/rus.traineddata’\n",
            "\n",
            "rus.traineddata     100%[===================>]  19.00M  --.-KB/s    in 0.1s    \n",
            "\n",
            "2024-11-04 14:22:51 (140 MB/s) - ‘/usr/share/tesseract-ocr/4.00/tessdata/rus.traineddata’ saved [19920885/19920885]\n",
            "\n"
          ]
        }
      ]
    },
    {
      "cell_type": "code",
      "source": [
        "!for dir in output/rotated/*/; do python deepdoctection.py \"$dir\"; done"
      ],
      "metadata": {
        "colab": {
          "base_uri": "https://localhost:8080/"
        },
        "id": "6_nTyzdEs3yn",
        "outputId": "dc743669-b0c6-4ecd-e8ec-9c7e9e04ed4b"
      },
      "execution_count": 36,
      "outputs": [
        {
          "output_type": "stream",
          "name": "stdout",
          "text": [
            "Traceback (most recent call last):\n",
            "  File \"/content/deepdoctection.py\", line 12, in <module>\n",
            "    analyzer = dd.get_dd_analyzer(config_overwrite=[\"LANGUAGE='rus'\"])\n",
            "AttributeError: module 'deepdoctection' has no attribute 'get_dd_analyzer'\n",
            "Traceback (most recent call last):\n",
            "  File \"/content/deepdoctection.py\", line 12, in <module>\n",
            "    analyzer = dd.get_dd_analyzer(config_overwrite=[\"LANGUAGE='rus'\"])\n",
            "AttributeError: module 'deepdoctection' has no attribute 'get_dd_analyzer'\n",
            "Traceback (most recent call last):\n",
            "  File \"/content/deepdoctection.py\", line 12, in <module>\n",
            "    analyzer = dd.get_dd_analyzer(config_overwrite=[\"LANGUAGE='rus'\"])\n",
            "AttributeError: module 'deepdoctection' has no attribute 'get_dd_analyzer'\n",
            "Traceback (most recent call last):\n",
            "  File \"/content/deepdoctection.py\", line 12, in <module>\n",
            "    analyzer = dd.get_dd_analyzer(config_overwrite=[\"LANGUAGE='rus'\"])\n",
            "AttributeError: module 'deepdoctection' has no attribute 'get_dd_analyzer'\n",
            "Traceback (most recent call last):\n",
            "  File \"/content/deepdoctection.py\", line 12, in <module>\n",
            "    analyzer = dd.get_dd_analyzer(config_overwrite=[\"LANGUAGE='rus'\"])\n",
            "AttributeError: module 'deepdoctection' has no attribute 'get_dd_analyzer'\n",
            "Traceback (most recent call last):\n",
            "  File \"/content/deepdoctection.py\", line 12, in <module>\n",
            "    analyzer = dd.get_dd_analyzer(config_overwrite=[\"LANGUAGE='rus'\"])\n",
            "AttributeError: module 'deepdoctection' has no attribute 'get_dd_analyzer'\n",
            "Traceback (most recent call last):\n",
            "  File \"/content/deepdoctection.py\", line 12, in <module>\n",
            "    analyzer = dd.get_dd_analyzer(config_overwrite=[\"LANGUAGE='rus'\"])\n",
            "AttributeError: module 'deepdoctection' has no attribute 'get_dd_analyzer'\n",
            "Traceback (most recent call last):\n",
            "  File \"/content/deepdoctection.py\", line 12, in <module>\n",
            "    analyzer = dd.get_dd_analyzer(config_overwrite=[\"LANGUAGE='rus'\"])\n",
            "AttributeError: module 'deepdoctection' has no attribute 'get_dd_analyzer'\n",
            "Traceback (most recent call last):\n",
            "  File \"/content/deepdoctection.py\", line 12, in <module>\n",
            "    analyzer = dd.get_dd_analyzer(config_overwrite=[\"LANGUAGE='rus'\"])\n",
            "AttributeError: module 'deepdoctection' has no attribute 'get_dd_analyzer'\n",
            "Traceback (most recent call last):\n",
            "  File \"/content/deepdoctection.py\", line 12, in <module>\n",
            "    analyzer = dd.get_dd_analyzer(config_overwrite=[\"LANGUAGE='rus'\"])\n",
            "AttributeError: module 'deepdoctection' has no attribute 'get_dd_analyzer'\n"
          ]
        }
      ]
    },
    {
      "cell_type": "code",
      "source": [
        "!mkdir output/deepdocetion_results"
      ],
      "metadata": {
        "id": "cg2lJabStpoI"
      },
      "execution_count": 46,
      "outputs": []
    },
    {
      "cell_type": "code",
      "source": [
        "import deepdoctection as dd\n",
        "import os\n",
        "from pathlib import Path\n",
        "\n",
        "\n",
        "analyzer = dd.get_dd_analyzer(config_overwrite=[\"LANGUAGE='rus'\"])\n",
        "\n",
        "path = Path(\"output/rotated\")\n",
        "subdirs = [d for d in path.iterdir() if d.is_dir()]\n",
        "\n",
        "for i in subdirs:\n",
        "  df = analyzer.analyze(path=i)\n",
        "  df.reset_state()\n",
        "\n",
        "  doc = iter(df)\n",
        "  page = next(doc)\n",
        "\n",
        "  base_name = os.path.splitext(page.file_name)[0]\n",
        "  print(base_name)\n",
        "  # Сохранение таблицы в файл\n",
        "  if page.tables:\n",
        "      tables_file_path = f\"output/deepdocetion_results/{base_name}_tables.html\"\n",
        "      with open(tables_file_path, 'w') as tables_file:\n",
        "          tables_file.write(page.tables[0].html)\n",
        "      print(f\"Таблицы сохранены в '{tables_file_path}'\")\n",
        "  else:\n",
        "      print(\"Таблицы не найдены.\")\n",
        "\n",
        "  # Сохранение текста в файл\n",
        "  try:\n",
        "      text_content = '\\n'.join(page.text_)\n",
        "  except ValueError:\n",
        "      text_content = ''\n",
        "\n",
        "  text_file_path = f\"output/deepdocetion_results/{base_name}_text.txt\"\n",
        "  with open(text_file_path, 'w') as text_file:\n",
        "      text_file.write(text_content)\n",
        "  print(f\"Текст сохранен в '{text_file_path}'\")"
      ],
      "metadata": {
        "colab": {
          "base_uri": "https://localhost:8080/"
        },
        "id": "u6vvnNNzc0nS",
        "outputId": "ed0e1016-be9b-403c-d1b8-2924c9b10d86"
      },
      "execution_count": 48,
      "outputs": [
        {
          "output_type": "stream",
          "name": "stderr",
          "text": [
            "[1104 15:28.06 @dd.py:472]  INF  Config: \n",
            " {'DEVICE': device(type='cpu'),\n",
            " 'LANGUAGE': 'rus',\n",
            " 'LAYOUT_NMS_PAIRS': {'COMBINATIONS': None, 'PRIORITY': None, 'THRESHOLDS': None},\n",
            " 'LIB': 'PT',\n",
            " 'OCR': {'CONFIG': {'TESSERACT': 'dd/conf_tesseract.yaml'},\n",
            "         'USE_DOCTR': False,\n",
            "         'USE_TESSERACT': True,\n",
            "         'USE_TEXTRACT': False,\n",
            "         'WEIGHTS': {'DOCTR_RECOGNITION': {'PT': 'doctr/crnn_vgg16_bn/pt/crnn_vgg16_bn-9762b0b0.pt',\n",
            "                                           'TF': 'doctr/crnn_vgg16_bn/tf/crnn_vgg16_bn-76b7f2c6.zip'},\n",
            "                     'DOCTR_WORD': {'PT': 'doctr/db_resnet50/pt/db_resnet50-ac60cadc.pt',\n",
            "                                    'TF': 'doctr/db_resnet50/tf/db_resnet50-adcafc63.zip'}}},\n",
            " 'PDF_MINER': {'X_TOLERANCE': 3, 'Y_TOLERANCE': 3},\n",
            " 'PT': {'CELL': {'FILTER': None,\n",
            "                 'WEIGHTS': 'cell/d2_model_1849999_cell_inf_only.pt',\n",
            "                 'WEIGHTS_TS': 'cell/d2_model_1849999_cell_inf_only.ts'},\n",
            "        'ITEM': {'FILTER': None,\n",
            "                 'PAD': {'BOTTOM': 60, 'LEFT': 60, 'RIGHT': 60, 'TOP': 60},\n",
            "                 'WEIGHTS': 'item/d2_model_1639999_item_inf_only.pt',\n",
            "                 'WEIGHTS_TS': 'item/d2_model_1639999_item_inf_only.ts'},\n",
            "        'LAYOUT': {'FILTER': None,\n",
            "                   'PAD': {'BOTTOM': 60, 'LEFT': 60, 'RIGHT': 60, 'TOP': 60},\n",
            "                   'WEIGHTS': 'layout/d2_model_0829999_layout_inf_only.pt',\n",
            "                   'WEIGHTS_TS': 'layout/d2_model_0829999_layout_inf_only.ts'}},\n",
            " 'SEGMENTATION': {'ASSIGNMENT_RULE': 'ioa',\n",
            "                  'CELL_CATEGORY_ID': 12,\n",
            "                  'FULL_TABLE_TILING': True,\n",
            "                  'REMOVE_IOU_THRESHOLD_COLS': 0.001,\n",
            "                  'REMOVE_IOU_THRESHOLD_ROWS': 0.001,\n",
            "                  'STRETCH_RULE': 'equal',\n",
            "                  'THRESHOLD_COLS': 0.4,\n",
            "                  'THRESHOLD_ROWS': 0.4},\n",
            " 'TEXT_ORDERING': {'BROKEN_LINE_TOLERANCE': 0.003,\n",
            "                   'FLOATING_TEXT_BLOCK_CATEGORIES': ['title', 'text', 'list'],\n",
            "                   'HEIGHT_TOLERANCE': 2.0,\n",
            "                   'INCLUDE_RESIDUAL_TEXT_CONTAINER': False,\n",
            "                   'PARAGRAPH_BREAK': 0.035,\n",
            "                   'STARTING_POINT_TOLERANCE': 0.005,\n",
            "                   'TEXT_BLOCK_CATEGORIES': ['title', 'text', 'list', 'cell', 'column_header',\n",
            "                                             'projected_row_header', 'spanning', 'row_header']},\n",
            " 'TF': {'CELL': {'FILTER': None, 'WEIGHTS': 'cell/model-1800000_inf_only.data-00000-of-00001'},\n",
            "        'ITEM': {'FILTER': None, 'WEIGHTS': 'item/model-1620000_inf_only.data-00000-of-00001'},\n",
            "        'LAYOUT': {'FILTER': None, 'WEIGHTS': 'layout/model-800000_inf_only.data-00000-of-00001'}},\n",
            " 'USE_LAYOUT': True,\n",
            " 'USE_OCR': True,\n",
            " 'USE_PDF_MINER': False,\n",
            " 'USE_TABLE_REFINEMENT': True,\n",
            " 'USE_TABLE_SEGMENTATION': True,\n",
            " 'WORD_MATCHING': {'MAX_PARENT_ONLY': True,\n",
            "                   'PARENTAL_CATEGORIES': ['text', 'title', 'list', 'cell', 'column_header',\n",
            "                                           'projected_row_header', 'spanning', 'row_header'],\n",
            "                   'RULE': 'ioa',\n",
            "                   'THRESHOLD': 0.6}}\n"
          ]
        },
        {
          "output_type": "stream",
          "name": "stdout",
          "text": [
            "[PosixPath('output/rotated/4_rotated'), PosixPath('output/rotated/5_rotated'), PosixPath('output/rotated/8_rotated'), PosixPath('output/rotated/6_rotated'), PosixPath('output/rotated/3_rotated'), PosixPath('output/rotated/10_rotated'), PosixPath('output/rotated/9_rotated'), PosixPath('output/rotated/7_rotated'), PosixPath('output/rotated/1_rotated'), PosixPath('output/rotated/2_rotated')]\n",
            "output/rotated/4_rotated\n"
          ]
        },
        {
          "output_type": "stream",
          "name": "stderr",
          "text": [
            "|          |1/?[00:00<00:00,1956.30it/s]\n",
            "[1104 15:28.11 @doctectionpipe.py:84]  INF  Processing 4_rotated.png\n",
            "[1104 15:28.25 @context.py:133]  INF  ImageLayoutService total: 13.9091 sec.\n",
            "[1104 15:28.52 @context.py:133]  INF  SubImageLayoutService total: 27.5935 sec.\n",
            "[1104 15:29.16 @context.py:133]  INF  SubImageLayoutService total: 23.3888 sec.\n",
            "[1104 15:29.16 @context.py:133]  INF  TableSegmentationService total: 0.5221 sec.\n",
            "[1104 15:29.17 @context.py:133]  INF  TableSegmentationRefinementService total: 0.1722 sec.\n",
            "[1104 15:29.18 @context.py:133]  INF  TextExtractionService total: 1.5377 sec.\n",
            "[1104 15:29.18 @context.py:133]  INF  MatchingService total: 0.0087 sec.\n",
            "[1104 15:29.18 @context.py:133]  INF  TextOrderService total: 0.1005 sec.\n",
            "[1104 15:29.22 @view.py:326]  WRN  html construction not possible\n",
            "[1104 15:29.22 @view.py:326]  WRN  html construction not possible\n",
            "[1104 15:29.22 @view.py:326]  WRN  html construction not possible\n",
            "[1104 15:29.22 @view.py:326]  WRN  html construction not possible\n",
            "[1104 15:29.22 @view.py:326]  WRN  html construction not possible\n",
            "[1104 15:29.22 @view.py:326]  WRN  html construction not possible\n",
            "[1104 15:29.22 @view.py:326]  WRN  html construction not possible\n",
            "[1104 15:29.22 @view.py:326]  WRN  html construction not possible\n",
            "[1104 15:29.22 @view.py:326]  WRN  html construction not possible\n",
            "[1104 15:29.22 @view.py:326]  WRN  html construction not possible\n",
            "[1104 15:29.22 @view.py:326]  WRN  html construction not possible\n",
            "[1104 15:29.22 @view.py:326]  WRN  html construction not possible\n",
            "[1104 15:29.22 @view.py:326]  WRN  html construction not possible\n",
            "[1104 15:29.22 @view.py:326]  WRN  html construction not possible\n",
            "[1104 15:29.22 @view.py:326]  WRN  html construction not possible\n",
            "[1104 15:29.22 @view.py:326]  WRN  html construction not possible\n",
            "[1104 15:29.22 @view.py:326]  WRN  html construction not possible\n",
            "[1104 15:29.22 @view.py:326]  WRN  html construction not possible\n",
            "[1104 15:29.22 @view.py:326]  WRN  html construction not possible\n",
            "[1104 15:29.22 @view.py:326]  WRN  html construction not possible\n",
            "[1104 15:29.22 @view.py:326]  WRN  html construction not possible\n",
            "[1104 15:29.22 @view.py:326]  WRN  html construction not possible\n",
            "[1104 15:29.22 @view.py:326]  WRN  html construction not possible\n",
            "[1104 15:29.22 @view.py:326]  WRN  html construction not possible\n",
            "[1104 15:29.22 @view.py:326]  WRN  html construction not possible\n",
            "[1104 15:29.22 @view.py:326]  WRN  html construction not possible\n",
            "[1104 15:29.22 @view.py:326]  WRN  html construction not possible\n",
            "[1104 15:29.22 @view.py:326]  WRN  html construction not possible\n",
            "[1104 15:29.22 @view.py:326]  WRN  html construction not possible\n",
            "[1104 15:29.22 @view.py:326]  WRN  html construction not possible\n",
            "[1104 15:29.22 @view.py:326]  WRN  html construction not possible\n",
            "[1104 15:29.22 @view.py:326]  WRN  html construction not possible\n",
            "[1104 15:29.22 @view.py:326]  WRN  html construction not possible\n",
            "[1104 15:29.22 @view.py:326]  WRN  html construction not possible\n",
            "[1104 15:29.22 @view.py:326]  WRN  html construction not possible\n",
            "[1104 15:29.22 @view.py:326]  WRN  html construction not possible\n",
            "[1104 15:29.22 @view.py:326]  WRN  html construction not possible\n",
            "[1104 15:29.22 @view.py:326]  WRN  html construction not possible\n",
            "[1104 15:29.22 @view.py:326]  WRN  html construction not possible\n",
            "[1104 15:29.22 @view.py:326]  WRN  html construction not possible\n",
            "[1104 15:29.22 @view.py:326]  WRN  html construction not possible\n",
            "[1104 15:29.22 @view.py:326]  WRN  html construction not possible\n",
            "[1104 15:29.22 @view.py:326]  WRN  html construction not possible\n",
            "[1104 15:29.22 @view.py:326]  WRN  html construction not possible\n",
            "[1104 15:29.22 @view.py:326]  WRN  html construction not possible\n",
            "[1104 15:29.22 @view.py:326]  WRN  html construction not possible\n",
            "[1104 15:29.22 @view.py:326]  WRN  html construction not possible\n",
            "[1104 15:29.22 @view.py:326]  WRN  html construction not possible\n",
            "[1104 15:29.22 @view.py:326]  WRN  html construction not possible\n",
            "[1104 15:29.22 @view.py:326]  WRN  html construction not possible\n",
            "[1104 15:29.22 @view.py:326]  WRN  html construction not possible\n",
            "[1104 15:29.22 @view.py:326]  WRN  html construction not possible\n",
            "[1104 15:29.22 @view.py:326]  WRN  html construction not possible\n",
            "[1104 15:29.22 @view.py:326]  WRN  html construction not possible\n",
            "[1104 15:29.22 @view.py:326]  WRN  html construction not possible\n",
            "[1104 15:29.22 @view.py:326]  WRN  html construction not possible\n",
            "[1104 15:29.22 @view.py:326]  WRN  html construction not possible\n",
            "[1104 15:29.22 @view.py:326]  WRN  html construction not possible\n",
            "[1104 15:29.22 @view.py:326]  WRN  html construction not possible\n",
            "[1104 15:29.22 @view.py:326]  WRN  html construction not possible\n",
            "[1104 15:29.22 @view.py:326]  WRN  html construction not possible\n",
            "[1104 15:29.22 @view.py:326]  WRN  html construction not possible\n",
            "[1104 15:29.22 @view.py:326]  WRN  html construction not possible\n",
            "[1104 15:29.22 @view.py:326]  WRN  html construction not possible\n",
            "[1104 15:29.22 @view.py:326]  WRN  html construction not possible\n",
            "[1104 15:29.22 @view.py:326]  WRN  html construction not possible\n",
            "[1104 15:29.22 @view.py:326]  WRN  html construction not possible\n",
            "[1104 15:29.22 @view.py:326]  WRN  html construction not possible\n",
            "[1104 15:29.22 @view.py:326]  WRN  html construction not possible\n",
            "[1104 15:29.22 @view.py:326]  WRN  html construction not possible\n",
            "[1104 15:29.22 @view.py:326]  WRN  html construction not possible\n",
            "[1104 15:29.22 @view.py:326]  WRN  html construction not possible\n",
            "[1104 15:29.22 @view.py:326]  WRN  html construction not possible\n",
            "[1104 15:29.22 @view.py:326]  WRN  html construction not possible\n",
            "[1104 15:29.22 @view.py:326]  WRN  html construction not possible\n",
            "[1104 15:29.22 @view.py:326]  WRN  html construction not possible\n",
            "[1104 15:29.22 @view.py:326]  WRN  html construction not possible\n",
            "[1104 15:29.22 @view.py:326]  WRN  html construction not possible\n",
            "[1104 15:29.22 @view.py:326]  WRN  html construction not possible\n",
            "[1104 15:29.22 @view.py:326]  WRN  html construction not possible\n",
            "[1104 15:29.22 @view.py:326]  WRN  html construction not possible\n",
            "[1104 15:29.22 @view.py:326]  WRN  html construction not possible\n",
            "[1104 15:29.22 @view.py:326]  WRN  html construction not possible\n",
            "[1104 15:29.22 @view.py:326]  WRN  html construction not possible\n",
            "[1104 15:29.22 @view.py:326]  WRN  html construction not possible\n",
            "[1104 15:29.22 @view.py:326]  WRN  html construction not possible\n",
            "[1104 15:29.22 @view.py:326]  WRN  html construction not possible\n",
            "[1104 15:29.22 @view.py:326]  WRN  html construction not possible\n",
            "[1104 15:29.22 @view.py:326]  WRN  html construction not possible\n",
            "[1104 15:29.22 @view.py:326]  WRN  html construction not possible\n",
            "[1104 15:29.22 @view.py:326]  WRN  html construction not possible\n",
            "[1104 15:29.22 @view.py:326]  WRN  html construction not possible\n",
            "[1104 15:29.22 @view.py:326]  WRN  html construction not possible\n"
          ]
        },
        {
          "output_type": "stream",
          "name": "stdout",
          "text": [
            "4_rotated\n"
          ]
        },
        {
          "output_type": "stream",
          "name": "stderr",
          "text": [
            "[1104 15:29.22 @view.py:326]  WRN  html construction not possible\n",
            "[1104 15:29.22 @view.py:326]  WRN  html construction not possible\n",
            "[1104 15:29.22 @view.py:326]  WRN  html construction not possible\n",
            "[1104 15:29.22 @view.py:326]  WRN  html construction not possible\n",
            "[1104 15:29.22 @view.py:326]  WRN  html construction not possible\n",
            "[1104 15:29.22 @view.py:326]  WRN  html construction not possible\n",
            "[1104 15:29.22 @view.py:326]  WRN  html construction not possible\n",
            "[1104 15:29.22 @view.py:326]  WRN  html construction not possible\n",
            "[1104 15:29.22 @view.py:326]  WRN  html construction not possible\n",
            "[1104 15:29.22 @view.py:326]  WRN  html construction not possible\n",
            "[1104 15:29.22 @view.py:326]  WRN  html construction not possible\n",
            "[1104 15:29.22 @view.py:326]  WRN  html construction not possible\n",
            "[1104 15:29.22 @view.py:326]  WRN  html construction not possible\n",
            "[1104 15:29.22 @view.py:326]  WRN  html construction not possible\n",
            "[1104 15:29.22 @view.py:326]  WRN  html construction not possible\n",
            "[1104 15:29.22 @view.py:326]  WRN  html construction not possible\n",
            "[1104 15:29.22 @view.py:326]  WRN  html construction not possible\n",
            "[1104 15:29.22 @view.py:326]  WRN  html construction not possible\n",
            "[1104 15:29.22 @view.py:326]  WRN  html construction not possible\n",
            "[1104 15:29.22 @view.py:326]  WRN  html construction not possible\n",
            "[1104 15:29.22 @view.py:326]  WRN  html construction not possible\n",
            "[1104 15:29.22 @view.py:326]  WRN  html construction not possible\n",
            "[1104 15:29.22 @view.py:326]  WRN  html construction not possible\n",
            "[1104 15:29.22 @view.py:326]  WRN  html construction not possible\n",
            "[1104 15:29.22 @view.py:326]  WRN  html construction not possible\n",
            "[1104 15:29.22 @view.py:326]  WRN  html construction not possible\n",
            "[1104 15:29.22 @view.py:326]  WRN  html construction not possible\n",
            "[1104 15:29.22 @view.py:326]  WRN  html construction not possible\n",
            "[1104 15:29.22 @view.py:326]  WRN  html construction not possible\n",
            "[1104 15:29.22 @view.py:326]  WRN  html construction not possible\n",
            "[1104 15:29.22 @view.py:326]  WRN  html construction not possible\n",
            "[1104 15:29.22 @view.py:326]  WRN  html construction not possible\n",
            "[1104 15:29.22 @view.py:326]  WRN  html construction not possible\n",
            "[1104 15:29.22 @view.py:326]  WRN  html construction not possible\n",
            "[1104 15:29.22 @view.py:326]  WRN  html construction not possible\n",
            "[1104 15:29.22 @view.py:326]  WRN  html construction not possible\n",
            "[1104 15:29.22 @view.py:326]  WRN  html construction not possible\n",
            "[1104 15:29.22 @view.py:326]  WRN  html construction not possible\n",
            "[1104 15:29.22 @view.py:326]  WRN  html construction not possible\n",
            "[1104 15:29.22 @view.py:326]  WRN  html construction not possible\n",
            "[1104 15:29.22 @view.py:326]  WRN  html construction not possible\n",
            "[1104 15:29.22 @view.py:326]  WRN  html construction not possible\n",
            "[1104 15:29.22 @view.py:326]  WRN  html construction not possible\n",
            "[1104 15:29.22 @view.py:326]  WRN  html construction not possible\n",
            "[1104 15:29.22 @view.py:326]  WRN  html construction not possible\n",
            "[1104 15:29.22 @view.py:326]  WRN  html construction not possible\n",
            "[1104 15:29.22 @view.py:326]  WRN  html construction not possible\n",
            "[1104 15:29.22 @view.py:326]  WRN  html construction not possible\n",
            "[1104 15:29.22 @view.py:326]  WRN  html construction not possible\n",
            "[1104 15:29.22 @view.py:326]  WRN  html construction not possible\n",
            "[1104 15:29.22 @view.py:326]  WRN  html construction not possible\n",
            "[1104 15:29.22 @view.py:326]  WRN  html construction not possible\n",
            "[1104 15:29.22 @view.py:326]  WRN  html construction not possible\n",
            "[1104 15:29.22 @view.py:326]  WRN  html construction not possible\n",
            "[1104 15:29.22 @view.py:326]  WRN  html construction not possible\n",
            "[1104 15:29.22 @view.py:326]  WRN  html construction not possible\n"
          ]
        },
        {
          "output_type": "stream",
          "name": "stdout",
          "text": [
            "Таблицы сохранены в 'output/deepdocetion_results/4_rotated_tables.html'\n",
            "Текст сохранен в 'output/deepdocetion_results/4_rotated_text.txt'\n",
            "output/rotated/5_rotated\n"
          ]
        },
        {
          "output_type": "stream",
          "name": "stderr",
          "text": [
            "|          |1/?[00:00<00:00,2411.91it/s]\n",
            "[1104 15:29.22 @doctectionpipe.py:84]  INF  Processing 5_rotated.png\n",
            "[1104 15:29.36 @context.py:133]  INF  ImageLayoutService total: 13.4599 sec.\n",
            "[1104 15:30.05 @context.py:133]  INF  SubImageLayoutService total: 29.0283 sec.\n",
            "[1104 15:30.31 @context.py:133]  INF  SubImageLayoutService total: 26.3306 sec.\n",
            "[1104 15:30.32 @context.py:133]  INF  TableSegmentationService total: 0.491 sec.\n",
            "[1104 15:30.32 @context.py:133]  INF  TableSegmentationRefinementService total: 0.3044 sec.\n",
            "[1104 15:30.34 @context.py:133]  INF  TextExtractionService total: 1.4611 sec.\n",
            "[1104 15:30.34 @context.py:133]  INF  MatchingService total: 0.0093 sec.\n",
            "[1104 15:30.34 @context.py:133]  INF  TextOrderService total: 0.1282 sec.\n",
            "[1104 15:30.42 @view.py:326]  WRN  html construction not possible\n",
            "[1104 15:30.42 @view.py:326]  WRN  html construction not possible\n",
            "[1104 15:30.42 @view.py:326]  WRN  html construction not possible\n",
            "[1104 15:30.42 @view.py:326]  WRN  html construction not possible\n",
            "[1104 15:30.42 @view.py:326]  WRN  html construction not possible\n",
            "[1104 15:30.42 @view.py:326]  WRN  html construction not possible\n",
            "[1104 15:30.42 @view.py:326]  WRN  html construction not possible\n",
            "[1104 15:30.42 @view.py:326]  WRN  html construction not possible\n",
            "[1104 15:30.42 @view.py:326]  WRN  html construction not possible\n",
            "[1104 15:30.42 @view.py:326]  WRN  html construction not possible\n",
            "[1104 15:30.42 @view.py:326]  WRN  html construction not possible\n",
            "[1104 15:30.42 @view.py:326]  WRN  html construction not possible\n",
            "[1104 15:30.42 @view.py:326]  WRN  html construction not possible\n",
            "[1104 15:30.42 @view.py:326]  WRN  html construction not possible\n",
            "[1104 15:30.42 @view.py:326]  WRN  html construction not possible\n",
            "[1104 15:30.42 @view.py:326]  WRN  html construction not possible\n",
            "[1104 15:30.42 @view.py:326]  WRN  html construction not possible\n",
            "[1104 15:30.42 @view.py:326]  WRN  html construction not possible\n",
            "[1104 15:30.42 @view.py:326]  WRN  html construction not possible\n",
            "[1104 15:30.42 @view.py:326]  WRN  html construction not possible\n",
            "[1104 15:30.42 @view.py:326]  WRN  html construction not possible\n",
            "[1104 15:30.42 @view.py:326]  WRN  html construction not possible\n",
            "[1104 15:30.42 @view.py:326]  WRN  html construction not possible\n",
            "[1104 15:30.42 @view.py:326]  WRN  html construction not possible\n",
            "[1104 15:30.42 @view.py:326]  WRN  html construction not possible\n",
            "[1104 15:30.42 @view.py:326]  WRN  html construction not possible\n",
            "[1104 15:30.42 @view.py:326]  WRN  html construction not possible\n",
            "[1104 15:30.42 @view.py:326]  WRN  html construction not possible\n",
            "[1104 15:30.42 @view.py:326]  WRN  html construction not possible\n",
            "[1104 15:30.42 @view.py:326]  WRN  html construction not possible\n",
            "[1104 15:30.42 @view.py:326]  WRN  html construction not possible\n",
            "[1104 15:30.42 @view.py:326]  WRN  html construction not possible\n",
            "[1104 15:30.42 @view.py:326]  WRN  html construction not possible\n",
            "[1104 15:30.42 @view.py:326]  WRN  html construction not possible\n",
            "[1104 15:30.42 @view.py:326]  WRN  html construction not possible\n",
            "[1104 15:30.42 @view.py:326]  WRN  html construction not possible\n"
          ]
        },
        {
          "output_type": "stream",
          "name": "stdout",
          "text": [
            "5_rotated\n"
          ]
        },
        {
          "output_type": "stream",
          "name": "stderr",
          "text": [
            "[1104 15:30.42 @view.py:326]  WRN  html construction not possible\n",
            "[1104 15:30.42 @view.py:326]  WRN  html construction not possible\n",
            "[1104 15:30.42 @view.py:326]  WRN  html construction not possible\n",
            "[1104 15:30.42 @view.py:326]  WRN  html construction not possible\n",
            "[1104 15:30.42 @view.py:326]  WRN  html construction not possible\n",
            "[1104 15:30.42 @view.py:326]  WRN  html construction not possible\n",
            "[1104 15:30.42 @view.py:326]  WRN  html construction not possible\n",
            "[1104 15:30.42 @view.py:326]  WRN  html construction not possible\n",
            "[1104 15:30.42 @view.py:326]  WRN  html construction not possible\n",
            "[1104 15:30.42 @view.py:326]  WRN  html construction not possible\n",
            "[1104 15:30.42 @view.py:326]  WRN  html construction not possible\n",
            "[1104 15:30.42 @view.py:326]  WRN  html construction not possible\n",
            "[1104 15:30.42 @view.py:326]  WRN  html construction not possible\n",
            "[1104 15:30.42 @view.py:326]  WRN  html construction not possible\n",
            "[1104 15:30.42 @view.py:326]  WRN  html construction not possible\n",
            "[1104 15:30.42 @view.py:326]  WRN  html construction not possible\n",
            "[1104 15:30.42 @view.py:326]  WRN  html construction not possible\n",
            "[1104 15:30.42 @view.py:326]  WRN  html construction not possible\n",
            "[1104 15:30.42 @view.py:326]  WRN  html construction not possible\n",
            "[1104 15:30.42 @view.py:326]  WRN  html construction not possible\n",
            "[1104 15:30.42 @view.py:326]  WRN  html construction not possible\n",
            "[1104 15:30.42 @view.py:326]  WRN  html construction not possible\n",
            "[1104 15:30.42 @view.py:326]  WRN  html construction not possible\n",
            "[1104 15:30.42 @view.py:326]  WRN  html construction not possible\n",
            "[1104 15:30.42 @view.py:326]  WRN  html construction not possible\n",
            "[1104 15:30.42 @view.py:326]  WRN  html construction not possible\n",
            "[1104 15:30.42 @view.py:326]  WRN  html construction not possible\n",
            "[1104 15:30.42 @view.py:326]  WRN  html construction not possible\n",
            "[1104 15:30.42 @view.py:326]  WRN  html construction not possible\n",
            "[1104 15:30.43 @view.py:326]  WRN  html construction not possible\n",
            "[1104 15:30.43 @view.py:326]  WRN  html construction not possible\n",
            "[1104 15:30.43 @view.py:326]  WRN  html construction not possible\n",
            "[1104 15:30.43 @view.py:326]  WRN  html construction not possible\n",
            "[1104 15:30.43 @view.py:326]  WRN  html construction not possible\n",
            "[1104 15:30.43 @view.py:326]  WRN  html construction not possible\n",
            "[1104 15:30.43 @view.py:326]  WRN  html construction not possible\n",
            "[1104 15:30.43 @view.py:326]  WRN  html construction not possible\n",
            "[1104 15:30.43 @view.py:326]  WRN  html construction not possible\n",
            "[1104 15:30.43 @view.py:326]  WRN  html construction not possible\n",
            "[1104 15:30.43 @view.py:326]  WRN  html construction not possible\n",
            "[1104 15:30.43 @view.py:326]  WRN  html construction not possible\n",
            "[1104 15:30.43 @view.py:326]  WRN  html construction not possible\n",
            "[1104 15:30.43 @view.py:326]  WRN  html construction not possible\n",
            "[1104 15:30.43 @view.py:326]  WRN  html construction not possible\n",
            "[1104 15:30.43 @view.py:326]  WRN  html construction not possible\n",
            "[1104 15:30.43 @view.py:326]  WRN  html construction not possible\n",
            "[1104 15:30.43 @view.py:326]  WRN  html construction not possible\n",
            "[1104 15:30.43 @view.py:326]  WRN  html construction not possible\n",
            "[1104 15:30.43 @view.py:326]  WRN  html construction not possible\n",
            "[1104 15:30.43 @view.py:326]  WRN  html construction not possible\n",
            "[1104 15:30.43 @view.py:326]  WRN  html construction not possible\n",
            "[1104 15:30.43 @view.py:326]  WRN  html construction not possible\n",
            "[1104 15:30.43 @view.py:326]  WRN  html construction not possible\n",
            "[1104 15:30.43 @view.py:326]  WRN  html construction not possible\n",
            "[1104 15:30.43 @view.py:326]  WRN  html construction not possible\n",
            "[1104 15:30.43 @view.py:326]  WRN  html construction not possible\n",
            "[1104 15:30.43 @view.py:326]  WRN  html construction not possible\n",
            "[1104 15:30.43 @view.py:326]  WRN  html construction not possible\n",
            "[1104 15:30.43 @view.py:326]  WRN  html construction not possible\n",
            "[1104 15:30.43 @view.py:326]  WRN  html construction not possible\n",
            "[1104 15:30.43 @view.py:326]  WRN  html construction not possible\n",
            "[1104 15:30.43 @view.py:326]  WRN  html construction not possible\n",
            "[1104 15:30.43 @view.py:326]  WRN  html construction not possible\n",
            "[1104 15:30.43 @view.py:326]  WRN  html construction not possible\n",
            "[1104 15:30.43 @view.py:326]  WRN  html construction not possible\n",
            "[1104 15:30.43 @view.py:326]  WRN  html construction not possible\n",
            "[1104 15:30.43 @view.py:326]  WRN  html construction not possible\n",
            "[1104 15:30.43 @view.py:326]  WRN  html construction not possible\n",
            "[1104 15:30.43 @view.py:326]  WRN  html construction not possible\n",
            "[1104 15:30.43 @view.py:326]  WRN  html construction not possible\n",
            "[1104 15:30.43 @view.py:326]  WRN  html construction not possible\n",
            "[1104 15:30.43 @view.py:326]  WRN  html construction not possible\n",
            "[1104 15:30.43 @view.py:326]  WRN  html construction not possible\n",
            "[1104 15:30.43 @view.py:326]  WRN  html construction not possible\n",
            "[1104 15:30.43 @view.py:326]  WRN  html construction not possible\n",
            "[1104 15:30.43 @view.py:326]  WRN  html construction not possible\n",
            "[1104 15:30.43 @view.py:326]  WRN  html construction not possible\n",
            "[1104 15:30.43 @view.py:326]  WRN  html construction not possible\n",
            "[1104 15:30.43 @view.py:326]  WRN  html construction not possible\n",
            "[1104 15:30.43 @view.py:326]  WRN  html construction not possible\n",
            "[1104 15:30.43 @view.py:326]  WRN  html construction not possible\n",
            "[1104 15:30.43 @view.py:326]  WRN  html construction not possible\n",
            "[1104 15:30.43 @view.py:326]  WRN  html construction not possible\n",
            "[1104 15:30.43 @view.py:326]  WRN  html construction not possible\n",
            "[1104 15:30.43 @view.py:326]  WRN  html construction not possible\n",
            "[1104 15:30.43 @view.py:326]  WRN  html construction not possible\n",
            "[1104 15:30.43 @view.py:326]  WRN  html construction not possible\n",
            "[1104 15:30.43 @view.py:326]  WRN  html construction not possible\n",
            "[1104 15:30.43 @view.py:326]  WRN  html construction not possible\n",
            "[1104 15:30.43 @view.py:326]  WRN  html construction not possible\n",
            "[1104 15:30.43 @view.py:326]  WRN  html construction not possible\n",
            "[1104 15:30.43 @view.py:326]  WRN  html construction not possible\n",
            "[1104 15:30.43 @view.py:326]  WRN  html construction not possible\n",
            "[1104 15:30.43 @view.py:326]  WRN  html construction not possible\n"
          ]
        },
        {
          "output_type": "stream",
          "name": "stdout",
          "text": [
            "Таблицы сохранены в 'output/deepdocetion_results/5_rotated_tables.html'\n",
            "Текст сохранен в 'output/deepdocetion_results/5_rotated_text.txt'\n",
            "output/rotated/8_rotated\n"
          ]
        },
        {
          "output_type": "stream",
          "name": "stderr",
          "text": [
            "|          |1/?[00:00<00:00,2060.07it/s]\n",
            "[1104 15:30.43 @doctectionpipe.py:84]  INF  Processing 8_rotated.png\n",
            "[1104 15:30.58 @context.py:133]  INF  ImageLayoutService total: 14.8382 sec.\n",
            "[1104 15:30.58 @context.py:133]  INF  SubImageLayoutService total: 0.0001 sec.\n",
            "[1104 15:30.58 @context.py:133]  INF  SubImageLayoutService total: 0.0001 sec.\n",
            "[1104 15:30.58 @context.py:133]  INF  TableSegmentationService total: 0.0001 sec.\n",
            "[1104 15:30.58 @context.py:133]  INF  TableSegmentationRefinementService total: 0.0001 sec.\n",
            "[1104 15:31.01 @context.py:133]  INF  TextExtractionService total: 2.8008 sec.\n",
            "[1104 15:31.01 @context.py:133]  INF  MatchingService total: 0.0021 sec.\n",
            "[1104 15:31.01 @context.py:133]  INF  TextOrderService total: 0.0066 sec.\n"
          ]
        },
        {
          "output_type": "stream",
          "name": "stdout",
          "text": [
            "8_rotated\n",
            "Таблицы не найдены.\n",
            "Текст сохранен в 'output/deepdocetion_results/8_rotated_text.txt'\n",
            "output/rotated/6_rotated\n"
          ]
        },
        {
          "output_type": "stream",
          "name": "stderr",
          "text": [
            "|          |1/?[00:00<00:00,2725.34it/s]\n",
            "[1104 15:31.01 @doctectionpipe.py:84]  INF  Processing 6_rotated.png\n",
            "[1104 15:31.12 @context.py:133]  INF  ImageLayoutService total: 11.0058 sec.\n",
            "[1104 15:31.25 @context.py:133]  INF  SubImageLayoutService total: 13.0909 sec.\n",
            "[1104 15:31.36 @context.py:133]  INF  SubImageLayoutService total: 11.5904 sec.\n",
            "[1104 15:31.37 @context.py:133]  INF  TableSegmentationService total: 0.3014 sec.\n",
            "[1104 15:31.37 @context.py:133]  INF  TableSegmentationRefinementService total: 0.2034 sec.\n",
            "[1104 15:31.38 @context.py:133]  INF  TextExtractionService total: 1.5563 sec.\n",
            "[1104 15:31.38 @context.py:133]  INF  MatchingService total: 0.0069 sec.\n",
            "[1104 15:31.38 @context.py:133]  INF  TextOrderService total: 0.0563 sec.\n",
            "[1104 15:31.44 @view.py:326]  WRN  html construction not possible\n",
            "[1104 15:31.44 @view.py:326]  WRN  html construction not possible\n",
            "[1104 15:31.44 @view.py:326]  WRN  html construction not possible\n",
            "[1104 15:31.44 @view.py:326]  WRN  html construction not possible\n",
            "[1104 15:31.44 @view.py:326]  WRN  html construction not possible\n",
            "[1104 15:31.44 @view.py:326]  WRN  html construction not possible\n",
            "[1104 15:31.44 @view.py:326]  WRN  html construction not possible\n",
            "[1104 15:31.44 @view.py:326]  WRN  html construction not possible\n",
            "[1104 15:31.44 @view.py:326]  WRN  html construction not possible\n",
            "[1104 15:31.44 @view.py:326]  WRN  html construction not possible\n",
            "[1104 15:31.44 @view.py:326]  WRN  html construction not possible\n",
            "[1104 15:31.44 @view.py:326]  WRN  html construction not possible\n",
            "[1104 15:31.44 @view.py:326]  WRN  html construction not possible\n",
            "[1104 15:31.44 @view.py:326]  WRN  html construction not possible\n",
            "[1104 15:31.44 @view.py:326]  WRN  html construction not possible\n",
            "[1104 15:31.44 @view.py:326]  WRN  html construction not possible\n",
            "[1104 15:31.44 @view.py:326]  WRN  html construction not possible\n",
            "[1104 15:31.44 @view.py:326]  WRN  html construction not possible\n",
            "[1104 15:31.44 @view.py:326]  WRN  html construction not possible\n",
            "[1104 15:31.44 @view.py:326]  WRN  html construction not possible\n",
            "[1104 15:31.44 @view.py:326]  WRN  html construction not possible\n",
            "[1104 15:31.44 @view.py:326]  WRN  html construction not possible\n",
            "[1104 15:31.44 @view.py:326]  WRN  html construction not possible\n",
            "[1104 15:31.44 @view.py:326]  WRN  html construction not possible\n",
            "[1104 15:31.44 @view.py:326]  WRN  html construction not possible\n",
            "[1104 15:31.44 @view.py:326]  WRN  html construction not possible\n",
            "[1104 15:31.44 @view.py:326]  WRN  html construction not possible\n",
            "[1104 15:31.44 @view.py:326]  WRN  html construction not possible\n",
            "[1104 15:31.44 @view.py:326]  WRN  html construction not possible\n",
            "[1104 15:31.44 @view.py:326]  WRN  html construction not possible\n",
            "[1104 15:31.44 @view.py:326]  WRN  html construction not possible\n",
            "[1104 15:31.44 @view.py:326]  WRN  html construction not possible\n",
            "[1104 15:31.44 @view.py:326]  WRN  html construction not possible\n",
            "[1104 15:31.44 @view.py:326]  WRN  html construction not possible\n",
            "[1104 15:31.44 @view.py:326]  WRN  html construction not possible\n",
            "[1104 15:31.44 @view.py:326]  WRN  html construction not possible\n",
            "[1104 15:31.44 @view.py:326]  WRN  html construction not possible\n",
            "[1104 15:31.44 @view.py:326]  WRN  html construction not possible\n",
            "[1104 15:31.44 @view.py:326]  WRN  html construction not possible\n"
          ]
        },
        {
          "output_type": "stream",
          "name": "stdout",
          "text": [
            "6_rotated\n"
          ]
        },
        {
          "output_type": "stream",
          "name": "stderr",
          "text": [
            "[1104 15:31.44 @view.py:326]  WRN  html construction not possible\n",
            "[1104 15:31.44 @view.py:326]  WRN  html construction not possible\n",
            "[1104 15:31.44 @view.py:326]  WRN  html construction not possible\n",
            "[1104 15:31.44 @view.py:326]  WRN  html construction not possible\n",
            "[1104 15:31.44 @view.py:326]  WRN  html construction not possible\n",
            "[1104 15:31.44 @view.py:326]  WRN  html construction not possible\n",
            "[1104 15:31.44 @view.py:326]  WRN  html construction not possible\n",
            "[1104 15:31.44 @view.py:326]  WRN  html construction not possible\n",
            "[1104 15:31.44 @view.py:326]  WRN  html construction not possible\n",
            "[1104 15:31.44 @view.py:326]  WRN  html construction not possible\n",
            "[1104 15:31.44 @view.py:326]  WRN  html construction not possible\n"
          ]
        },
        {
          "output_type": "stream",
          "name": "stdout",
          "text": [
            "Таблицы сохранены в 'output/deepdocetion_results/6_rotated_tables.html'\n",
            "Текст сохранен в 'output/deepdocetion_results/6_rotated_text.txt'\n",
            "output/rotated/3_rotated\n"
          ]
        },
        {
          "output_type": "stream",
          "name": "stderr",
          "text": [
            "|          |1/?[00:00<00:00,2520.62it/s]\n",
            "[1104 15:31.44 @doctectionpipe.py:84]  INF  Processing 3_rotated.png\n",
            "[1104 15:31.56 @context.py:133]  INF  ImageLayoutService total: 11.6982 sec.\n",
            "[1104 15:31.56 @context.py:133]  INF  SubImageLayoutService total: 0.0 sec.\n",
            "[1104 15:31.56 @context.py:133]  INF  SubImageLayoutService total: 0.0001 sec.\n",
            "[1104 15:31.56 @context.py:133]  INF  TableSegmentationService total: 0.0001 sec.\n",
            "[1104 15:31.56 @context.py:133]  INF  TableSegmentationRefinementService total: 0.0001 sec.\n",
            "[1104 15:31.58 @context.py:133]  INF  TextExtractionService total: 2.5148 sec.\n",
            "[1104 15:31.58 @context.py:133]  INF  MatchingService total: 0.0018 sec.\n",
            "[1104 15:31.58 @context.py:133]  INF  TextOrderService total: 0.0045 sec.\n"
          ]
        },
        {
          "output_type": "stream",
          "name": "stdout",
          "text": [
            "3_rotated\n",
            "Таблицы не найдены.\n",
            "Текст сохранен в 'output/deepdocetion_results/3_rotated_text.txt'\n",
            "output/rotated/10_rotated\n"
          ]
        },
        {
          "output_type": "stream",
          "name": "stderr",
          "text": [
            "|          |1/?[00:00<00:00,1951.75it/s]\n",
            "[1104 15:31.58 @doctectionpipe.py:84]  INF  Processing 10_rotated.png\n",
            "[1104 15:32.10 @context.py:133]  INF  ImageLayoutService total: 11.3764 sec.\n",
            "[1104 15:32.24 @context.py:133]  INF  SubImageLayoutService total: 13.6999 sec.\n",
            "[1104 15:32.36 @context.py:133]  INF  SubImageLayoutService total: 11.9617 sec.\n",
            "[1104 15:32.36 @context.py:133]  INF  TableSegmentationService total: 0.1533 sec.\n",
            "[1104 15:32.36 @context.py:133]  INF  TableSegmentationRefinementService total: 0.0452 sec.\n",
            "[1104 15:32.37 @context.py:133]  INF  TextExtractionService total: 1.5478 sec.\n",
            "[1104 15:32.37 @context.py:133]  INF  MatchingService total: 0.0033 sec.\n",
            "[1104 15:32.37 @context.py:133]  INF  TextOrderService total: 0.0256 sec.\n",
            "[1104 15:32.41 @view.py:326]  WRN  html construction not possible\n",
            "[1104 15:32.41 @view.py:326]  WRN  html construction not possible\n",
            "[1104 15:32.41 @view.py:326]  WRN  html construction not possible\n",
            "[1104 15:32.41 @view.py:326]  WRN  html construction not possible\n",
            "[1104 15:32.41 @view.py:326]  WRN  html construction not possible\n",
            "[1104 15:32.41 @view.py:326]  WRN  html construction not possible\n",
            "[1104 15:32.41 @view.py:326]  WRN  html construction not possible\n",
            "[1104 15:32.41 @view.py:326]  WRN  html construction not possible\n",
            "[1104 15:32.41 @view.py:326]  WRN  html construction not possible\n",
            "[1104 15:32.41 @view.py:326]  WRN  html construction not possible\n",
            "[1104 15:32.41 @view.py:326]  WRN  html construction not possible\n",
            "[1104 15:32.41 @view.py:326]  WRN  html construction not possible\n",
            "[1104 15:32.41 @view.py:326]  WRN  html construction not possible\n",
            "[1104 15:32.41 @view.py:326]  WRN  html construction not possible\n",
            "[1104 15:32.41 @view.py:326]  WRN  html construction not possible\n",
            "[1104 15:32.41 @view.py:326]  WRN  html construction not possible\n",
            "[1104 15:32.41 @view.py:326]  WRN  html construction not possible\n",
            "[1104 15:32.41 @view.py:326]  WRN  html construction not possible\n",
            "[1104 15:32.41 @view.py:326]  WRN  html construction not possible\n",
            "[1104 15:32.41 @view.py:326]  WRN  html construction not possible\n",
            "[1104 15:32.41 @view.py:326]  WRN  html construction not possible\n",
            "[1104 15:32.41 @view.py:326]  WRN  html construction not possible\n",
            "[1104 15:32.41 @view.py:326]  WRN  html construction not possible\n",
            "[1104 15:32.41 @view.py:326]  WRN  html construction not possible\n",
            "[1104 15:32.41 @view.py:326]  WRN  html construction not possible\n",
            "[1104 15:32.41 @view.py:326]  WRN  html construction not possible\n",
            "[1104 15:32.41 @view.py:326]  WRN  html construction not possible\n",
            "[1104 15:32.41 @view.py:326]  WRN  html construction not possible\n",
            "[1104 15:32.41 @view.py:326]  WRN  html construction not possible\n",
            "[1104 15:32.41 @view.py:326]  WRN  html construction not possible\n",
            "[1104 15:32.41 @view.py:326]  WRN  html construction not possible\n",
            "[1104 15:32.41 @view.py:326]  WRN  html construction not possible\n",
            "[1104 15:32.41 @view.py:326]  WRN  html construction not possible\n",
            "[1104 15:32.41 @view.py:326]  WRN  html construction not possible\n",
            "[1104 15:32.41 @view.py:326]  WRN  html construction not possible\n",
            "[1104 15:32.41 @view.py:326]  WRN  html construction not possible\n",
            "[1104 15:32.41 @view.py:326]  WRN  html construction not possible\n",
            "[1104 15:32.41 @view.py:326]  WRN  html construction not possible\n",
            "[1104 15:32.41 @view.py:326]  WRN  html construction not possible\n",
            "[1104 15:32.41 @view.py:326]  WRN  html construction not possible\n",
            "[1104 15:32.41 @view.py:326]  WRN  html construction not possible\n",
            "[1104 15:32.41 @view.py:326]  WRN  html construction not possible\n",
            "[1104 15:32.41 @view.py:326]  WRN  html construction not possible\n",
            "[1104 15:32.41 @view.py:326]  WRN  html construction not possible\n",
            "[1104 15:32.42 @view.py:326]  WRN  html construction not possible\n",
            "[1104 15:32.42 @view.py:326]  WRN  html construction not possible\n",
            "[1104 15:32.42 @view.py:326]  WRN  html construction not possible\n",
            "[1104 15:32.42 @view.py:326]  WRN  html construction not possible\n",
            "[1104 15:32.42 @view.py:326]  WRN  html construction not possible\n",
            "[1104 15:32.42 @view.py:326]  WRN  html construction not possible\n",
            "[1104 15:32.42 @view.py:326]  WRN  html construction not possible\n",
            "[1104 15:32.42 @view.py:326]  WRN  html construction not possible\n",
            "[1104 15:32.42 @view.py:326]  WRN  html construction not possible\n",
            "[1104 15:32.42 @view.py:326]  WRN  html construction not possible\n",
            "[1104 15:32.42 @view.py:326]  WRN  html construction not possible\n",
            "[1104 15:32.42 @view.py:326]  WRN  html construction not possible\n",
            "[1104 15:32.42 @view.py:326]  WRN  html construction not possible\n",
            "[1104 15:32.42 @view.py:326]  WRN  html construction not possible\n",
            "[1104 15:32.42 @view.py:326]  WRN  html construction not possible\n",
            "[1104 15:32.42 @view.py:326]  WRN  html construction not possible\n",
            "[1104 15:32.42 @view.py:326]  WRN  html construction not possible\n",
            "[1104 15:32.42 @view.py:326]  WRN  html construction not possible\n",
            "[1104 15:32.42 @view.py:326]  WRN  html construction not possible\n",
            "[1104 15:32.42 @view.py:326]  WRN  html construction not possible\n",
            "[1104 15:32.42 @view.py:326]  WRN  html construction not possible\n",
            "[1104 15:32.42 @view.py:326]  WRN  html construction not possible\n",
            "[1104 15:32.42 @view.py:326]  WRN  html construction not possible\n",
            "[1104 15:32.42 @view.py:326]  WRN  html construction not possible\n",
            "[1104 15:32.42 @view.py:326]  WRN  html construction not possible\n",
            "[1104 15:32.42 @view.py:326]  WRN  html construction not possible\n",
            "[1104 15:32.42 @view.py:326]  WRN  html construction not possible\n",
            "[1104 15:32.42 @view.py:326]  WRN  html construction not possible\n",
            "[1104 15:32.42 @view.py:326]  WRN  html construction not possible\n",
            "[1104 15:32.42 @view.py:326]  WRN  html construction not possible\n",
            "[1104 15:32.42 @view.py:326]  WRN  html construction not possible\n",
            "[1104 15:32.42 @view.py:326]  WRN  html construction not possible\n",
            "[1104 15:32.42 @view.py:326]  WRN  html construction not possible\n",
            "[1104 15:32.42 @view.py:326]  WRN  html construction not possible\n",
            "[1104 15:32.42 @view.py:326]  WRN  html construction not possible\n",
            "[1104 15:32.42 @view.py:326]  WRN  html construction not possible\n",
            "[1104 15:32.42 @view.py:326]  WRN  html construction not possible\n",
            "[1104 15:32.42 @view.py:326]  WRN  html construction not possible\n",
            "[1104 15:32.42 @view.py:326]  WRN  html construction not possible\n",
            "[1104 15:32.42 @view.py:326]  WRN  html construction not possible\n",
            "[1104 15:32.42 @view.py:326]  WRN  html construction not possible\n",
            "[1104 15:32.42 @view.py:326]  WRN  html construction not possible\n",
            "[1104 15:32.42 @view.py:326]  WRN  html construction not possible\n",
            "[1104 15:32.42 @view.py:326]  WRN  html construction not possible\n",
            "[1104 15:32.42 @view.py:326]  WRN  html construction not possible\n",
            "[1104 15:32.42 @view.py:326]  WRN  html construction not possible\n",
            "[1104 15:32.42 @view.py:326]  WRN  html construction not possible\n",
            "[1104 15:32.42 @view.py:326]  WRN  html construction not possible\n",
            "[1104 15:32.42 @view.py:326]  WRN  html construction not possible\n",
            "[1104 15:32.42 @view.py:326]  WRN  html construction not possible\n",
            "[1104 15:32.42 @view.py:326]  WRN  html construction not possible\n",
            "[1104 15:32.42 @view.py:326]  WRN  html construction not possible\n",
            "[1104 15:32.42 @view.py:326]  WRN  html construction not possible\n",
            "[1104 15:32.42 @view.py:326]  WRN  html construction not possible\n",
            "[1104 15:32.42 @view.py:326]  WRN  html construction not possible\n",
            "[1104 15:32.42 @view.py:326]  WRN  html construction not possible\n",
            "[1104 15:32.42 @view.py:326]  WRN  html construction not possible\n",
            "[1104 15:32.42 @view.py:326]  WRN  html construction not possible\n",
            "[1104 15:32.42 @view.py:326]  WRN  html construction not possible\n",
            "[1104 15:32.42 @view.py:326]  WRN  html construction not possible\n",
            "[1104 15:32.42 @view.py:326]  WRN  html construction not possible\n",
            "[1104 15:32.42 @view.py:326]  WRN  html construction not possible\n",
            "[1104 15:32.42 @view.py:326]  WRN  html construction not possible\n",
            "[1104 15:32.42 @view.py:326]  WRN  html construction not possible\n"
          ]
        },
        {
          "output_type": "stream",
          "name": "stdout",
          "text": [
            "10_rotated\n",
            "Таблицы сохранены в 'output/deepdocetion_results/10_rotated_tables.html'\n",
            "Текст сохранен в 'output/deepdocetion_results/10_rotated_text.txt'\n",
            "output/rotated/9_rotated\n"
          ]
        },
        {
          "output_type": "stream",
          "name": "stderr",
          "text": [
            "|          |1/?[00:00<00:00,2462.89it/s]\n",
            "[1104 15:32.42 @doctectionpipe.py:84]  INF  Processing 9_rotated.png\n",
            "[1104 15:32.54 @context.py:133]  INF  ImageLayoutService total: 12.4288 sec.\n",
            "[1104 15:32.54 @context.py:133]  INF  SubImageLayoutService total: 0.0001 sec.\n",
            "[1104 15:32.54 @context.py:133]  INF  SubImageLayoutService total: 0.0001 sec.\n",
            "[1104 15:32.54 @context.py:133]  INF  TableSegmentationService total: 0.0001 sec.\n",
            "[1104 15:32.54 @context.py:133]  INF  TableSegmentationRefinementService total: 0.0001 sec.\n",
            "[1104 15:32.58 @context.py:133]  INF  TextExtractionService total: 3.766 sec.\n",
            "[1104 15:32.58 @context.py:133]  INF  MatchingService total: 0.0035 sec.\n",
            "[1104 15:32.58 @context.py:133]  INF  TextOrderService total: 0.0022 sec.\n"
          ]
        },
        {
          "output_type": "stream",
          "name": "stdout",
          "text": [
            "9_rotated\n",
            "Таблицы не найдены.\n",
            "Текст сохранен в 'output/deepdocetion_results/9_rotated_text.txt'\n",
            "output/rotated/7_rotated\n"
          ]
        },
        {
          "output_type": "stream",
          "name": "stderr",
          "text": [
            "|          |1/?[00:00<00:00,2125.85it/s]\n",
            "[1104 15:32.58 @doctectionpipe.py:84]  INF  Processing 7_rotated.png\n",
            "[1104 15:33.11 @context.py:133]  INF  ImageLayoutService total: 12.6579 sec.\n",
            "[1104 15:33.24 @context.py:133]  INF  SubImageLayoutService total: 13.7129 sec.\n",
            "[1104 15:33.36 @context.py:133]  INF  SubImageLayoutService total: 11.0683 sec.\n",
            "[1104 15:33.36 @context.py:133]  INF  TableSegmentationService total: 0.2087 sec.\n",
            "[1104 15:33.36 @context.py:133]  INF  TableSegmentationRefinementService total: 0.0675 sec.\n",
            "[1104 15:33.41 @context.py:133]  INF  TextExtractionService total: 5.1942 sec.\n",
            "[1104 15:33.41 @context.py:133]  INF  MatchingService total: 0.0106 sec.\n",
            "[1104 15:33.41 @context.py:133]  INF  TextOrderService total: 0.0297 sec.\n",
            "[1104 15:33.43 @view.py:326]  WRN  html construction not possible\n",
            "[1104 15:33.43 @view.py:326]  WRN  html construction not possible\n",
            "[1104 15:33.43 @view.py:326]  WRN  html construction not possible\n",
            "[1104 15:33.43 @view.py:326]  WRN  html construction not possible\n",
            "[1104 15:33.43 @view.py:326]  WRN  html construction not possible\n",
            "[1104 15:33.43 @view.py:326]  WRN  html construction not possible\n",
            "[1104 15:33.43 @view.py:326]  WRN  html construction not possible\n",
            "[1104 15:33.43 @view.py:326]  WRN  html construction not possible\n",
            "[1104 15:33.43 @view.py:326]  WRN  html construction not possible\n",
            "[1104 15:33.43 @view.py:326]  WRN  html construction not possible\n",
            "[1104 15:33.43 @view.py:326]  WRN  html construction not possible\n",
            "[1104 15:33.43 @view.py:326]  WRN  html construction not possible\n",
            "[1104 15:33.43 @view.py:326]  WRN  html construction not possible\n",
            "[1104 15:33.43 @view.py:326]  WRN  html construction not possible\n",
            "[1104 15:33.43 @view.py:326]  WRN  html construction not possible\n",
            "[1104 15:33.43 @view.py:326]  WRN  html construction not possible\n",
            "[1104 15:33.43 @view.py:326]  WRN  html construction not possible\n",
            "[1104 15:33.43 @view.py:326]  WRN  html construction not possible\n",
            "[1104 15:33.43 @view.py:326]  WRN  html construction not possible\n",
            "[1104 15:33.43 @view.py:326]  WRN  html construction not possible\n",
            "[1104 15:33.43 @view.py:326]  WRN  html construction not possible\n",
            "[1104 15:33.43 @view.py:326]  WRN  html construction not possible\n",
            "[1104 15:33.43 @view.py:326]  WRN  html construction not possible\n",
            "[1104 15:33.43 @view.py:326]  WRN  html construction not possible\n",
            "[1104 15:33.43 @view.py:326]  WRN  html construction not possible\n",
            "[1104 15:33.43 @view.py:326]  WRN  html construction not possible\n",
            "[1104 15:33.43 @view.py:326]  WRN  html construction not possible\n",
            "[1104 15:33.43 @view.py:326]  WRN  html construction not possible\n",
            "[1104 15:33.43 @view.py:326]  WRN  html construction not possible\n",
            "[1104 15:33.43 @view.py:326]  WRN  html construction not possible\n",
            "[1104 15:33.43 @view.py:326]  WRN  html construction not possible\n",
            "[1104 15:33.43 @view.py:326]  WRN  html construction not possible\n",
            "[1104 15:33.43 @view.py:326]  WRN  html construction not possible\n",
            "[1104 15:33.43 @view.py:326]  WRN  html construction not possible\n",
            "[1104 15:33.43 @view.py:326]  WRN  html construction not possible\n",
            "[1104 15:33.43 @view.py:326]  WRN  html construction not possible\n",
            "[1104 15:33.43 @view.py:326]  WRN  html construction not possible\n",
            "[1104 15:33.43 @view.py:326]  WRN  html construction not possible\n",
            "[1104 15:33.43 @view.py:326]  WRN  html construction not possible\n",
            "[1104 15:33.43 @view.py:326]  WRN  html construction not possible\n",
            "[1104 15:33.43 @view.py:326]  WRN  html construction not possible\n",
            "[1104 15:33.43 @view.py:326]  WRN  html construction not possible\n",
            "[1104 15:33.43 @view.py:326]  WRN  html construction not possible\n",
            "[1104 15:33.43 @view.py:326]  WRN  html construction not possible\n",
            "[1104 15:33.43 @view.py:326]  WRN  html construction not possible\n",
            "[1104 15:33.43 @view.py:326]  WRN  html construction not possible\n",
            "[1104 15:33.43 @view.py:326]  WRN  html construction not possible\n",
            "[1104 15:33.43 @view.py:326]  WRN  html construction not possible\n",
            "[1104 15:33.43 @view.py:326]  WRN  html construction not possible\n",
            "[1104 15:33.43 @view.py:326]  WRN  html construction not possible\n",
            "[1104 15:33.43 @view.py:326]  WRN  html construction not possible\n",
            "[1104 15:33.43 @view.py:326]  WRN  html construction not possible\n",
            "[1104 15:33.43 @view.py:326]  WRN  html construction not possible\n",
            "[1104 15:33.43 @view.py:326]  WRN  html construction not possible\n",
            "[1104 15:33.43 @view.py:326]  WRN  html construction not possible\n",
            "[1104 15:33.43 @view.py:326]  WRN  html construction not possible\n",
            "[1104 15:33.43 @view.py:326]  WRN  html construction not possible\n",
            "[1104 15:33.43 @view.py:326]  WRN  html construction not possible\n",
            "[1104 15:33.43 @view.py:326]  WRN  html construction not possible\n",
            "[1104 15:33.43 @view.py:326]  WRN  html construction not possible\n",
            "[1104 15:33.43 @view.py:326]  WRN  html construction not possible\n",
            "[1104 15:33.43 @view.py:326]  WRN  html construction not possible\n",
            "[1104 15:33.43 @view.py:326]  WRN  html construction not possible\n",
            "[1104 15:33.43 @view.py:326]  WRN  html construction not possible\n",
            "[1104 15:33.43 @view.py:326]  WRN  html construction not possible\n",
            "[1104 15:33.43 @view.py:326]  WRN  html construction not possible\n",
            "[1104 15:33.43 @view.py:326]  WRN  html construction not possible\n",
            "[1104 15:33.43 @view.py:326]  WRN  html construction not possible\n",
            "[1104 15:33.43 @view.py:326]  WRN  html construction not possible\n",
            "[1104 15:33.43 @view.py:326]  WRN  html construction not possible\n",
            "[1104 15:33.43 @view.py:326]  WRN  html construction not possible\n",
            "[1104 15:33.43 @view.py:326]  WRN  html construction not possible\n",
            "[1104 15:33.43 @view.py:326]  WRN  html construction not possible\n",
            "[1104 15:33.43 @view.py:326]  WRN  html construction not possible\n",
            "[1104 15:33.43 @view.py:326]  WRN  html construction not possible\n",
            "[1104 15:33.43 @view.py:326]  WRN  html construction not possible\n",
            "[1104 15:33.43 @view.py:326]  WRN  html construction not possible\n",
            "[1104 15:33.43 @view.py:326]  WRN  html construction not possible\n",
            "[1104 15:33.43 @view.py:326]  WRN  html construction not possible\n",
            "[1104 15:33.43 @view.py:326]  WRN  html construction not possible\n",
            "[1104 15:33.43 @view.py:326]  WRN  html construction not possible\n"
          ]
        },
        {
          "output_type": "stream",
          "name": "stdout",
          "text": [
            "7_rotated\n",
            "Таблицы сохранены в 'output/deepdocetion_results/7_rotated_tables.html'\n",
            "Текст сохранен в 'output/deepdocetion_results/7_rotated_text.txt'\n",
            "output/rotated/1_rotated\n"
          ]
        },
        {
          "output_type": "stream",
          "name": "stderr",
          "text": [
            "|          |1/?[00:00<00:00,1331.10it/s]\n",
            "[1104 15:33.43 @doctectionpipe.py:84]  INF  Processing 1_rotated.png\n",
            "[1104 15:33.56 @context.py:133]  INF  ImageLayoutService total: 12.9837 sec.\n",
            "[1104 15:33.56 @context.py:133]  INF  SubImageLayoutService total: 0.0001 sec.\n",
            "[1104 15:33.56 @context.py:133]  INF  SubImageLayoutService total: 0.0001 sec.\n",
            "[1104 15:33.56 @context.py:133]  INF  TableSegmentationService total: 0.0001 sec.\n",
            "[1104 15:33.56 @context.py:133]  INF  TableSegmentationRefinementService total: 0.0001 sec.\n",
            "[1104 15:34.00 @context.py:133]  INF  TextExtractionService total: 4.4348 sec.\n",
            "[1104 15:34.00 @context.py:133]  INF  MatchingService total: 0.003 sec.\n",
            "[1104 15:34.00 @context.py:133]  INF  TextOrderService total: 0.0054 sec.\n"
          ]
        },
        {
          "output_type": "stream",
          "name": "stdout",
          "text": [
            "1_rotated\n",
            "Таблицы не найдены.\n",
            "Текст сохранен в 'output/deepdocetion_results/1_rotated_text.txt'\n",
            "output/rotated/2_rotated\n"
          ]
        },
        {
          "output_type": "stream",
          "name": "stderr",
          "text": [
            "|          |1/?[00:00<00:00,2700.78it/s]\n",
            "[1104 15:34.01 @doctectionpipe.py:84]  INF  Processing 2_rotated.png\n",
            "[1104 15:34.14 @context.py:133]  INF  ImageLayoutService total: 13.0108 sec.\n",
            "[1104 15:34.29 @context.py:133]  INF  SubImageLayoutService total: 15.5017 sec.\n",
            "[1104 15:34.42 @context.py:133]  INF  SubImageLayoutService total: 12.8985 sec.\n",
            "[1104 15:34.42 @context.py:133]  INF  TableSegmentationService total: 0.2274 sec.\n",
            "[1104 15:34.42 @context.py:133]  INF  TableSegmentationRefinementService total: 0.0952 sec.\n",
            "[1104 15:34.46 @context.py:133]  INF  TextExtractionService total: 4.0666 sec.\n",
            "[1104 15:34.46 @context.py:133]  INF  MatchingService total: 0.0084 sec.\n",
            "[1104 15:34.46 @context.py:133]  INF  TextOrderService total: 0.0456 sec.\n",
            "[1104 15:34.50 @view.py:326]  WRN  html construction not possible\n",
            "[1104 15:34.50 @view.py:326]  WRN  html construction not possible\n",
            "[1104 15:34.50 @view.py:326]  WRN  html construction not possible\n",
            "[1104 15:34.50 @view.py:326]  WRN  html construction not possible\n",
            "[1104 15:34.50 @view.py:326]  WRN  html construction not possible\n",
            "[1104 15:34.50 @view.py:326]  WRN  html construction not possible\n",
            "[1104 15:34.50 @view.py:326]  WRN  html construction not possible\n",
            "[1104 15:34.50 @view.py:326]  WRN  html construction not possible\n",
            "[1104 15:34.50 @view.py:326]  WRN  html construction not possible\n",
            "[1104 15:34.50 @view.py:326]  WRN  html construction not possible\n",
            "[1104 15:34.50 @view.py:326]  WRN  html construction not possible\n",
            "[1104 15:34.50 @view.py:326]  WRN  html construction not possible\n",
            "[1104 15:34.50 @view.py:326]  WRN  html construction not possible\n",
            "[1104 15:34.50 @view.py:326]  WRN  html construction not possible\n",
            "[1104 15:34.50 @view.py:326]  WRN  html construction not possible\n",
            "[1104 15:34.50 @view.py:326]  WRN  html construction not possible\n",
            "[1104 15:34.50 @view.py:326]  WRN  html construction not possible\n",
            "[1104 15:34.50 @view.py:326]  WRN  html construction not possible\n",
            "[1104 15:34.50 @view.py:326]  WRN  html construction not possible\n",
            "[1104 15:34.50 @view.py:326]  WRN  html construction not possible\n",
            "[1104 15:34.50 @view.py:326]  WRN  html construction not possible\n",
            "[1104 15:34.50 @view.py:326]  WRN  html construction not possible\n",
            "[1104 15:34.50 @view.py:326]  WRN  html construction not possible\n",
            "[1104 15:34.50 @view.py:326]  WRN  html construction not possible\n",
            "[1104 15:34.50 @view.py:326]  WRN  html construction not possible\n",
            "[1104 15:34.50 @view.py:326]  WRN  html construction not possible\n",
            "[1104 15:34.50 @view.py:326]  WRN  html construction not possible\n",
            "[1104 15:34.50 @view.py:326]  WRN  html construction not possible\n",
            "[1104 15:34.50 @view.py:326]  WRN  html construction not possible\n",
            "[1104 15:34.50 @view.py:326]  WRN  html construction not possible\n",
            "[1104 15:34.50 @view.py:326]  WRN  html construction not possible\n",
            "[1104 15:34.50 @view.py:326]  WRN  html construction not possible\n",
            "[1104 15:34.50 @view.py:326]  WRN  html construction not possible\n",
            "[1104 15:34.50 @view.py:326]  WRN  html construction not possible\n",
            "[1104 15:34.50 @view.py:326]  WRN  html construction not possible\n",
            "[1104 15:34.50 @view.py:326]  WRN  html construction not possible\n",
            "[1104 15:34.50 @view.py:326]  WRN  html construction not possible\n",
            "[1104 15:34.50 @view.py:326]  WRN  html construction not possible\n",
            "[1104 15:34.50 @view.py:326]  WRN  html construction not possible\n",
            "[1104 15:34.50 @view.py:326]  WRN  html construction not possible\n",
            "[1104 15:34.50 @view.py:326]  WRN  html construction not possible\n",
            "[1104 15:34.50 @view.py:326]  WRN  html construction not possible\n",
            "[1104 15:34.50 @view.py:326]  WRN  html construction not possible\n",
            "[1104 15:34.50 @view.py:326]  WRN  html construction not possible\n",
            "[1104 15:34.50 @view.py:326]  WRN  html construction not possible\n",
            "[1104 15:34.50 @view.py:326]  WRN  html construction not possible\n",
            "[1104 15:34.50 @view.py:326]  WRN  html construction not possible\n",
            "[1104 15:34.50 @view.py:326]  WRN  html construction not possible\n",
            "[1104 15:34.50 @view.py:326]  WRN  html construction not possible\n",
            "[1104 15:34.50 @view.py:326]  WRN  html construction not possible\n",
            "[1104 15:34.50 @view.py:326]  WRN  html construction not possible\n",
            "[1104 15:34.50 @view.py:326]  WRN  html construction not possible\n",
            "[1104 15:34.50 @view.py:326]  WRN  html construction not possible\n",
            "[1104 15:34.50 @view.py:326]  WRN  html construction not possible\n",
            "[1104 15:34.50 @view.py:326]  WRN  html construction not possible\n",
            "[1104 15:34.50 @view.py:326]  WRN  html construction not possible\n",
            "[1104 15:34.50 @view.py:326]  WRN  html construction not possible\n",
            "[1104 15:34.50 @view.py:326]  WRN  html construction not possible\n",
            "[1104 15:34.50 @view.py:326]  WRN  html construction not possible\n",
            "[1104 15:34.50 @view.py:326]  WRN  html construction not possible\n",
            "[1104 15:34.50 @view.py:326]  WRN  html construction not possible\n",
            "[1104 15:34.50 @view.py:326]  WRN  html construction not possible\n",
            "[1104 15:34.50 @view.py:326]  WRN  html construction not possible\n",
            "[1104 15:34.50 @view.py:326]  WRN  html construction not possible\n",
            "[1104 15:34.50 @view.py:326]  WRN  html construction not possible\n",
            "[1104 15:34.50 @view.py:326]  WRN  html construction not possible\n",
            "[1104 15:34.50 @view.py:326]  WRN  html construction not possible\n",
            "[1104 15:34.50 @view.py:326]  WRN  html construction not possible\n",
            "[1104 15:34.50 @view.py:326]  WRN  html construction not possible\n",
            "[1104 15:34.50 @view.py:326]  WRN  html construction not possible\n",
            "[1104 15:34.50 @view.py:326]  WRN  html construction not possible\n",
            "[1104 15:34.50 @view.py:326]  WRN  html construction not possible\n",
            "[1104 15:34.50 @view.py:326]  WRN  html construction not possible\n",
            "[1104 15:34.50 @view.py:326]  WRN  html construction not possible\n",
            "[1104 15:34.50 @view.py:326]  WRN  html construction not possible\n",
            "[1104 15:34.50 @view.py:326]  WRN  html construction not possible\n",
            "[1104 15:34.50 @view.py:326]  WRN  html construction not possible\n",
            "[1104 15:34.50 @view.py:326]  WRN  html construction not possible\n",
            "[1104 15:34.50 @view.py:326]  WRN  html construction not possible\n"
          ]
        },
        {
          "output_type": "stream",
          "name": "stdout",
          "text": [
            "2_rotated\n",
            "Таблицы сохранены в 'output/deepdocetion_results/2_rotated_tables.html'\n",
            "Текст сохранен в 'output/deepdocetion_results/2_rotated_text.txt'\n"
          ]
        }
      ]
    },
    {
      "cell_type": "code",
      "source": [
        "import cv2\n",
        "import easyocr\n",
        "import os\n",
        "\n",
        "# Инициализация EasyOCR\n",
        "reader = easyocr.Reader(['ru'])\n",
        "\n",
        "# Директория с изображениями\n",
        "input_directory = 'output'\n",
        "output_directory = 'output/easy_ocr_output'\n",
        "os.makedirs(output_directory, exist_ok=True)  # Создаем выходную директорию, если её нет\n",
        "\n",
        "# Обработка всех файлов в директории\n",
        "for filename in os.listdir(input_directory):\n",
        "    if filename.endswith(('.jpg', '.jpeg', '.png')):  # Проверяем, что файл - изображение\n",
        "        image_path = os.path.join(input_directory, filename)\n",
        "        image = cv2.imread(image_path)\n",
        "\n",
        "        if image is None:\n",
        "            print(f\"Ошибка: изображение по пути '{image_path}' не найдено.\")\n",
        "            continue\n",
        "\n",
        "        # Распознавание текста на изображении\n",
        "        results = reader.readtext(image)\n",
        "\n",
        "        # Сохранение распознанного текста\n",
        "        recognised_text = [text for (_, text, _) in results]\n",
        "\n",
        "        # Сохранение в файл\n",
        "        base_name = os.path.splitext(filename)[0]\n",
        "        output_file = os.path.join(output_directory, f\"{base_name}_recognised.txt\")\n",
        "        with open(output_file, 'w') as f:\n",
        "            for line in recognised_text:\n",
        "                f.write(line + '\\n')\n",
        "\n",
        "        print(f\"Распознанный текст сохранен в '{output_file}'.\")"
      ],
      "metadata": {
        "colab": {
          "base_uri": "https://localhost:8080/"
        },
        "id": "nUvjGM6S1d8m",
        "outputId": "7eb9b3b0-ae90-4bd2-8a9b-2583bfe0a855"
      },
      "execution_count": 52,
      "outputs": [
        {
          "output_type": "stream",
          "name": "stderr",
          "text": [
            "[1104 15:42.16 @easyocr.py:80]  WRN  Neither CUDA nor MPS are available - defaulting to CPU. Note: This module is much faster with a GPU.\n",
            "[1104 15:42.16 @easyocr.py:251]  WRN  Downloading detection model, please wait. This may take several minutes depending upon your network connection.\n"
          ]
        },
        {
          "output_type": "stream",
          "name": "stdout",
          "text": [
            "Progress: |██████████████████████████████████████████████████| 100.0% Complete"
          ]
        },
        {
          "output_type": "stream",
          "name": "stderr",
          "text": [
            "[1104 15:42.25 @easyocr.py:255]  INF  Download complete\n",
            "[1104 15:42.25 @easyocr.py:176]  WRN  Downloading recognition model, please wait. This may take several minutes depending upon your network connection.\n"
          ]
        },
        {
          "output_type": "stream",
          "name": "stdout",
          "text": [
            "Progress: |██████████████████████████████████████████████████| 100.1% Complete"
          ]
        },
        {
          "output_type": "stream",
          "name": "stderr",
          "text": [
            "[1104 15:42.27 @easyocr.py:180]  INF  Download complete.\n"
          ]
        },
        {
          "output_type": "stream",
          "name": "stdout",
          "text": [
            "Распознанный текст сохранен в 'output/easy_ocr_output/1_recognised.txt'.\n",
            "Распознанный текст сохранен в 'output/easy_ocr_output/6_rotated_recognised.txt'.\n",
            "Распознанный текст сохранен в 'output/easy_ocr_output/6_recognised.txt'.\n",
            "Распознанный текст сохранен в 'output/easy_ocr_output/3_rotated_recognised.txt'.\n",
            "Распознанный текст сохранен в 'output/easy_ocr_output/5_rotated_recognised.txt'.\n",
            "Распознанный текст сохранен в 'output/easy_ocr_output/2_rotated_recognised.txt'.\n",
            "Распознанный текст сохранен в 'output/easy_ocr_output/4_recognised.txt'.\n",
            "Распознанный текст сохранен в 'output/easy_ocr_output/2_recognised.txt'.\n",
            "Распознанный текст сохранен в 'output/easy_ocr_output/8_recognised.txt'.\n",
            "Распознанный текст сохранен в 'output/easy_ocr_output/10_rotated_recognised.txt'.\n",
            "Распознанный текст сохранен в 'output/easy_ocr_output/9_recognised.txt'.\n",
            "Распознанный текст сохранен в 'output/easy_ocr_output/3_recognised.txt'.\n",
            "Распознанный текст сохранен в 'output/easy_ocr_output/8_rotated_recognised.txt'.\n",
            "Распознанный текст сохранен в 'output/easy_ocr_output/10_recognised.txt'.\n",
            "Распознанный текст сохранен в 'output/easy_ocr_output/4_rotated_recognised.txt'.\n",
            "Распознанный текст сохранен в 'output/easy_ocr_output/1_rotated_recognised.txt'.\n",
            "Распознанный текст сохранен в 'output/easy_ocr_output/9_rotated_recognised.txt'.\n",
            "Распознанный текст сохранен в 'output/easy_ocr_output/7_recognised.txt'.\n",
            "Распознанный текст сохранен в 'output/easy_ocr_output/7_rotated_recognised.txt'.\n",
            "Распознанный текст сохранен в 'output/easy_ocr_output/5_recognised.txt'.\n"
          ]
        }
      ]
    },
    {
      "cell_type": "code",
      "source": [
        "!pip install easyocr"
      ],
      "metadata": {
        "colab": {
          "base_uri": "https://localhost:8080/"
        },
        "id": "K0odmk9Y1oCQ",
        "outputId": "eb4ff227-d3e3-444e-fbb0-ecec5d3249d2"
      },
      "execution_count": 51,
      "outputs": [
        {
          "output_type": "stream",
          "name": "stdout",
          "text": [
            "Collecting easyocr\n",
            "  Downloading easyocr-1.7.2-py3-none-any.whl.metadata (10 kB)\n",
            "Requirement already satisfied: torch in /usr/local/lib/python3.10/dist-packages (from easyocr) (2.5.0+cu121)\n",
            "Requirement already satisfied: torchvision>=0.5 in /usr/local/lib/python3.10/dist-packages (from easyocr) (0.20.0+cu121)\n",
            "Requirement already satisfied: opencv-python-headless in /usr/local/lib/python3.10/dist-packages (from easyocr) (4.10.0.84)\n",
            "Requirement already satisfied: scipy in /usr/local/lib/python3.10/dist-packages (from easyocr) (1.13.1)\n",
            "Requirement already satisfied: numpy in /usr/local/lib/python3.10/dist-packages (from easyocr) (1.26.4)\n",
            "Requirement already satisfied: Pillow in /usr/local/lib/python3.10/dist-packages (from easyocr) (10.4.0)\n",
            "Requirement already satisfied: scikit-image in /usr/local/lib/python3.10/dist-packages (from easyocr) (0.24.0)\n",
            "Collecting python-bidi (from easyocr)\n",
            "  Downloading python_bidi-0.6.3-cp310-cp310-manylinux_2_17_x86_64.manylinux2014_x86_64.whl.metadata (4.9 kB)\n",
            "Requirement already satisfied: PyYAML in /usr/local/lib/python3.10/dist-packages (from easyocr) (6.0.2)\n",
            "Requirement already satisfied: Shapely in /usr/local/lib/python3.10/dist-packages (from easyocr) (2.0.6)\n",
            "Requirement already satisfied: pyclipper in /usr/local/lib/python3.10/dist-packages (from easyocr) (1.3.0.post6)\n",
            "Collecting ninja (from easyocr)\n",
            "  Downloading ninja-1.11.1.1-py2.py3-none-manylinux1_x86_64.manylinux_2_5_x86_64.whl.metadata (5.3 kB)\n",
            "Requirement already satisfied: filelock in /usr/local/lib/python3.10/dist-packages (from torch->easyocr) (3.16.1)\n",
            "Requirement already satisfied: typing-extensions>=4.8.0 in /usr/local/lib/python3.10/dist-packages (from torch->easyocr) (4.12.2)\n",
            "Requirement already satisfied: networkx in /usr/local/lib/python3.10/dist-packages (from torch->easyocr) (3.4.2)\n",
            "Requirement already satisfied: jinja2 in /usr/local/lib/python3.10/dist-packages (from torch->easyocr) (3.1.4)\n",
            "Requirement already satisfied: fsspec in /usr/local/lib/python3.10/dist-packages (from torch->easyocr) (2024.10.0)\n",
            "Requirement already satisfied: sympy==1.13.1 in /usr/local/lib/python3.10/dist-packages (from torch->easyocr) (1.13.1)\n",
            "Requirement already satisfied: mpmath<1.4,>=1.1.0 in /usr/local/lib/python3.10/dist-packages (from sympy==1.13.1->torch->easyocr) (1.3.0)\n",
            "Requirement already satisfied: imageio>=2.33 in /usr/local/lib/python3.10/dist-packages (from scikit-image->easyocr) (2.36.0)\n",
            "Requirement already satisfied: tifffile>=2022.8.12 in /usr/local/lib/python3.10/dist-packages (from scikit-image->easyocr) (2024.9.20)\n",
            "Requirement already satisfied: packaging>=21 in /usr/local/lib/python3.10/dist-packages (from scikit-image->easyocr) (24.1)\n",
            "Requirement already satisfied: lazy-loader>=0.4 in /usr/local/lib/python3.10/dist-packages (from scikit-image->easyocr) (0.4)\n",
            "Requirement already satisfied: MarkupSafe>=2.0 in /usr/local/lib/python3.10/dist-packages (from jinja2->torch->easyocr) (3.0.2)\n",
            "Downloading easyocr-1.7.2-py3-none-any.whl (2.9 MB)\n",
            "\u001b[2K   \u001b[90m━━━━━━━━━━━━━━━━━━━━━━━━━━━━━━━━━━━━━━━━\u001b[0m \u001b[32m2.9/2.9 MB\u001b[0m \u001b[31m25.0 MB/s\u001b[0m eta \u001b[36m0:00:00\u001b[0m\n",
            "\u001b[?25hDownloading ninja-1.11.1.1-py2.py3-none-manylinux1_x86_64.manylinux_2_5_x86_64.whl (307 kB)\n",
            "\u001b[2K   \u001b[90m━━━━━━━━━━━━━━━━━━━━━━━━━━━━━━━━━━━━━━━━\u001b[0m \u001b[32m307.2/307.2 kB\u001b[0m \u001b[31m15.0 MB/s\u001b[0m eta \u001b[36m0:00:00\u001b[0m\n",
            "\u001b[?25hDownloading python_bidi-0.6.3-cp310-cp310-manylinux_2_17_x86_64.manylinux2014_x86_64.whl (286 kB)\n",
            "\u001b[2K   \u001b[90m━━━━━━━━━━━━━━━━━━━━━━━━━━━━━━━━━━━━━━━━\u001b[0m \u001b[32m286.8/286.8 kB\u001b[0m \u001b[31m17.8 MB/s\u001b[0m eta \u001b[36m0:00:00\u001b[0m\n",
            "\u001b[?25hInstalling collected packages: python-bidi, ninja, easyocr\n",
            "Successfully installed easyocr-1.7.2 ninja-1.11.1.1 python-bidi-0.6.3\n"
          ]
        }
      ]
    }
  ]
}